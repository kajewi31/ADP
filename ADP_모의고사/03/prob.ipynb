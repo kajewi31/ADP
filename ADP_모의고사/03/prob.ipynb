{
 "cells": [
  {
   "cell_type": "markdown",
   "id": "f4987147",
   "metadata": {},
   "source": [
    "## 1. 머신러닝 (50점)\n",
    "데이터 : 객실 사용 여부 관련 데이터"
   ]
  },
  {
   "cell_type": "code",
   "execution_count": null,
   "id": "d629ade7",
   "metadata": {},
   "outputs": [],
   "source": [
    "import pandas as pd\n",
    "hotel = pd.read_csv('../data/hotel_bookings.csv')"
   ]
  },
  {
   "cell_type": "code",
   "execution_count": null,
   "id": "e9246d14",
   "metadata": {},
   "outputs": [],
   "source": [
    "# (1) 데이터를 탐색하고 탐색 결과를 제시하시오."
   ]
  },
  {
   "cell_type": "code",
   "execution_count": null,
   "id": "bee60136",
   "metadata": {},
   "outputs": [],
   "source": []
  },
  {
   "cell_type": "code",
   "execution_count": null,
   "id": "a0df3ae8",
   "metadata": {},
   "outputs": [],
   "source": [
    "# (2) 결측치를 탐색하고 대체 방법 및 근거를 제시하시오."
   ]
  },
  {
   "cell_type": "code",
   "execution_count": null,
   "id": "65c6253a",
   "metadata": {},
   "outputs": [],
   "source": []
  },
  {
   "cell_type": "code",
   "execution_count": null,
   "id": "aa1a4ce9",
   "metadata": {},
   "outputs": [],
   "source": [
    "#### (3) 데이터 질을 향상시킬 수 있는 방법을 제안하시오."
   ]
  },
  {
   "cell_type": "code",
   "execution_count": null,
   "id": "f844512a",
   "metadata": {},
   "outputs": [],
   "source": []
  },
  {
   "cell_type": "code",
   "execution_count": null,
   "id": "40738d95",
   "metadata": {},
   "outputs": [],
   "source": [
    "# (4) 데이터 불균형을 시각화하여 식별하고 불균형 판단근거를 작성하시오."
   ]
  },
  {
   "cell_type": "code",
   "execution_count": null,
   "id": "26062461",
   "metadata": {},
   "outputs": [],
   "source": []
  },
  {
   "cell_type": "code",
   "execution_count": null,
   "id": "8ba6c830",
   "metadata": {},
   "outputs": [],
   "source": [
    "# (5) 오버 샘플링 기법을 설명하고 비교한 뒤 2개 기법을 선정하고 근거를 제시하시오"
   ]
  },
  {
   "cell_type": "code",
   "execution_count": null,
   "id": "3f0cf219",
   "metadata": {},
   "outputs": [],
   "source": []
  },
  {
   "cell_type": "code",
   "execution_count": null,
   "id": "efcd8503",
   "metadata": {},
   "outputs": [],
   "source": [
    "# (6) 기법을 선정한 이유를 작성하고, 원데이터를 포함해 3개의 데이터 세트를 구성하시오."
   ]
  },
  {
   "cell_type": "code",
   "execution_count": null,
   "id": "cdac85a6",
   "metadata": {},
   "outputs": [],
   "source": []
  },
  {
   "cell_type": "code",
   "execution_count": null,
   "id": "c715eff8",
   "metadata": {},
   "outputs": [],
   "source": [
    "# (7) 오버 샘플링 데이터와 원데이터를 사용해 정확도 측면 모델 하나와 속도 측면의 모델 하나를 선정하고, 그 이유를 설명하시오."
   ]
  },
  {
   "cell_type": "code",
   "execution_count": null,
   "id": "e41411b4",
   "metadata": {},
   "outputs": [],
   "source": []
  },
  {
   "cell_type": "code",
   "execution_count": null,
   "id": "c9d64d72",
   "metadata": {},
   "outputs": [],
   "source": [
    "# (8) 원데이터와 오버 샘플링 데이터를 가지고 각각 분류한 결과를 바탕으로, 오버 샘플링이 성능에 미친 영향에 대해 작성하시오."
   ]
  },
  {
   "cell_type": "code",
   "execution_count": null,
   "id": "a88676e0",
   "metadata": {},
   "outputs": [],
   "source": []
  },
  {
   "cell_type": "markdown",
   "id": "749a3214",
   "metadata": {},
   "source": [
    "### 2. 통계분석 (50점)"
   ]
  },
  {
   "cell_type": "code",
   "execution_count": null,
   "id": "d6d22ea7",
   "metadata": {},
   "outputs": [],
   "source": [
    "# 1. 공장에서는 시제품의 농도(%)가 60이라고 주장하며 품질관리팀에서 10개의 샘플을 뽑았다. 유의수준 5%에서 다음을 검정하시오.\n",
    "x = [52, 50, 62, 75, 26, 45, 62, 35, 57, 14]"
   ]
  },
  {
   "cell_type": "code",
   "execution_count": null,
   "id": "59c43294",
   "metadata": {},
   "outputs": [],
   "source": [
    "# (1) 연구가설, 귀무가설을 작성하시오.\n",
    "H0 = '평균 농도가 60%이다.'\n",
    "H1 = '평균 농도가 60%가 아니다.'"
   ]
  },
  {
   "cell_type": "code",
   "execution_count": null,
   "id": "967f7a04",
   "metadata": {},
   "outputs": [],
   "source": [
    "# (2) 유효한 샘플의 수를 계산하시오.\n"
   ]
  },
  {
   "cell_type": "code",
   "execution_count": null,
   "id": "8bfcad67",
   "metadata": {},
   "outputs": [],
   "source": [
    "# (3) 검정통계량을 구하고 연구가설 채택 여부를 작성하시오."
   ]
  },
  {
   "cell_type": "code",
   "execution_count": null,
   "id": "a50f3738",
   "metadata": {},
   "outputs": [],
   "source": []
  },
  {
   "cell_type": "code",
   "execution_count": null,
   "id": "55a539b0",
   "metadata": {},
   "outputs": [],
   "source": [
    "# 2. 코로나 시계열 데이터로 다음을 수행하시오.\n",
    "import pandas as pd\n",
    "covid = pd.read_csv('../data/서울특별시 코로나19.csv')"
   ]
  },
  {
   "cell_type": "code",
   "execution_count": null,
   "id": "d1c98227",
   "metadata": {},
   "outputs": [],
   "source": [
    "# (1) ACF를 사용해서 distancd를 계산하시오."
   ]
  },
  {
   "cell_type": "code",
   "execution_count": null,
   "id": "40cead90",
   "metadata": {},
   "outputs": [],
   "source": [
    "# (2) 계층적 군집 분석을 위해 덴드로그램을 작성하시오."
   ]
  },
  {
   "cell_type": "code",
   "execution_count": null,
   "id": "98ad0d24",
   "metadata": {},
   "outputs": [],
   "source": [
    "# 3. 사회과학, 자연과학, 공학 세 개 학과의 평점조사표를 보고 학과와 성적이 관계있는지 검정하시오.\n",
    "사회 = [16, 30, 12]\n",
    "자연 = [12, 20, 3]\n",
    "공학 = [18, 13, 14]\n",
    "table = pd.DataFrame({'사회과학': 사회,\n",
    "                     '자연과학': 자연,\n",
    "                      '공학': 공학},\n",
    "                     index=['3.5~4.5', '2.5~3.5', '1.5~2.5'])\n",
    "table"
   ]
  },
  {
   "cell_type": "code",
   "execution_count": null,
   "id": "cd0d1929",
   "metadata": {},
   "outputs": [],
   "source": [
    "# (1) 연구가설, 귀무가설을 작성하시오."
   ]
  },
  {
   "cell_type": "code",
   "execution_count": null,
   "id": "fac40cff",
   "metadata": {},
   "outputs": [],
   "source": [
    "# (2) 학과와 성적이 독립일 때 기댓값을 구하시오."
   ]
  },
  {
   "cell_type": "code",
   "execution_count": null,
   "id": "b86013a1",
   "metadata": {},
   "outputs": [],
   "source": [
    "# (3) 검정통계량을 구하고 연구가설 채택 여부를 작성하시오."
   ]
  }
 ],
 "metadata": {
  "kernelspec": {
   "display_name": "general",
   "language": "python",
   "name": "python3"
  },
  "language_info": {
   "codemirror_mode": {
    "name": "ipython",
    "version": 3
   },
   "file_extension": ".py",
   "mimetype": "text/x-python",
   "name": "python",
   "nbconvert_exporter": "python",
   "pygments_lexer": "ipython3",
   "version": "3.11.5"
  }
 },
 "nbformat": 4,
 "nbformat_minor": 5
}
