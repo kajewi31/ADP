{
 "cells": [
  {
   "cell_type": "markdown",
   "id": "303ff700",
   "metadata": {},
   "source": [
    "## 1. 머신 러닝 (50점)\n",
    "데이터 : 고객 정보, 소비 제품, 구매 채널 관련 데이터"
   ]
  },
  {
   "cell_type": "code",
   "execution_count": null,
   "id": "a0632d1f",
   "metadata": {},
   "outputs": [],
   "source": [
    "# #  예제 데이터 설명 \n",
    "\n",
    "# # 고객 정보 데이터 \n",
    "# * ID: 고객의 고유 식별자\n",
    "# * Year_Birth: 고객의 출생 연도\n",
    "# * Marital_Status: 고객의 결혼 여부\n",
    "# * Income: 고객의 연간 가계 소득\n",
    "# * Kidhome: 고객 가구의 어린이 수\n",
    "# * Teenhome: 고객 가구의 청소년 수\n",
    "\n",
    "# # Products \n",
    "# * MntWines: 지난 2년 동안 와인에 소비한 금액\n",
    "# * MntFruits: 지난 2년 동안 과일에 소비한 금액\n",
    "# * MntMeatProducts: 지난 2년 동안 육류에 소비된 금액\n",
    "# * MntFishProducts: 지난 2년 동안 생선에 소비한 금액\n",
    "# * MntSweetProducts: 지난 2년간 사탕에 소비한 금액\n",
    "\n",
    "# # Place \n",
    "# * NumWebPurchases: 회사 웹사이트를 통해 이루어진 구매 수\n",
    "# * NumCatalogPurchases: 카탈로그를 사용하여 이루어진 구매 수\n",
    "# * NumStorePurchases: 매장에서 직접 구매한 횟수\n",
    "# * NumWebVisitsMonth: 지난 달 회사 웹 사이트 방문 횟수\n",
    "\n",
    "import pandas as pd \n",
    "raw_df = pd.read_csv(\"./../data/26_problem1.csv\")"
   ]
  },
  {
   "cell_type": "code",
   "execution_count": null,
   "id": "e4c43690",
   "metadata": {},
   "outputs": [],
   "source": [
    "# 1. 데이터 전처리 및 군집생성"
   ]
  },
  {
   "cell_type": "code",
   "execution_count": null,
   "id": "bfcdb2bf",
   "metadata": {},
   "outputs": [],
   "source": [
    "# 1-1. 결측치를 확인하고, 결측치 제거하세요. (EDA)"
   ]
  },
  {
   "cell_type": "code",
   "execution_count": null,
   "id": "e9625b0e",
   "metadata": {},
   "outputs": [],
   "source": [
    "# 1-2. 이상치 제거하는 방법을 설명하고, 이상치 제거하고 난 결과를 통계적으로 나타내세요. "
   ]
  },
  {
   "cell_type": "code",
   "execution_count": null,
   "id": "8b1653d7",
   "metadata": {},
   "outputs": [],
   "source": [
    "# 1-3. 전처리한 데이터로 Kmeans, DBSCAN 등 방법으로 군집을 생성하세요. "
   ]
  },
  {
   "cell_type": "code",
   "execution_count": null,
   "id": "25c58525",
   "metadata": {},
   "outputs": [],
   "source": []
  },
  {
   "cell_type": "code",
   "execution_count": null,
   "id": "a5d1ba3e",
   "metadata": {},
   "outputs": [],
   "source": [
    "# 2. 군집분석"
   ]
  },
  {
   "cell_type": "code",
   "execution_count": null,
   "id": "4cea1037",
   "metadata": {},
   "outputs": [],
   "source": [
    "# 2-1. 위에서 생성한 군집들의 특성을 분석하세요. "
   ]
  },
  {
   "cell_type": "code",
   "execution_count": null,
   "id": "66055fc7",
   "metadata": {},
   "outputs": [],
   "source": [
    "# 2-2. 각 군집 별 상품을 추천하세요."
   ]
  },
  {
   "cell_type": "code",
   "execution_count": null,
   "id": "f324ee85",
   "metadata": {},
   "outputs": [],
   "source": [
    "# 2-3. ID가 10870인 고객을 대상으로 상품을 추천하세요."
   ]
  },
  {
   "cell_type": "markdown",
   "id": "a4d5c925",
   "metadata": {},
   "source": [
    "##  2. 통계분석 (50점) "
   ]
  },
  {
   "cell_type": "code",
   "execution_count": null,
   "id": "fde31369",
   "metadata": {},
   "outputs": [],
   "source": [
    "# 1. 한 공장에서 생산된 제품에서 최근 추정 불량률은 90% 였다. \n",
    "# 오차의 한계가 5% 이하가 되도록하는 최소 표본 사이즈를 구하여라."
   ]
  },
  {
   "cell_type": "code",
   "execution_count": null,
   "id": "06bac9a6",
   "metadata": {},
   "outputs": [],
   "source": []
  },
  {
   "cell_type": "code",
   "execution_count": null,
   "id": "ef9ce7c7",
   "metadata": {},
   "outputs": [],
   "source": [
    "# 2. 다음은 1월부터 9월까지의 은의 가격이다\n",
    "import pandas as pd \n",
    "\n",
    "data = pd.read_csv(\"./../data/26_problem4.csv\")\n",
    "data"
   ]
  },
  {
   "cell_type": "code",
   "execution_count": null,
   "id": "d8aa1c8d",
   "metadata": {},
   "outputs": [],
   "source": [
    "# 2-1.  은의 가격 및 이동평균값 3이 설정된 시계열 그래프를 그리세요. "
   ]
  },
  {
   "cell_type": "code",
   "execution_count": null,
   "id": "f5253156",
   "metadata": {},
   "outputs": [],
   "source": [
    "# 2-2.  1월 대비 9월의 은의 가격은 몇 % 올랐는가? (소수점 두번째 자리에서 반올림)"
   ]
  },
  {
   "cell_type": "code",
   "execution_count": null,
   "id": "9bc3e036",
   "metadata": {},
   "outputs": [],
   "source": []
  },
  {
   "cell_type": "code",
   "execution_count": null,
   "id": "97f1f4f5",
   "metadata": {},
   "outputs": [],
   "source": [
    "# 3. 아래 그래프는 A,B,C 자치구별 H 의원에 대한 찬성, 반대 투표 결과이다.자치구별 지지율이 같은지에 대해서 검정하라.\n",
    "raw_df = pd.DataFrame(\n",
    "    [[176, 193, 159],\n",
    "     [124, 107, 141]],\n",
    "    columns=['A', 'B', 'C'],\n",
    "    index=['찬성', '반대']\n",
    ")"
   ]
  },
  {
   "cell_type": "code",
   "execution_count": null,
   "id": "2138fc21",
   "metadata": {},
   "outputs": [],
   "source": []
  },
  {
   "cell_type": "code",
   "execution_count": 2,
   "id": "11e0433d",
   "metadata": {},
   "outputs": [
    {
     "data": {
      "text/html": [
       "<div>\n",
       "<style scoped>\n",
       "    .dataframe tbody tr th:only-of-type {\n",
       "        vertical-align: middle;\n",
       "    }\n",
       "\n",
       "    .dataframe tbody tr th {\n",
       "        vertical-align: top;\n",
       "    }\n",
       "\n",
       "    .dataframe thead th {\n",
       "        text-align: right;\n",
       "    }\n",
       "</style>\n",
       "<table border=\"1\" class=\"dataframe\">\n",
       "  <thead>\n",
       "    <tr style=\"text-align: right;\">\n",
       "      <th></th>\n",
       "      <th>gender</th>\n",
       "      <th>pressure</th>\n",
       "    </tr>\n",
       "  </thead>\n",
       "  <tbody>\n",
       "    <tr>\n",
       "      <th>0</th>\n",
       "      <td>male</td>\n",
       "      <td>106.8</td>\n",
       "    </tr>\n",
       "    <tr>\n",
       "      <th>1</th>\n",
       "      <td>male</td>\n",
       "      <td>100.8</td>\n",
       "    </tr>\n",
       "    <tr>\n",
       "      <th>2</th>\n",
       "      <td>male</td>\n",
       "      <td>84.5</td>\n",
       "    </tr>\n",
       "    <tr>\n",
       "      <th>3</th>\n",
       "      <td>male</td>\n",
       "      <td>104.2</td>\n",
       "    </tr>\n",
       "    <tr>\n",
       "      <th>4</th>\n",
       "      <td>male</td>\n",
       "      <td>107.0</td>\n",
       "    </tr>\n",
       "  </tbody>\n",
       "</table>\n",
       "</div>"
      ],
      "text/plain": [
       "  gender  pressure\n",
       "0   male     106.8\n",
       "1   male     100.8\n",
       "2   male      84.5\n",
       "3   male     104.2\n",
       "4   male     107.0"
      ]
     },
     "execution_count": 2,
     "metadata": {},
     "output_type": "execute_result"
    }
   ],
   "source": [
    "# 4. A학교 남녀 학생들의 평균 혈압 차이가 있는지 여부에 대한 검정하시오.\n",
    "# 단, 남학생과 여학생의 혈압 데이터는 정규분포를 따르며 등분산임을 가정한다\n",
    "import pandas as pd \n",
    "data = pd.read_csv(\"./../data/26_problem6.csv\")\n",
    "data.head()"
   ]
  },
  {
   "cell_type": "code",
   "execution_count": null,
   "id": "a66715a6",
   "metadata": {},
   "outputs": [],
   "source": [
    "# 4-1. 남녀 학생들의 평균 혈압 차이가 있는지에 대해 가설을 설정하시오."
   ]
  },
  {
   "cell_type": "code",
   "execution_count": null,
   "id": "40c2136d",
   "metadata": {},
   "outputs": [],
   "source": [
    "# 4-2. 검정통계량을 구하고 판단하시오."
   ]
  },
  {
   "cell_type": "code",
   "execution_count": null,
   "id": "399860c0",
   "metadata": {},
   "outputs": [],
   "source": [
    "# 4-3. 평균 혈압차의 신뢰구간을 구했을 때, 판단한 결과가 2) 의 결과를 지지하는지 설명하시오."
   ]
  },
  {
   "cell_type": "code",
   "execution_count": null,
   "id": "8eeafbf8",
   "metadata": {},
   "outputs": [],
   "source": []
  },
  {
   "cell_type": "code",
   "execution_count": null,
   "id": "6136c245",
   "metadata": {},
   "outputs": [],
   "source": [
    "# 5. height(키), weight(몸무게), waist(허리둘레) 컬럼을 가진 problem7.csv파일을 가지고 다음을 분석하라\n",
    "# A시의 20대 남성 411명을 임의로 추출하여 키, 몸무게, 허리둘레를 조사하여 기록한 데이터이다.\n",
    "# 이 데이터를 이용하여 20대 남성의 키와 허리둘레가 체중에 영향을 미치는지 알아보시오."
   ]
  },
  {
   "cell_type": "code",
   "execution_count": null,
   "id": "e87871b3",
   "metadata": {},
   "outputs": [],
   "source": [
    "# 5-1. 아래 조건을 참고하여 회귀계수(반올림하여 소수점 두자리)를 구하시오.\n",
    "\n",
    "# * 조건 1: 베이지안 회귀\n",
    "# * 조건 2: 1000번의 burn-in 이후 10,000의 MCMC를 수행\n",
    "# * 조건 3:  회귀계수의 사전분포는 부적절한 균일분포(inproper uniform prior distribution),\n",
    "# * 조건 4: 오차항의 분산의 사전분포는 역감마 분포로 지정. \n",
    "# * 조건 5: 형상(Shape)모수와 척도(Scale)모수는 각각 0.005로 지정."
   ]
  },
  {
   "cell_type": "code",
   "execution_count": null,
   "metadata": {},
   "outputs": [],
   "source": [
    "# 5-2. 위에서 만든 모델을 바탕으로 키 180cm, 허리둘레 85cm인 남성의 몸무게를 추정하라"
   ]
  },
  {
   "cell_type": "code",
   "execution_count": null,
   "id": "c712dc9c",
   "metadata": {},
   "outputs": [],
   "source": []
  }
 ],
 "metadata": {
  "kernelspec": {
   "display_name": "general",
   "language": "python",
   "name": "python3"
  },
  "language_info": {
   "codemirror_mode": {
    "name": "ipython",
    "version": 3
   },
   "file_extension": ".py",
   "mimetype": "text/x-python",
   "name": "python",
   "nbconvert_exporter": "python",
   "pygments_lexer": "ipython3",
   "version": "3.11.5"
  },
  "toc": {
   "base_numbering": 1,
   "nav_menu": {},
   "number_sections": false,
   "sideBar": true,
   "skip_h1_title": false,
   "title_cell": "Table of Contents",
   "title_sidebar": "Contents",
   "toc_cell": false,
   "toc_position": {
    "height": "calc(100% - 180px)",
    "left": "10px",
    "top": "150px",
    "width": "165px"
   },
   "toc_section_display": true,
   "toc_window_display": false
  }
 },
 "nbformat": 4,
 "nbformat_minor": 5
}
