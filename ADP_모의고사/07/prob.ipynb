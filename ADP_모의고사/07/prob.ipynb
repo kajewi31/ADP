{
 "cells": [
  {
   "cell_type": "markdown",
   "id": "294a1576",
   "metadata": {},
   "source": [
    "## 1. 머신 러닝 (50+20점)\n",
    "데이터 설명 : 주택 계약 관련 데이터"
   ]
  },
  {
   "cell_type": "code",
   "execution_count": 4,
   "id": "ff78606e",
   "metadata": {},
   "outputs": [],
   "source": [
    "import pandas as pd\n",
    "raw_df = pd.read_csv('./../data/29_problem1.csv', encoding='cp949')"
   ]
  },
  {
   "cell_type": "code",
   "execution_count": null,
   "id": "f11bfc34",
   "metadata": {},
   "outputs": [],
   "source": [
    "# 1-1. 각 계약자 고유번호를 기준으로 가장 최신의 거주연도만 포함하는 데이터 프레임을 만드시오."
   ]
  },
  {
   "cell_type": "code",
   "execution_count": null,
   "id": "71236d90",
   "metadata": {},
   "outputs": [],
   "source": [
    "# 1-2. 1-1의 데이터로 EDA를 진행하고 결측치를 처리하시오."
   ]
  },
  {
   "cell_type": "code",
   "execution_count": null,
   "id": "32dfce55",
   "metadata": {},
   "outputs": [],
   "source": [
    "# 1-3. 1-2의 데이터에서 이상치를 처리하시오."
   ]
  },
  {
   "cell_type": "code",
   "execution_count": null,
   "id": "f34ad94e",
   "metadata": {},
   "outputs": [],
   "source": [
    "# 1-4. 1-3의 데이터에서 재계약 횟수의 중앙값을 기준으로 중앙값보다 크거나 같으면 High, 작으면 Low로 renewal_h/l 변수를 생성하시오."
   ]
  },
  {
   "cell_type": "code",
   "execution_count": null,
   "id": "ecff9648",
   "metadata": {},
   "outputs": [],
   "source": [
    "# 1-5. 1-4의 데이터로 차원 축소하고 차원축소가 필요한 이유를 논하시오.\n",
    "# 차원축소가 불필요하다고 판단되는 경우, 차원을 축소하지 않되 그 근거를 논하시오."
   ]
  },
  {
   "cell_type": "code",
   "execution_count": null,
   "id": "09c9744f",
   "metadata": {},
   "outputs": [],
   "source": [
    "# 1-6. 1-4의 데이터의 renewal_hl 변수를 기준으로 데이터를 나누고, 각 데이터의 특징을 서술하시오."
   ]
  },
  {
   "cell_type": "code",
   "execution_count": null,
   "id": "1db21743",
   "metadata": {},
   "outputs": [],
   "source": [
    "# 1-7. 재계약횟수를 종속변수로 하는 회귀분석을 두 가지 이상의 방법론을 통해 수행하고 최종 모델을 결정하시오."
   ]
  },
  {
   "cell_type": "code",
   "execution_count": null,
   "id": "07366cca",
   "metadata": {},
   "outputs": [],
   "source": [
    "# 1-8. 최종 채택한 모델에서 각각 유의하게 작용하는 변수를 확인하고 설명하시오."
   ]
  },
  {
   "cell_type": "code",
   "execution_count": null,
   "id": "3cc0fbc1",
   "metadata": {},
   "outputs": [],
   "source": [
    "# 1-9. 해당 분석결과로 얻을 수 있는 인사이트를 제시하시오."
   ]
  },
  {
   "cell_type": "markdown",
   "id": "c8d7e0a9",
   "metadata": {},
   "source": [
    "## 1. 머신 러닝 (50+20점)\n",
    "데이터 설명 : 야구 경기 데이터"
   ]
  },
  {
   "cell_type": "code",
   "execution_count": 6,
   "id": "5c490b72",
   "metadata": {},
   "outputs": [],
   "source": [
    "import pandas as pd\n",
    "raw_df = pd.read_csv('./../data/29_problem2.csv')"
   ]
  },
  {
   "cell_type": "code",
   "execution_count": null,
   "id": "9a5bac4a",
   "metadata": {},
   "outputs": [],
   "source": [
    "# 2-1 회차별로 1번 타자의 출루[1,2,3루타와 사사구(볼넷, 몸에 맞는공)]가 있는 경우에 대해\n",
    "# 득점이 발생했는지 확인하는 분석을 위한 전처리 과정을 수행하시오\n",
    "# (단, 첫 번째 혹은 두 번째 타자가 홈런을 친 경우는 해당 회차 데이터는 제외)"
   ]
  },
  {
   "cell_type": "code",
   "execution_count": null,
   "id": "99a84222",
   "metadata": {},
   "outputs": [],
   "source": [
    "# 2-2 2-1의 데이터에 대해 Logistic Regression을 적용하고 2번 타자의 희생번트 여부에 대한 회귀계수 검정을 적용하시오."
   ]
  },
  {
   "cell_type": "code",
   "execution_count": null,
   "id": "2d809d8c",
   "metadata": {},
   "outputs": [],
   "source": [
    "# 2-3 SMOTE(random_state=0)를 적용하여 Data Imbalance를 해결하시오."
   ]
  },
  {
   "cell_type": "code",
   "execution_count": null,
   "id": "ad96338e",
   "metadata": {},
   "outputs": [],
   "source": [
    "# 2-4 2-3의 데이터에 Logistic Regression을 적용하고 결과를 분석하시오."
   ]
  },
  {
   "cell_type": "markdown",
   "id": "8172900c",
   "metadata": {},
   "source": [
    "##  2. 통계분석 (50점) "
   ]
  },
  {
   "cell_type": "code",
   "execution_count": null,
   "id": "9f921880",
   "metadata": {},
   "outputs": [],
   "source": [
    "# 1. 제품 A의 불량률은 0.03이다. 25개의 제품을 뽑았을 때 3개가 불량일 확률을 구하시오.\n",
    "# (소수점 다섯째 자리에서 반올림)"
   ]
  },
  {
   "cell_type": "code",
   "execution_count": null,
   "id": "6b28327c",
   "metadata": {},
   "outputs": [],
   "source": []
  },
  {
   "cell_type": "code",
   "execution_count": 7,
   "id": "2385ea85",
   "metadata": {},
   "outputs": [],
   "source": [
    "# 2. 해당하는 데이터를 분석하여 답하시오.\n",
    "import pandas as pd\n",
    "raw_df = pd.read_csv('./../data/29_problem3.csv')"
   ]
  },
  {
   "cell_type": "code",
   "execution_count": null,
   "id": "99ede534",
   "metadata": {},
   "outputs": [],
   "source": [
    "# 2-1. C사 생산 제품 1000개 중 양품이 600개, D사 생산 제품 500개 중 양품이 200개이다. 두 회사의 양품률 차이가 있는지 검정하시오."
   ]
  },
  {
   "cell_type": "code",
   "execution_count": null,
   "id": "6bae6874",
   "metadata": {},
   "outputs": [],
   "source": [
    "# 2-2. 각 차종별 범퍼 파손의 정도에 차이가 유의한지 검정하시오."
   ]
  },
  {
   "cell_type": "code",
   "execution_count": null,
   "id": "ec0b8811",
   "metadata": {},
   "outputs": [],
   "source": [
    "# 2-3. 귀무가설을 채택한다면 그 의미를 해석하고, 귀무가설을 기가하였다면 사후분석을 시행하시오."
   ]
  },
  {
   "cell_type": "code",
   "execution_count": null,
   "id": "6d99450c",
   "metadata": {},
   "outputs": [],
   "source": []
  },
  {
   "cell_type": "code",
   "execution_count": null,
   "id": "c078b194",
   "metadata": {},
   "outputs": [],
   "source": [
    "# 3. L1,L2,L3 세 개의 생산라인에서 가각 13%, 37%, 50%를 생산하며\n",
    "# 각각 1.1%, 2.1%, 3.3% 불량률을 갖는다. 불량 제품이 나왔을 때 L1 라인에서 생산되었을 확률을 구하시오.\n",
    "# (소수점 둘째자리에서 반올림)"
   ]
  }
 ],
 "metadata": {
  "kernelspec": {
   "display_name": "general",
   "language": "python",
   "name": "python3"
  },
  "language_info": {
   "codemirror_mode": {
    "name": "ipython",
    "version": 3
   },
   "file_extension": ".py",
   "mimetype": "text/x-python",
   "name": "python",
   "nbconvert_exporter": "python",
   "pygments_lexer": "ipython3",
   "version": "3.11.5"
  },
  "toc": {
   "base_numbering": 1,
   "nav_menu": {},
   "number_sections": false,
   "sideBar": true,
   "skip_h1_title": false,
   "title_cell": "Table of Contents",
   "title_sidebar": "Contents",
   "toc_cell": false,
   "toc_position": {
    "height": "calc(100% - 180px)",
    "left": "10px",
    "top": "150px",
    "width": "284.444px"
   },
   "toc_section_display": true,
   "toc_window_display": false
  }
 },
 "nbformat": 4,
 "nbformat_minor": 5
}
