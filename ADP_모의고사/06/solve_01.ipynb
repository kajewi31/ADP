{
 "cells": [
  {
   "cell_type": "markdown",
   "id": "294a1576",
   "metadata": {},
   "source": [
    "## 1. 머신 러닝 (50점)\n",
    "데이터 설명 : 학생의 결석횟수 등급을 예측하기 위한 예제 데이터이다."
   ]
  },
  {
   "cell_type": "code",
   "execution_count": 1,
   "id": "ff78606e",
   "metadata": {},
   "outputs": [
    {
     "data": {
      "text/html": [
       "<div>\n",
       "<style scoped>\n",
       "    .dataframe tbody tr th:only-of-type {\n",
       "        vertical-align: middle;\n",
       "    }\n",
       "\n",
       "    .dataframe tbody tr th {\n",
       "        vertical-align: top;\n",
       "    }\n",
       "\n",
       "    .dataframe thead th {\n",
       "        text-align: right;\n",
       "    }\n",
       "</style>\n",
       "<table border=\"1\" class=\"dataframe\">\n",
       "  <thead>\n",
       "    <tr style=\"text-align: right;\">\n",
       "      <th></th>\n",
       "      <th>school</th>\n",
       "      <th>sex</th>\n",
       "      <th>age</th>\n",
       "      <th>address</th>\n",
       "      <th>famsize</th>\n",
       "      <th>Pstatus</th>\n",
       "      <th>Medu</th>\n",
       "      <th>Fedu</th>\n",
       "      <th>reason</th>\n",
       "      <th>guardian</th>\n",
       "      <th>traveltime</th>\n",
       "      <th>studytime</th>\n",
       "      <th>failures</th>\n",
       "      <th>paid</th>\n",
       "      <th>activities</th>\n",
       "      <th>famrel</th>\n",
       "      <th>freetime</th>\n",
       "      <th>absences_grade</th>\n",
       "    </tr>\n",
       "  </thead>\n",
       "  <tbody>\n",
       "    <tr>\n",
       "      <th>0</th>\n",
       "      <td>GP</td>\n",
       "      <td>F</td>\n",
       "      <td>18</td>\n",
       "      <td>U</td>\n",
       "      <td>GT3</td>\n",
       "      <td>A</td>\n",
       "      <td>4</td>\n",
       "      <td>4</td>\n",
       "      <td>course</td>\n",
       "      <td>mother</td>\n",
       "      <td>2</td>\n",
       "      <td>2</td>\n",
       "      <td>0</td>\n",
       "      <td>no</td>\n",
       "      <td>no</td>\n",
       "      <td>4</td>\n",
       "      <td>3</td>\n",
       "      <td>3.0</td>\n",
       "    </tr>\n",
       "    <tr>\n",
       "      <th>1</th>\n",
       "      <td>GP</td>\n",
       "      <td>F</td>\n",
       "      <td>17</td>\n",
       "      <td>U</td>\n",
       "      <td>GT3</td>\n",
       "      <td>T</td>\n",
       "      <td>1</td>\n",
       "      <td>1</td>\n",
       "      <td>course</td>\n",
       "      <td>father</td>\n",
       "      <td>1</td>\n",
       "      <td>2</td>\n",
       "      <td>0</td>\n",
       "      <td>no</td>\n",
       "      <td>no</td>\n",
       "      <td>5</td>\n",
       "      <td>3</td>\n",
       "      <td>2.0</td>\n",
       "    </tr>\n",
       "    <tr>\n",
       "      <th>2</th>\n",
       "      <td>GP</td>\n",
       "      <td>F</td>\n",
       "      <td>15</td>\n",
       "      <td>U</td>\n",
       "      <td>LE3</td>\n",
       "      <td>T</td>\n",
       "      <td>1</td>\n",
       "      <td>1</td>\n",
       "      <td>other</td>\n",
       "      <td>mother</td>\n",
       "      <td>1</td>\n",
       "      <td>2</td>\n",
       "      <td>3</td>\n",
       "      <td>yes</td>\n",
       "      <td>no</td>\n",
       "      <td>4</td>\n",
       "      <td>3</td>\n",
       "      <td>4.0</td>\n",
       "    </tr>\n",
       "    <tr>\n",
       "      <th>3</th>\n",
       "      <td>GP</td>\n",
       "      <td>F</td>\n",
       "      <td>15</td>\n",
       "      <td>U</td>\n",
       "      <td>GT3</td>\n",
       "      <td>T</td>\n",
       "      <td>4</td>\n",
       "      <td>2</td>\n",
       "      <td>home</td>\n",
       "      <td>mother</td>\n",
       "      <td>1</td>\n",
       "      <td>3</td>\n",
       "      <td>0</td>\n",
       "      <td>yes</td>\n",
       "      <td>yes</td>\n",
       "      <td>3</td>\n",
       "      <td>2</td>\n",
       "      <td>1.0</td>\n",
       "    </tr>\n",
       "    <tr>\n",
       "      <th>4</th>\n",
       "      <td>GP</td>\n",
       "      <td>F</td>\n",
       "      <td>16</td>\n",
       "      <td>U</td>\n",
       "      <td>GT3</td>\n",
       "      <td>T</td>\n",
       "      <td>3</td>\n",
       "      <td>3</td>\n",
       "      <td>home</td>\n",
       "      <td>father</td>\n",
       "      <td>1</td>\n",
       "      <td>2</td>\n",
       "      <td>0</td>\n",
       "      <td>yes</td>\n",
       "      <td>no</td>\n",
       "      <td>4</td>\n",
       "      <td>3</td>\n",
       "      <td>2.0</td>\n",
       "    </tr>\n",
       "  </tbody>\n",
       "</table>\n",
       "</div>"
      ],
      "text/plain": [
       "  school sex  age address famsize Pstatus  Medu  Fedu  reason guardian  \\\n",
       "0     GP   F   18       U     GT3       A     4     4  course   mother   \n",
       "1     GP   F   17       U     GT3       T     1     1  course   father   \n",
       "2     GP   F   15       U     LE3       T     1     1   other   mother   \n",
       "3     GP   F   15       U     GT3       T     4     2    home   mother   \n",
       "4     GP   F   16       U     GT3       T     3     3    home   father   \n",
       "\n",
       "   traveltime  studytime  failures paid activities  famrel  freetime  \\\n",
       "0           2          2         0   no         no       4         3   \n",
       "1           1          2         0   no         no       5         3   \n",
       "2           1          2         3  yes         no       4         3   \n",
       "3           1          3         0  yes        yes       3         2   \n",
       "4           1          2         0  yes         no       4         3   \n",
       "\n",
       "   absences_grade  \n",
       "0             3.0  \n",
       "1             2.0  \n",
       "2             4.0  \n",
       "3             1.0  \n",
       "4             2.0  "
      ]
     },
     "execution_count": 1,
     "metadata": {},
     "output_type": "execute_result"
    }
   ],
   "source": [
    "import pandas as pd\n",
    "raw_df = pd.read_csv('./../data/28_problem1.csv')\n",
    "raw_df.head()"
   ]
  },
  {
   "cell_type": "code",
   "execution_count": 2,
   "id": "e181d936",
   "metadata": {},
   "outputs": [],
   "source": [
    "df = raw_df.copy()\n",
    "target_col = 'absences_grade'"
   ]
  },
  {
   "cell_type": "code",
   "execution_count": 3,
   "id": "f11bfc34",
   "metadata": {},
   "outputs": [],
   "source": [
    "# 1. 데이터 전처리 및 시각화"
   ]
  },
  {
   "cell_type": "code",
   "execution_count": 4,
   "id": "71236d90",
   "metadata": {},
   "outputs": [],
   "source": [
    "# 1-1. EDA를 진행하고, 차원축소의 필요성이 있는지 판단하시오.\n",
    "import matplotlib.pyplot as plt\n",
    "import seaborn as sns"
   ]
  },
  {
   "cell_type": "code",
   "execution_count": 5,
   "id": "7dad7772",
   "metadata": {},
   "outputs": [],
   "source": [
    "# General EDA"
   ]
  },
  {
   "cell_type": "code",
   "execution_count": 6,
   "id": "98c91a7b",
   "metadata": {},
   "outputs": [
    {
     "name": "stdout",
     "output_type": "stream",
     "text": [
      "<class 'pandas.core.frame.DataFrame'>\n",
      "RangeIndex: 395 entries, 0 to 394\n",
      "Data columns (total 18 columns):\n",
      " #   Column          Non-Null Count  Dtype  \n",
      "---  ------          --------------  -----  \n",
      " 0   school          395 non-null    object \n",
      " 1   sex             395 non-null    object \n",
      " 2   age             395 non-null    int64  \n",
      " 3   address         395 non-null    object \n",
      " 4   famsize         395 non-null    object \n",
      " 5   Pstatus         395 non-null    object \n",
      " 6   Medu            395 non-null    int64  \n",
      " 7   Fedu            395 non-null    int64  \n",
      " 8   reason          395 non-null    object \n",
      " 9   guardian        395 non-null    object \n",
      " 10  traveltime      395 non-null    int64  \n",
      " 11  studytime       395 non-null    int64  \n",
      " 12  failures        395 non-null    int64  \n",
      " 13  paid            395 non-null    object \n",
      " 14  activities      395 non-null    object \n",
      " 15  famrel          395 non-null    int64  \n",
      " 16  freetime        395 non-null    int64  \n",
      " 17  absences_grade  380 non-null    float64\n",
      "dtypes: float64(1), int64(8), object(9)\n",
      "memory usage: 55.7+ KB\n"
     ]
    }
   ],
   "source": [
    "'''\n",
    "1. absences_grade에 Null 값이 존재한다.\n",
    "    -> 이후 결측치 처리를 해주어야 한다.\n",
    "    -> 다만, target column에 결측치가 존재하는 경우이기 때문에, 해당 행을 삭제하는 것이 좋을 수 있다.\n",
    "    \n",
    "2. 상당히 많은 object type의 데이터가 존재한다.\n",
    "    이는 이후 인코딩 처리를 해주어야하는데, 이 과정에서 차원이 증가할 수 있다.\n",
    "    따라서, 차원축소의 필요할 수 도 있다.\n",
    "''' \n",
    "df.info()"
   ]
  },
  {
   "cell_type": "code",
   "execution_count": 7,
   "id": "f06f7d98",
   "metadata": {},
   "outputs": [
    {
     "data": {
      "text/html": [
       "<div>\n",
       "<style scoped>\n",
       "    .dataframe tbody tr th:only-of-type {\n",
       "        vertical-align: middle;\n",
       "    }\n",
       "\n",
       "    .dataframe tbody tr th {\n",
       "        vertical-align: top;\n",
       "    }\n",
       "\n",
       "    .dataframe thead th {\n",
       "        text-align: right;\n",
       "    }\n",
       "</style>\n",
       "<table border=\"1\" class=\"dataframe\">\n",
       "  <thead>\n",
       "    <tr style=\"text-align: right;\">\n",
       "      <th></th>\n",
       "      <th>age</th>\n",
       "      <th>Medu</th>\n",
       "      <th>Fedu</th>\n",
       "      <th>traveltime</th>\n",
       "      <th>studytime</th>\n",
       "      <th>failures</th>\n",
       "      <th>famrel</th>\n",
       "      <th>freetime</th>\n",
       "      <th>absences_grade</th>\n",
       "    </tr>\n",
       "  </thead>\n",
       "  <tbody>\n",
       "    <tr>\n",
       "      <th>count</th>\n",
       "      <td>395.000000</td>\n",
       "      <td>395.000000</td>\n",
       "      <td>395.000000</td>\n",
       "      <td>395.000000</td>\n",
       "      <td>395.000000</td>\n",
       "      <td>395.000000</td>\n",
       "      <td>395.000000</td>\n",
       "      <td>395.000000</td>\n",
       "      <td>380.000000</td>\n",
       "    </tr>\n",
       "    <tr>\n",
       "      <th>mean</th>\n",
       "      <td>16.696203</td>\n",
       "      <td>2.749367</td>\n",
       "      <td>2.521519</td>\n",
       "      <td>1.448101</td>\n",
       "      <td>2.035443</td>\n",
       "      <td>0.334177</td>\n",
       "      <td>3.944304</td>\n",
       "      <td>3.235443</td>\n",
       "      <td>2.184211</td>\n",
       "    </tr>\n",
       "    <tr>\n",
       "      <th>std</th>\n",
       "      <td>1.276043</td>\n",
       "      <td>1.094735</td>\n",
       "      <td>1.088201</td>\n",
       "      <td>0.697505</td>\n",
       "      <td>0.839240</td>\n",
       "      <td>0.743651</td>\n",
       "      <td>0.896659</td>\n",
       "      <td>0.998862</td>\n",
       "      <td>1.424536</td>\n",
       "    </tr>\n",
       "    <tr>\n",
       "      <th>min</th>\n",
       "      <td>15.000000</td>\n",
       "      <td>0.000000</td>\n",
       "      <td>0.000000</td>\n",
       "      <td>1.000000</td>\n",
       "      <td>1.000000</td>\n",
       "      <td>0.000000</td>\n",
       "      <td>1.000000</td>\n",
       "      <td>1.000000</td>\n",
       "      <td>1.000000</td>\n",
       "    </tr>\n",
       "    <tr>\n",
       "      <th>25%</th>\n",
       "      <td>16.000000</td>\n",
       "      <td>2.000000</td>\n",
       "      <td>2.000000</td>\n",
       "      <td>1.000000</td>\n",
       "      <td>1.000000</td>\n",
       "      <td>0.000000</td>\n",
       "      <td>4.000000</td>\n",
       "      <td>3.000000</td>\n",
       "      <td>1.000000</td>\n",
       "    </tr>\n",
       "    <tr>\n",
       "      <th>50%</th>\n",
       "      <td>17.000000</td>\n",
       "      <td>3.000000</td>\n",
       "      <td>2.000000</td>\n",
       "      <td>1.000000</td>\n",
       "      <td>2.000000</td>\n",
       "      <td>0.000000</td>\n",
       "      <td>4.000000</td>\n",
       "      <td>3.000000</td>\n",
       "      <td>2.000000</td>\n",
       "    </tr>\n",
       "    <tr>\n",
       "      <th>75%</th>\n",
       "      <td>18.000000</td>\n",
       "      <td>4.000000</td>\n",
       "      <td>3.000000</td>\n",
       "      <td>2.000000</td>\n",
       "      <td>2.000000</td>\n",
       "      <td>0.000000</td>\n",
       "      <td>5.000000</td>\n",
       "      <td>4.000000</td>\n",
       "      <td>3.000000</td>\n",
       "    </tr>\n",
       "    <tr>\n",
       "      <th>max</th>\n",
       "      <td>22.000000</td>\n",
       "      <td>4.000000</td>\n",
       "      <td>4.000000</td>\n",
       "      <td>4.000000</td>\n",
       "      <td>4.000000</td>\n",
       "      <td>3.000000</td>\n",
       "      <td>5.000000</td>\n",
       "      <td>5.000000</td>\n",
       "      <td>5.000000</td>\n",
       "    </tr>\n",
       "  </tbody>\n",
       "</table>\n",
       "</div>"
      ],
      "text/plain": [
       "              age        Medu        Fedu  traveltime   studytime    failures  \\\n",
       "count  395.000000  395.000000  395.000000  395.000000  395.000000  395.000000   \n",
       "mean    16.696203    2.749367    2.521519    1.448101    2.035443    0.334177   \n",
       "std      1.276043    1.094735    1.088201    0.697505    0.839240    0.743651   \n",
       "min     15.000000    0.000000    0.000000    1.000000    1.000000    0.000000   \n",
       "25%     16.000000    2.000000    2.000000    1.000000    1.000000    0.000000   \n",
       "50%     17.000000    3.000000    2.000000    1.000000    2.000000    0.000000   \n",
       "75%     18.000000    4.000000    3.000000    2.000000    2.000000    0.000000   \n",
       "max     22.000000    4.000000    4.000000    4.000000    4.000000    3.000000   \n",
       "\n",
       "           famrel    freetime  absences_grade  \n",
       "count  395.000000  395.000000      380.000000  \n",
       "mean     3.944304    3.235443        2.184211  \n",
       "std      0.896659    0.998862        1.424536  \n",
       "min      1.000000    1.000000        1.000000  \n",
       "25%      4.000000    3.000000        1.000000  \n",
       "50%      4.000000    3.000000        2.000000  \n",
       "75%      5.000000    4.000000        3.000000  \n",
       "max      5.000000    5.000000        5.000000  "
      ]
     },
     "execution_count": 7,
     "metadata": {},
     "output_type": "execute_result"
    }
   ],
   "source": [
    "'''\n",
    "Numeric data는 대체로 유사한 scale을 가지고 있다.\n",
    "'''\n",
    "df.describe()"
   ]
  },
  {
   "cell_type": "code",
   "execution_count": 8,
   "id": "244d7ba6",
   "metadata": {},
   "outputs": [
    {
     "data": {
      "image/png": "[encoded data removed]",
      "text/plain": [
       "<Figure size 2000x1000 with 9 Axes>"
      ]
     },
     "metadata": {},
     "output_type": "display_data"
    }
   ],
   "source": [
    "# Object type data EDA\n",
    "# 기본적으로 모든 데이터는 서열형 보다는 명목형에 가까운 성향을 띄고 있다.\n",
    "# 따라서 one-hot encoding을 통해 처리하는 것이 좋아 보인다.\n",
    "\n",
    "object_columns = df.select_dtypes(include='object').columns\n",
    "fig, axes = plt.subplots(3, 3, figsize=(20, 10))\n",
    "for idx, object_column in enumerate(object_columns):\n",
    "    row, col = idx // 3, idx % 3\n",
    "    sns.countplot(x=object_column, data=df, ax=axes[row, col])"
   ]
  },
  {
   "cell_type": "code",
   "execution_count": 9,
   "id": "3f9d48c5",
   "metadata": {},
   "outputs": [
    {
     "data": {
      "text/plain": [
       "<Axes: >"
      ]
     },
     "execution_count": 9,
     "metadata": {},
     "output_type": "execute_result"
    },
    {
     "data": {
      "image/png": "[encoded data removed]",
      "text/plain": [
       "<Figure size 640x480 with 2 Axes>"
      ]
     },
     "metadata": {},
     "output_type": "display_data"
    }
   ],
   "source": [
    "# Object type data EDA\n",
    "# 특별히 상관관계가 유의미한 것으로 보이는 데이터는 없어 보인다.\n",
    "number_cols = df.select_dtypes(include='number').columns\n",
    "\n",
    "sns.heatmap(df.loc[:, number_cols].corr(), annot=True, cmap='coolwarm', fmt='.2f')"
   ]
  },
  {
   "cell_type": "code",
   "execution_count": 10,
   "id": "32dfce55",
   "metadata": {},
   "outputs": [],
   "source": [
    "# 1-2. 데이터 품질을 개선할 수 있는 방법을 제안하고 데이터세트를 재생성하시오.\n",
    "# 1. object type one-hot encoding\n",
    "df = pd.concat([\n",
    "    df.drop(object_columns, axis=1),\n",
    "    pd.get_dummies(df[object_columns]).astype(int)\n",
    "], axis=1)\n",
    "\n",
    "# 2. 결측치 처리\n",
    "# -> 결측치를 보간할 수도 있지만, target column에 결측치가 존재하는 경우이므로 해당 행을 삭제하는 것이 좋아 보인다.\n",
    "df = df[df['absences_grade'].notna()]"
   ]
  },
  {
   "cell_type": "code",
   "execution_count": 11,
   "id": "f34ad94e",
   "metadata": {},
   "outputs": [
    {
     "data": {
      "text/plain": [
       "'\\n1. 차원축소\\n    : 차원축소를 통해 데이터의 차원을 줄이는 방법이다.\\n    장점\\n        - 차원이 줄어들면서, 학습 속도가 빨라진다.\\n        - 차원이 줄어들면서, 모델의 복잡도가 줄어들어 과적합을 방지할 수 있다.\\n    단점\\n        - 차원이 줄어들면서, 데이터의 정보가 손실될 수 있다.\\n        - 차원이 줄어들면서, 모델의 성능이 낮아질 수 있다.\\n\\n2. Regularization\\n    : Regularization을 통해 모델의 복잡도를 줄이는 방법이다.\\n    장점\\n        - 모델의 복잡도를 줄이면서, 과적합을 방지할 수 있다.\\n        - 모델의 성능을 유지하면서, 과적합을 방지할 수 있다.\\n    단점\\n        - Regularization의 하이퍼파라미터를 잘 설정해야 한다.\\n        - Regularization의 하이퍼파라미터를 설정하는 것이 어려울 수 있다.\\n\\n3. 교차검증\\n    : 교차검증을 통해 모델의 성능을 평가하는 방법이다.\\n    장점\\n        - 모델의 성능을 정확하게 평가할 수 있다.\\n        - 모델의 성능을 개선할 수 있다.\\n    단점\\n        - 모델의 학습 시간이 증가할 수 있다.\\n        - 모델의 학습 시간이 증가하면서, 모델의 복잡도가 증가할 수 있다.\\n'"
      ]
     },
     "execution_count": 11,
     "metadata": {},
     "output_type": "execute_result"
    }
   ],
   "source": [
    "# 1-3. (2)에서 제시한 방법이 데이터 과적합이 된다는 가정하에 과적합을 해결할 수 있는 2가지 방안을 제시하고 각 방법의 장단점을 기술하시오.\n",
    "'''\n",
    "1. 차원축소\n",
    "    : 차원축소를 통해 데이터의 차원을 줄이는 방법이다.\n",
    "    장점\n",
    "        - 차원이 줄어들면서, 학습 속도가 빨라진다.\n",
    "        - 차원이 줄어들면서, 모델의 복잡도가 줄어들어 과적합을 방지할 수 있다.\n",
    "    단점\n",
    "        - 차원이 줄어들면서, 데이터의 정보가 손실될 수 있다.\n",
    "        - 차원이 줄어들면서, 모델의 성능이 낮아질 수 있다.\n",
    "\n",
    "2. Regularization\n",
    "    : Regularization을 통해 모델의 복잡도를 줄이는 방법이다.\n",
    "    장점\n",
    "        - 모델의 복잡도를 줄이면서, 과적합을 방지할 수 있다.\n",
    "        - 모델의 성능을 유지하면서, 과적합을 방지할 수 있다.\n",
    "    단점\n",
    "        - Regularization의 하이퍼파라미터를 잘 설정해야 한다.\n",
    "        - Regularization의 하이퍼파라미터를 설정하는 것이 어려울 수 있다.\n",
    "\n",
    "3. 교차검증\n",
    "    : 교차검증을 통해 모델의 성능을 평가하는 방법이다.\n",
    "    장점\n",
    "        - 모델의 성능을 정확하게 평가할 수 있다.\n",
    "        - 모델의 성능을 개선할 수 있다.\n",
    "    단점\n",
    "        - 모델의 학습 시간이 증가할 수 있다.\n",
    "        - 모델의 학습 시간이 증가하면서, 모델의 복잡도가 증가할 수 있다.\n",
    "'''"
   ]
  },
  {
   "cell_type": "code",
   "execution_count": 12,
   "id": "09c9744f",
   "metadata": {},
   "outputs": [],
   "source": [
    "# 2. 데이터 분석"
   ]
  },
  {
   "cell_type": "code",
   "execution_count": 13,
   "id": "1db21743",
   "metadata": {},
   "outputs": [],
   "source": [
    "# 2-1. 데이터세트를 기준으로 random forest, neural network, lighgbm 3가지 방식으로 \n",
    "# 학교 결석 횟수 등급을 예측하는 모델을 만들고, f1 score로 모델을 평가하시오."
   ]
  },
  {
   "cell_type": "code",
   "execution_count": null,
   "id": "1db4609d",
   "metadata": {},
   "outputs": [],
   "source": []
  },
  {
   "cell_type": "code",
   "execution_count": 14,
   "id": "3f7c029e",
   "metadata": {},
   "outputs": [],
   "source": [
    "from sklearn.metrics import f1_score\n",
    "from sklearn.preprocessing import StandardScaler\n",
    "from sklearn.model_selection import train_test_split\n",
    "X = df.drop(columns=[target_col])\n",
    "y = df[target_col]\n",
    "\n",
    "\n",
    "X_train, X_test, y_train, y_test = train_test_split(X, y, test_size=0.2, random_state=42)\n",
    "\n",
    "feature_number_cols = number_cols.difference([target_col])\n",
    "\n",
    "scaler = StandardScaler()\n",
    "X_train_scaled = X_train.copy()\n",
    "X_train_scaled[feature_number_cols] = scaler.fit_transform(X_train_scaled.loc[:, feature_number_cols])\n",
    "\n",
    "X_test_scaled = X_test.copy()\n",
    "X_test_scaled[feature_number_cols] = scaler.transform(X_test_scaled.loc[:, feature_number_cols])"
   ]
  },
  {
   "cell_type": "code",
   "execution_count": 15,
   "id": "f9971be2",
   "metadata": {},
   "outputs": [],
   "source": [
    "import time"
   ]
  },
  {
   "cell_type": "code",
   "execution_count": 16,
   "id": "501f6a4c",
   "metadata": {},
   "outputs": [],
   "source": [
    "model_result_dict = dict()"
   ]
  },
  {
   "cell_type": "code",
   "execution_count": 17,
   "id": "30f4535a",
   "metadata": {},
   "outputs": [],
   "source": [
    "from sklearn.ensemble import RandomForestClassifier\n",
    "\n",
    "start = time.time()\n",
    "model = RandomForestClassifier(random_state=42)\n",
    "model.fit(X_train_scaled, y_train)\n",
    "y_pred = model.predict(X_test_scaled)\n",
    "total_time = time.time() - start\n",
    "\n",
    "model_result_dict['RandomForest'] = {\n",
    "    'f1_score': f1_score(y_test, y_pred, average='micro'),\n",
    "    'time': total_time\n",
    "}"
   ]
  },
  {
   "cell_type": "code",
   "execution_count": 18,
   "id": "bb8d56ad",
   "metadata": {},
   "outputs": [
    {
     "name": "stderr",
     "output_type": "stream",
     "text": [
      "/opt/homebrew/anaconda3/envs/general/lib/python3.11/site-packages/sklearn/neural_network/_multilayer_perceptron.py:690: ConvergenceWarning: Stochastic Optimizer: Maximum iterations (200) reached and the optimization hasn't converged yet.\n",
      "  warnings.warn(\n"
     ]
    }
   ],
   "source": [
    "from sklearn.neural_network import MLPClassifier\n",
    "\n",
    "start = time.time()\n",
    "model = MLPClassifier(random_state=42)\n",
    "model.fit(X_train_scaled, y_train)\n",
    "y_pred = model.predict(X_test_scaled)\n",
    "total_time = time.time() - start\n",
    "\n",
    "model_result_dict['NeuralNet'] = {\n",
    "    'f1_score': f1_score(y_test, y_pred, average='micro'),\n",
    "    'time': total_time\n",
    "}"
   ]
  },
  {
   "cell_type": "code",
   "execution_count": 19,
   "id": "5b7e8a55",
   "metadata": {},
   "outputs": [],
   "source": [
    "from lightgbm import LGBMClassifier\n",
    "\n",
    "start = time.time()\n",
    "model = LGBMClassifier(random_state=42,verbosity=-1)\n",
    "model.fit(X_train_scaled, y_train)\n",
    "y_pred = model.predict(X_test_scaled)\n",
    "total_time = time.time() - start\n",
    "\n",
    "model_result_dict['LightGBM'] = {\n",
    "    'f1_score': f1_score(y_test, y_pred, average='micro'),\n",
    "    'time': total_time\n",
    "}"
   ]
  },
  {
   "cell_type": "code",
   "execution_count": 20,
   "id": "3cc0fbc1",
   "metadata": {},
   "outputs": [
    {
     "name": "stderr",
     "output_type": "stream",
     "text": [
      "/opt/homebrew/anaconda3/envs/general/lib/python3.11/site-packages/sklearn/neural_network/_multilayer_perceptron.py:690: ConvergenceWarning: Stochastic Optimizer: Maximum iterations (200) reached and the optimization hasn't converged yet.\n",
      "  warnings.warn(\n",
      "/opt/homebrew/anaconda3/envs/general/lib/python3.11/site-packages/sklearn/neural_network/_multilayer_perceptron.py:690: ConvergenceWarning: Stochastic Optimizer: Maximum iterations (200) reached and the optimization hasn't converged yet.\n",
      "  warnings.warn(\n"
     ]
    }
   ],
   "source": [
    "# 2-2. Hard Voting, Soft Voting의 장단점을 설명하고 2-1의 3가지 모델로 구현하시오.\n",
    "# 그리고 두 방식의 f1-score를 비교하시오.\n",
    "\n",
    "'''\n",
    "Hard Voting : 최적의 성능을 내는 하나의 결과값을 선택하는 방식\n",
    "    - 장점 : 각 모델의 예측값을 투표하여 최적의 성능을 내는 결과값을 선택할 수 있다.\n",
    "    - 단점 : 다양한 결과값을 종합적으로 반영하지 못할 수 있다.\n",
    "Soft Voting : 각 모델의 예측값을 평균내어 최적의 성능을 내는 결과값을 선택하는 방식\n",
    "    - 장점 : 다양한 결과값을 종합적으로 반영할 수 있다.\n",
    "    - 단점 : 최적의 모델이 있다는 가정하에 약간의 노이즈가 발생할 수 있다.\n",
    "'''\n",
    "\n",
    "from sklearn.ensemble import VotingClassifier\n",
    "\n",
    "\n",
    "model1 = RandomForestClassifier(random_state=42)\n",
    "model2 = MLPClassifier(random_state=42)\n",
    "model3 = LGBMClassifier(random_state=42,verbosity=-1)\n",
    "\n",
    "hard_voting_model = VotingClassifier(\n",
    "    estimators=[('rf', model1), ('mlp', model2), ('lgbm', model3)],\n",
    "    voting='hard'\n",
    ")\n",
    "\n",
    "soft_voting_model = VotingClassifier(\n",
    "    estimators=[('rf', model1), ('mlp', model2), ('lgbm', model3)],\n",
    "    voting='soft'\n",
    ")\n",
    "start = time.time()\n",
    "hard_voting_model.fit(X_train_scaled, y_train)\n",
    "y_pred_hard = hard_voting_model.predict(X_test_scaled)\n",
    "hard_voting_time = time.time() - start\n",
    "\n",
    "start = time.time()\n",
    "soft_voting_model.fit(X_train_scaled, y_train)\n",
    "y_pred_soft = soft_voting_model.predict(X_test_scaled)\n",
    "soft_voting_time = time.time() - start\n",
    "\n",
    "model_result_dict['HardVoting'] = {\n",
    "    'f1_score': f1_score(y_test, y_pred_hard, average='micro'),\n",
    "    'time': hard_voting_time\n",
    "}\n",
    "\n",
    "model_result_dict['SoftVoting'] = {\n",
    "    'f1_score': f1_score(y_test, y_pred_soft, average='micro'),\n",
    "    'time': soft_voting_time\n",
    "}"
   ]
  },
  {
   "cell_type": "code",
   "execution_count": 21,
   "id": "b7e32a03",
   "metadata": {},
   "outputs": [
    {
     "data": {
      "text/html": [
       "<div>\n",
       "<style scoped>\n",
       "    .dataframe tbody tr th:only-of-type {\n",
       "        vertical-align: middle;\n",
       "    }\n",
       "\n",
       "    .dataframe tbody tr th {\n",
       "        vertical-align: top;\n",
       "    }\n",
       "\n",
       "    .dataframe thead th {\n",
       "        text-align: right;\n",
       "    }\n",
       "</style>\n",
       "<table border=\"1\" class=\"dataframe\">\n",
       "  <thead>\n",
       "    <tr style=\"text-align: right;\">\n",
       "      <th></th>\n",
       "      <th>f1_score</th>\n",
       "      <th>time</th>\n",
       "    </tr>\n",
       "  </thead>\n",
       "  <tbody>\n",
       "    <tr>\n",
       "      <th>RandomForest</th>\n",
       "      <td>0.447368</td>\n",
       "      <td>0.060885</td>\n",
       "    </tr>\n",
       "    <tr>\n",
       "      <th>NeuralNet</th>\n",
       "      <td>0.447368</td>\n",
       "      <td>0.694761</td>\n",
       "    </tr>\n",
       "    <tr>\n",
       "      <th>LightGBM</th>\n",
       "      <td>0.421053</td>\n",
       "      <td>0.291691</td>\n",
       "    </tr>\n",
       "    <tr>\n",
       "      <th>HardVoting</th>\n",
       "      <td>0.473684</td>\n",
       "      <td>1.266630</td>\n",
       "    </tr>\n",
       "    <tr>\n",
       "      <th>SoftVoting</th>\n",
       "      <td>0.460526</td>\n",
       "      <td>1.360094</td>\n",
       "    </tr>\n",
       "  </tbody>\n",
       "</table>\n",
       "</div>"
      ],
      "text/plain": [
       "              f1_score      time\n",
       "RandomForest  0.447368  0.060885\n",
       "NeuralNet     0.447368  0.694761\n",
       "LightGBM      0.421053  0.291691\n",
       "HardVoting    0.473684  1.266630\n",
       "SoftVoting    0.460526  1.360094"
      ]
     },
     "execution_count": 21,
     "metadata": {},
     "output_type": "execute_result"
    }
   ],
   "source": [
    "# 2-3. 총 5개 모델(RF,NN,LGBM,Hard Voting, Soft Voting) 중 \n",
    "# 실시간 온라인 시스템에 가장 적합한 모델과 선정이유를 객관적으로 제시하시오.\n",
    "'''\n",
    "실시간 온라인 시스템에 모델을 활용하기 위해서 평가해야할 주요 요소는 크게 두가지로 나눌 수 있다.\n",
    "    1. 모델의 성능\n",
    "        모델의 성능의 경우에는 hard voting 모델이 가장 높은 성능을 보였다.\n",
    "        따라서, 성능을 기준으로 모델을 선택한다면 hard voting 모델을 선택하는 것이 좋다.\n",
    "    2. 모델의 속도\n",
    "        모델의 속도 같은 경우에는 Random Forest 모델이 가장 빠른 속도를 보였다.\n",
    "        따라서, 속도를 기준으로 모델을 선택한다면 Random Forest 모델을 선택하는 것이 좋다.\n",
    "\n",
    "성능과 속도의 중요성에 따라 선정하는 모델은 달라질 수 있으나, 이번 경우 속도를 조금 더 중요하게 생각한다는 가정하에 가장 적합한 모델은 Random Forest 모델이다.\n",
    "'''\n",
    "pd.DataFrame(model_result_dict).T\n"
   ]
  },
  {
   "cell_type": "code",
   "execution_count": null,
   "id": "c8d7e0a9",
   "metadata": {},
   "outputs": [],
   "source": []
  },
  {
   "cell_type": "code",
   "execution_count": 22,
   "id": "41fce738",
   "metadata": {},
   "outputs": [],
   "source": [
    "# 3. 데이터 모델링"
   ]
  },
  {
   "cell_type": "code",
   "execution_count": 23,
   "id": "c4e2fda7",
   "metadata": {},
   "outputs": [
    {
     "data": {
      "text/plain": [
       "'\\n현재는 random forest 모델이 가장 속도 측면에서 우세하다고 판단하였다.\\n다만, 실제 서비스에 모델을 적용하기위해 파라미터 튜닝을 진행한다면, 모델 속도 측면의 장점이 상대적으로 줄어들 수 있다.\\n\\n모델의 일반화 성능을 검증하기 위해서는 더 다양한 데이터와 cross validation을 통해 검증하는 것이 좋다.\\n\\n'"
      ]
     },
     "execution_count": 23,
     "metadata": {},
     "output_type": "execute_result"
    }
   ],
   "source": [
    "# 3-1. 적정 모델과 선정 및 모델링 과정에서 추가적으로 고려해볼 만한 사항을 설명하시오.\n",
    "'''\n",
    "현재는 random forest 모델이 가장 속도 측면에서 우세하다고 판단하였다.\n",
    "다만, 실제 서비스에 모델을 적용하기위해 파라미터 튜닝을 진행한다면, 모델 속도 측면의 장점이 상대적으로 줄어들 수 있다.\n",
    "\n",
    "모델의 일반화 성능을 검증하기 위해서는 더 다양한 데이터와 cross validation을 통해 검증하는 것이 좋다.\n",
    "\n",
    "'''"
   ]
  },
  {
   "cell_type": "code",
   "execution_count": 24,
   "id": "8978cacd",
   "metadata": {},
   "outputs": [
    {
     "data": {
      "text/plain": [
       "'\\n1. 데이터 업데이트 및 모델 학습 주기 선정\\n    : 데이터는 시간이 지남에 따라 변화할 수 있기 때문에, 일정한 주기로 데이터를 업데이트하고 모델을 재학습하는 것이 중요하다.\\n\\n2. 모델 성능 모니터링\\n    : 모델의 성능을 모니터링하고, 성능이 저하되는 경우에는 즉각적으로 대응하는 것이 중요하다.\\n\\n3. 모델의 해석가능성\\n    : 본 프로젝트를 학교 시스템에 도입한다면, 모델이 어떤 요소를 기반으로 예측을 하는지 해석가능성이 중요하다.\\n    : 따라서, 모델의 해석가능성을 높이는 방법을 고려해야 한다.\\n'"
      ]
     },
     "execution_count": 24,
     "metadata": {},
     "output_type": "execute_result"
    }
   ],
   "source": [
    "# 3-2. 모델을 학교 시스템에 적용하여 활용하려 한다. 모델 적용 및 운영과정에서 고려해볼 만한 사항을 설명하시오.\n",
    "'''\n",
    "1. 데이터 업데이트 및 모델 학습 주기 선정\n",
    "    : 데이터는 시간이 지남에 따라 변화할 수 있기 때문에, 일정한 주기로 데이터를 업데이트하고 모델을 재학습하는 것이 중요하다.\n",
    "\n",
    "2. 모델 성능 모니터링\n",
    "    : 모델의 성능을 모니터링하고, 성능이 저하되는 경우에는 즉각적으로 대응하는 것이 중요하다.\n",
    "\n",
    "3. 모델의 해석가능성\n",
    "    : 본 프로젝트를 학교 시스템에 도입한다면, 모델이 어떤 요소를 기반으로 예측을 하는지 해석가능성이 중요하다.\n",
    "    : 따라서, 모델의 해석가능성을 높이는 방법을 고려해야 한다.\n",
    "'''"
   ]
  },
  {
   "cell_type": "code",
   "execution_count": null,
   "id": "9a5bac4a",
   "metadata": {},
   "outputs": [],
   "source": []
  },
  {
   "cell_type": "markdown",
   "id": "8172900c",
   "metadata": {},
   "source": [
    "##  2. 통계분석 (50점) "
   ]
  },
  {
   "cell_type": "code",
   "execution_count": 25,
   "id": "9f921880",
   "metadata": {},
   "outputs": [
    {
     "data": {
      "text/html": [
       "<div>\n",
       "<style scoped>\n",
       "    .dataframe tbody tr th:only-of-type {\n",
       "        vertical-align: middle;\n",
       "    }\n",
       "\n",
       "    .dataframe tbody tr th {\n",
       "        vertical-align: top;\n",
       "    }\n",
       "\n",
       "    .dataframe thead th {\n",
       "        text-align: right;\n",
       "    }\n",
       "</style>\n",
       "<table border=\"1\" class=\"dataframe\">\n",
       "  <thead>\n",
       "    <tr style=\"text-align: right;\">\n",
       "      <th></th>\n",
       "      <th>time(month)</th>\n",
       "      <th>survival</th>\n",
       "      <th>company</th>\n",
       "    </tr>\n",
       "  </thead>\n",
       "  <tbody>\n",
       "    <tr>\n",
       "      <th>0</th>\n",
       "      <td>39</td>\n",
       "      <td>Y</td>\n",
       "      <td>B</td>\n",
       "    </tr>\n",
       "    <tr>\n",
       "      <th>1</th>\n",
       "      <td>29</td>\n",
       "      <td>Y</td>\n",
       "      <td>B</td>\n",
       "    </tr>\n",
       "    <tr>\n",
       "      <th>2</th>\n",
       "      <td>15</td>\n",
       "      <td>N</td>\n",
       "      <td>B</td>\n",
       "    </tr>\n",
       "    <tr>\n",
       "      <th>3</th>\n",
       "      <td>43</td>\n",
       "      <td>N</td>\n",
       "      <td>A</td>\n",
       "    </tr>\n",
       "    <tr>\n",
       "      <th>4</th>\n",
       "      <td>8</td>\n",
       "      <td>Y</td>\n",
       "      <td>A</td>\n",
       "    </tr>\n",
       "  </tbody>\n",
       "</table>\n",
       "</div>"
      ],
      "text/plain": [
       "   time(month) survival company\n",
       "0           39        Y       B\n",
       "1           29        Y       B\n",
       "2           15        N       B\n",
       "3           43        N       A\n",
       "4            8        Y       A"
      ]
     },
     "execution_count": 25,
     "metadata": {},
     "output_type": "execute_result"
    }
   ],
   "source": [
    "# 1. 두 회사의 데이터를 분석하시오.\n",
    "import pandas as pd\n",
    "raw_df = pd.read_csv('./../data/28_problem4.csv')\n",
    "raw_df.head()"
   ]
  },
  {
   "cell_type": "code",
   "execution_count": 26,
   "id": "a6a5d38f",
   "metadata": {},
   "outputs": [],
   "source": [
    "df = raw_df.copy()"
   ]
  },
  {
   "cell_type": "code",
   "execution_count": 27,
   "id": "2385ea85",
   "metadata": {},
   "outputs": [
    {
     "name": "stdout",
     "output_type": "stream",
     "text": [
      "Company : A\n",
      "survival_prob_a_25 : 0.7139905773970584\n",
      "survival_prob_a_35 : 0.5155465842615863\n",
      "survival_prob_a_45 : 0.2314554057900688\n",
      "Company : B\n",
      "survival_prob_b_25 : 0.7163648288642074\n",
      "survival_prob_b_35 : 0.5190079890806214\n",
      "survival_prob_b_45 : 0.2676561441659798\n"
     ]
    }
   ],
   "source": [
    "# 1-1. Kaplan Meier 방법을 사용하여 생존분석을 수행하고, 회사부품별 25,35,45개월 후의 생존확률을 구하시오.\n",
    "from lifelines import KaplanMeierFitter\n",
    "\n",
    "kmf = KaplanMeierFitter()\n",
    "\n",
    "df_A = df[df['company'] == 'A']\n",
    "kmf.fit(df_A['time(month)'], event_observed=df_A['survival'] == 'Y')\n",
    "survival_prob_a_25 = kmf.survival_function_.iloc[25].iloc[0]\n",
    "survival_prob_a_35 = kmf.survival_function_.iloc[35].iloc[0]\n",
    "survival_prob_a_45 = kmf.survival_function_.iloc[45].iloc[0]\n",
    "\n",
    "\n",
    "df_B = df[df['company'] == 'B']\n",
    "kmf.fit(df_B['time(month)'], event_observed=df_B['survival'] == 'Y')\n",
    "survival_prob_b_25 = kmf.survival_function_.iloc[25].iloc[0]\n",
    "survival_prob_b_35 = kmf.survival_function_.iloc[35].iloc[0]\n",
    "survival_prob_b_45 = kmf.survival_function_.iloc[45].iloc[0]\n",
    "\n",
    "print('Company : A')\n",
    "print('survival_prob_a_25 :', survival_prob_a_25)\n",
    "print('survival_prob_a_35 :', survival_prob_a_35)\n",
    "print('survival_prob_a_45 :', survival_prob_a_45)\n",
    "\n",
    "print('Company : B')\n",
    "print('survival_prob_b_25 :', survival_prob_b_25)\n",
    "print('survival_prob_b_35 :', survival_prob_b_35)\n",
    "print('survival_prob_b_45 :', survival_prob_b_45)"
   ]
  },
  {
   "cell_type": "code",
   "execution_count": 28,
   "id": "eb687be2",
   "metadata": {},
   "outputs": [
    {
     "name": "stdout",
     "output_type": "stream",
     "text": [
      "두 회사간 생존시간에 유의미한 차이 없다\n"
     ]
    }
   ],
   "source": [
    "# 1-2. 두 회사 간 생존시간 차이를 log-rank 방식으로 검정하시오. 가설설정, 통계량, 귀무가설 기각 여부를 판단하시오.\n",
    "from lifelines.statistics import logrank_test\n",
    "\n",
    "company_A = df_A['time(month)']\n",
    "company_B = df_B['time(month)']\n",
    "results = logrank_test(company_A, company_B)\n",
    "\n",
    "statistics = results.test_statistic\n",
    "p_value = results.p_value\n",
    "\n",
    "if p_value < 0.05:\n",
    "    print('두 회사간 생존시간에 유의미한 차이 존재')\n",
    "else:\n",
    "    print('두 회사간 생존시간에 유의미한 차이 없다')"
   ]
  },
  {
   "cell_type": "code",
   "execution_count": null,
   "id": "4bff1eca",
   "metadata": {},
   "outputs": [],
   "source": []
  },
  {
   "cell_type": "code",
   "execution_count": 29,
   "id": "ea207616",
   "metadata": {},
   "outputs": [
    {
     "data": {
      "text/html": [
       "<div>\n",
       "<style scoped>\n",
       "    .dataframe tbody tr th:only-of-type {\n",
       "        vertical-align: middle;\n",
       "    }\n",
       "\n",
       "    .dataframe tbody tr th {\n",
       "        vertical-align: top;\n",
       "    }\n",
       "\n",
       "    .dataframe thead th {\n",
       "        text-align: right;\n",
       "    }\n",
       "</style>\n",
       "<table border=\"1\" class=\"dataframe\">\n",
       "  <thead>\n",
       "    <tr style=\"text-align: right;\">\n",
       "      <th></th>\n",
       "      <th>시식전</th>\n",
       "      <th>시식후</th>\n",
       "      <th>유저아이디</th>\n",
       "    </tr>\n",
       "  </thead>\n",
       "  <tbody>\n",
       "    <tr>\n",
       "      <th>0</th>\n",
       "      <td>Y</td>\n",
       "      <td>Y</td>\n",
       "      <td>ID1</td>\n",
       "    </tr>\n",
       "    <tr>\n",
       "      <th>1</th>\n",
       "      <td>N</td>\n",
       "      <td>Y</td>\n",
       "      <td>ID2</td>\n",
       "    </tr>\n",
       "    <tr>\n",
       "      <th>2</th>\n",
       "      <td>N</td>\n",
       "      <td>N</td>\n",
       "      <td>ID3</td>\n",
       "    </tr>\n",
       "    <tr>\n",
       "      <th>3</th>\n",
       "      <td>N</td>\n",
       "      <td>Y</td>\n",
       "      <td>ID4</td>\n",
       "    </tr>\n",
       "    <tr>\n",
       "      <th>4</th>\n",
       "      <td>Y</td>\n",
       "      <td>Y</td>\n",
       "      <td>ID5</td>\n",
       "    </tr>\n",
       "    <tr>\n",
       "      <th>...</th>\n",
       "      <td>...</td>\n",
       "      <td>...</td>\n",
       "      <td>...</td>\n",
       "    </tr>\n",
       "    <tr>\n",
       "      <th>95</th>\n",
       "      <td>N</td>\n",
       "      <td>Y</td>\n",
       "      <td>ID96</td>\n",
       "    </tr>\n",
       "    <tr>\n",
       "      <th>96</th>\n",
       "      <td>Y</td>\n",
       "      <td>Y</td>\n",
       "      <td>ID97</td>\n",
       "    </tr>\n",
       "    <tr>\n",
       "      <th>97</th>\n",
       "      <td>Y</td>\n",
       "      <td>Y</td>\n",
       "      <td>ID98</td>\n",
       "    </tr>\n",
       "    <tr>\n",
       "      <th>98</th>\n",
       "      <td>Y</td>\n",
       "      <td>Y</td>\n",
       "      <td>ID99</td>\n",
       "    </tr>\n",
       "    <tr>\n",
       "      <th>99</th>\n",
       "      <td>Y</td>\n",
       "      <td>Y</td>\n",
       "      <td>ID100</td>\n",
       "    </tr>\n",
       "  </tbody>\n",
       "</table>\n",
       "<p>100 rows × 3 columns</p>\n",
       "</div>"
      ],
      "text/plain": [
       "   시식전 시식후  유저아이디\n",
       "0    Y   Y    ID1\n",
       "1    N   Y    ID2\n",
       "2    N   N    ID3\n",
       "3    N   Y    ID4\n",
       "4    Y   Y    ID5\n",
       "..  ..  ..    ...\n",
       "95   N   Y   ID96\n",
       "96   Y   Y   ID97\n",
       "97   Y   Y   ID98\n",
       "98   Y   Y   ID99\n",
       "99   Y   Y  ID100\n",
       "\n",
       "[100 rows x 3 columns]"
      ]
     },
     "execution_count": 29,
     "metadata": {},
     "output_type": "execute_result"
    }
   ],
   "source": [
    "# 2. 28_problem5.csv 데이터는 구매한 사람들의 데이터이다.\n",
    "# 시식 여부가 구매의사에 영향을 주는지 가설을 설정하고 분석하시오.\n",
    "import pandas as pd\n",
    "raw_df = pd.read_csv('./../data/28_problem5.csv')\n",
    "raw_df"
   ]
  },
  {
   "cell_type": "code",
   "execution_count": 30,
   "id": "0232583f",
   "metadata": {},
   "outputs": [],
   "source": [
    "df = raw_df.copy()"
   ]
  },
  {
   "cell_type": "code",
   "execution_count": 31,
   "id": "31400fbb",
   "metadata": {},
   "outputs": [
    {
     "data": {
      "text/html": [
       "<div>\n",
       "<style scoped>\n",
       "    .dataframe tbody tr th:only-of-type {\n",
       "        vertical-align: middle;\n",
       "    }\n",
       "\n",
       "    .dataframe tbody tr th {\n",
       "        vertical-align: top;\n",
       "    }\n",
       "\n",
       "    .dataframe thead th {\n",
       "        text-align: right;\n",
       "    }\n",
       "</style>\n",
       "<table border=\"1\" class=\"dataframe\">\n",
       "  <thead>\n",
       "    <tr style=\"text-align: right;\">\n",
       "      <th>시식후</th>\n",
       "      <th>N</th>\n",
       "      <th>Y</th>\n",
       "    </tr>\n",
       "    <tr>\n",
       "      <th>시식전</th>\n",
       "      <th></th>\n",
       "      <th></th>\n",
       "    </tr>\n",
       "  </thead>\n",
       "  <tbody>\n",
       "    <tr>\n",
       "      <th>N</th>\n",
       "      <td>20</td>\n",
       "      <td>32</td>\n",
       "    </tr>\n",
       "    <tr>\n",
       "      <th>Y</th>\n",
       "      <td>21</td>\n",
       "      <td>27</td>\n",
       "    </tr>\n",
       "  </tbody>\n",
       "</table>\n",
       "</div>"
      ],
      "text/plain": [
       "시식후   N   Y\n",
       "시식전        \n",
       "N    20  32\n",
       "Y    21  27"
      ]
     },
     "execution_count": 31,
     "metadata": {},
     "output_type": "execute_result"
    }
   ],
   "source": [
    "table = pd.crosstab(df['시식전'], df['시식후'])\n",
    "table"
   ]
  },
  {
   "cell_type": "code",
   "execution_count": 32,
   "id": "80533284",
   "metadata": {},
   "outputs": [
    {
     "name": "stdout",
     "output_type": "stream",
     "text": [
      "H0 : 시식이 구매에 영향을 끼치지 않는다.\n",
      "기대 테이블\n"
     ]
    },
    {
     "data": {
      "text/html": [
       "<div>\n",
       "<style scoped>\n",
       "    .dataframe tbody tr th:only-of-type {\n",
       "        vertical-align: middle;\n",
       "    }\n",
       "\n",
       "    .dataframe tbody tr th {\n",
       "        vertical-align: top;\n",
       "    }\n",
       "\n",
       "    .dataframe thead th {\n",
       "        text-align: right;\n",
       "    }\n",
       "</style>\n",
       "<table border=\"1\" class=\"dataframe\">\n",
       "  <thead>\n",
       "    <tr style=\"text-align: right;\">\n",
       "      <th>시식후</th>\n",
       "      <th>N</th>\n",
       "      <th>Y</th>\n",
       "    </tr>\n",
       "    <tr>\n",
       "      <th>시식전</th>\n",
       "      <th></th>\n",
       "      <th></th>\n",
       "    </tr>\n",
       "  </thead>\n",
       "  <tbody>\n",
       "    <tr>\n",
       "      <th>N</th>\n",
       "      <td>21.32</td>\n",
       "      <td>30.68</td>\n",
       "    </tr>\n",
       "    <tr>\n",
       "      <th>Y</th>\n",
       "      <td>19.68</td>\n",
       "      <td>28.32</td>\n",
       "    </tr>\n",
       "  </tbody>\n",
       "</table>\n",
       "</div>"
      ],
      "text/plain": [
       "시식후      N      Y\n",
       "시식전              \n",
       "N    21.32  30.68\n",
       "Y    19.68  28.32"
      ]
     },
     "metadata": {},
     "output_type": "display_data"
    },
    {
     "name": "stdout",
     "output_type": "stream",
     "text": [
      "실제 테이블\n"
     ]
    },
    {
     "data": {
      "text/html": [
       "<div>\n",
       "<style scoped>\n",
       "    .dataframe tbody tr th:only-of-type {\n",
       "        vertical-align: middle;\n",
       "    }\n",
       "\n",
       "    .dataframe tbody tr th {\n",
       "        vertical-align: top;\n",
       "    }\n",
       "\n",
       "    .dataframe thead th {\n",
       "        text-align: right;\n",
       "    }\n",
       "</style>\n",
       "<table border=\"1\" class=\"dataframe\">\n",
       "  <thead>\n",
       "    <tr style=\"text-align: right;\">\n",
       "      <th>시식후</th>\n",
       "      <th>N</th>\n",
       "      <th>Y</th>\n",
       "    </tr>\n",
       "    <tr>\n",
       "      <th>시식전</th>\n",
       "      <th></th>\n",
       "      <th></th>\n",
       "    </tr>\n",
       "  </thead>\n",
       "  <tbody>\n",
       "    <tr>\n",
       "      <th>N</th>\n",
       "      <td>20</td>\n",
       "      <td>32</td>\n",
       "    </tr>\n",
       "    <tr>\n",
       "      <th>Y</th>\n",
       "      <td>21</td>\n",
       "      <td>27</td>\n",
       "    </tr>\n",
       "  </tbody>\n",
       "</table>\n",
       "</div>"
      ],
      "text/plain": [
       "시식후   N   Y\n",
       "시식전        \n",
       "N    20  32\n",
       "Y    21  27"
      ]
     },
     "metadata": {},
     "output_type": "display_data"
    }
   ],
   "source": [
    "from scipy import stats\n",
    "statistic, p_value, dof, ev_table = stats.chi2_contingency(table)\n",
    "\n",
    "if p_value < 0.05:\n",
    "    print('H1 : 시식이 구매에 영향을 끼친다.')\n",
    "else:\n",
    "    print('H0 : 시식이 구매에 영향을 끼치지 않는다.')\n",
    "\n",
    "print('기대 테이블')    \n",
    "display(pd.DataFrame(ev_table,columns=table.columns,index=table.index))\n",
    "\n",
    "print('실제 테이블')    \n",
    "display(table)"
   ]
  },
  {
   "cell_type": "code",
   "execution_count": 33,
   "id": "7eb13de3",
   "metadata": {},
   "outputs": [],
   "source": [
    "# 3. 2개의 고등학교 시험점수 데이터이다. 두 학교 시험점수의 분포 차이가 있는지 검정하시오.\n",
    "# (단 각 학생의 성적은 독립이라고 가정.)\n",
    "import pandas as pd\n",
    "raw_df = pd.read_csv('./../data/28_problem6.csv')"
   ]
  },
  {
   "cell_type": "code",
   "execution_count": 34,
   "id": "57a00198",
   "metadata": {},
   "outputs": [],
   "source": [
    "A = raw_df[raw_df['School']=='A']['Score']\n",
    "B = raw_df[raw_df['School']=='B']['Score']"
   ]
  },
  {
   "cell_type": "code",
   "execution_count": 35,
   "id": "db322acd",
   "metadata": {},
   "outputs": [
    {
     "name": "stdout",
     "output_type": "stream",
     "text": [
      "KS 통계량: 0.21\n",
      "p-value: 0.024055802841094577\n",
      "✔ 두 분포는 유의미하게 다릅니다 (귀무가설 기각)\n"
     ]
    }
   ],
   "source": [
    "from scipy.stats import ks_2samp\n",
    "# Kolmogorov-Smirnov 검정\n",
    "stat, p_value = ks_2samp(A, B)\n",
    "\n",
    "print(\"KS 통계량:\", stat)\n",
    "print(\"p-value:\", p_value)\n",
    "\n",
    "if p_value < 0.05:\n",
    "    print(\"✔ 두 분포는 유의미하게 다릅니다 (귀무가설 기각)\")\n",
    "else:\n",
    "    print(\"✖ 분포 차이가 유의하지 않습니다 (귀무가설 채택)\")"
   ]
  },
  {
   "cell_type": "code",
   "execution_count": 36,
   "id": "9e8fcc54",
   "metadata": {},
   "outputs": [
    {
     "data": {
      "text/html": [
       "<div>\n",
       "<style scoped>\n",
       "    .dataframe tbody tr th:only-of-type {\n",
       "        vertical-align: middle;\n",
       "    }\n",
       "\n",
       "    .dataframe tbody tr th {\n",
       "        vertical-align: top;\n",
       "    }\n",
       "\n",
       "    .dataframe thead th {\n",
       "        text-align: right;\n",
       "    }\n",
       "</style>\n",
       "<table border=\"1\" class=\"dataframe\">\n",
       "  <thead>\n",
       "    <tr style=\"text-align: right;\">\n",
       "      <th></th>\n",
       "      <th>age</th>\n",
       "      <th>Cholesterol</th>\n",
       "      <th>weight</th>\n",
       "    </tr>\n",
       "  </thead>\n",
       "  <tbody>\n",
       "    <tr>\n",
       "      <th>0</th>\n",
       "      <td>61</td>\n",
       "      <td>255</td>\n",
       "      <td>56</td>\n",
       "    </tr>\n",
       "    <tr>\n",
       "      <th>1</th>\n",
       "      <td>71</td>\n",
       "      <td>241</td>\n",
       "      <td>114</td>\n",
       "    </tr>\n",
       "    <tr>\n",
       "      <th>2</th>\n",
       "      <td>44</td>\n",
       "      <td>271</td>\n",
       "      <td>59</td>\n",
       "    </tr>\n",
       "    <tr>\n",
       "      <th>3</th>\n",
       "      <td>73</td>\n",
       "      <td>257</td>\n",
       "      <td>87</td>\n",
       "    </tr>\n",
       "    <tr>\n",
       "      <th>4</th>\n",
       "      <td>80</td>\n",
       "      <td>259</td>\n",
       "      <td>112</td>\n",
       "    </tr>\n",
       "  </tbody>\n",
       "</table>\n",
       "</div>"
      ],
      "text/plain": [
       "   age  Cholesterol  weight\n",
       "0   61          255      56\n",
       "1   71          241     114\n",
       "2   44          271      59\n",
       "3   73          257      87\n",
       "4   80          259     112"
      ]
     },
     "execution_count": 36,
     "metadata": {},
     "output_type": "execute_result"
    }
   ],
   "source": [
    "# 4. 몸무게를 제어한다고 생각하고, 나이와 콜레스테롤 상관계수 및 유의확률을 구하시오.\n",
    "import pandas as pd\n",
    "raw_df = pd.read_csv('./../data/28_problem7.csv')\n",
    "raw_df.head()"
   ]
  },
  {
   "cell_type": "code",
   "execution_count": 37,
   "id": "c7467c05",
   "metadata": {},
   "outputs": [],
   "source": [
    "df = raw_df.copy()"
   ]
  },
  {
   "cell_type": "code",
   "execution_count": 38,
   "id": "0f336b4a",
   "metadata": {},
   "outputs": [
    {
     "name": "stdout",
     "output_type": "stream",
     "text": [
      "               r     p-val\n",
      "pearson  0.00382  0.904026\n"
     ]
    }
   ],
   "source": [
    "import pingouin as pg\n",
    "result = pg.partial_corr(data=df, x='age', y='Cholesterol', covar='weight')\n",
    "\n",
    "# 결과 출력\n",
    "print(result[['r', 'p-val']])"
   ]
  }
 ],
 "metadata": {
  "kernelspec": {
   "display_name": "general",
   "language": "python",
   "name": "python3"
  },
  "language_info": {
   "codemirror_mode": {
    "name": "ipython",
    "version": 3
   },
   "file_extension": ".py",
   "mimetype": "text/x-python",
   "name": "python",
   "nbconvert_exporter": "python",
   "pygments_lexer": "ipython3",
   "version": "3.11.5"
  },
  "toc": {
   "base_numbering": 1,
   "nav_menu": {},
   "number_sections": false,
   "sideBar": true,
   "skip_h1_title": false,
   "title_cell": "Table of Contents",
   "title_sidebar": "Contents",
   "toc_cell": false,
   "toc_position": {
    "height": "calc(100% - 180px)",
    "left": "10px",
    "top": "150px",
    "width": "284.444px"
   },
   "toc_section_display": true,
   "toc_window_display": false
  }
 },
 "nbformat": 4,
 "nbformat_minor": 5
}
