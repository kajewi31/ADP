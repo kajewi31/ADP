{
 "cells": [
  {
   "cell_type": "markdown",
   "id": "294a1576",
   "metadata": {},
   "source": [
    "## 1. 머신 러닝 (50점)\n",
    "데이터 설명 : 학생의 결석횟수 등급을 예측하기 위한 예제 데이터이다."
   ]
  },
  {
   "cell_type": "code",
   "execution_count": null,
   "id": "ff78606e",
   "metadata": {},
   "outputs": [],
   "source": [
    "import pandas as pd\n",
    "raw_df = pd.read_csv('./../data/28_problem1.csv')"
   ]
  },
  {
   "cell_type": "code",
   "execution_count": null,
   "id": "f11bfc34",
   "metadata": {},
   "outputs": [],
   "source": [
    "# 1. 데이터 전처리 및 시각화"
   ]
  },
  {
   "cell_type": "code",
   "execution_count": null,
   "id": "71236d90",
   "metadata": {},
   "outputs": [],
   "source": [
    "# 1-1. EDA를 진행하고, 차원축소의 필요성이 있는지 판단하시오."
   ]
  },
  {
   "cell_type": "code",
   "execution_count": null,
   "id": "32dfce55",
   "metadata": {},
   "outputs": [],
   "source": [
    "# 1-2. 데이터 품질을 개선할 수 있는 방법을 제안하고 데이터세트를 재생성하시오."
   ]
  },
  {
   "cell_type": "code",
   "execution_count": null,
   "id": "f34ad94e",
   "metadata": {},
   "outputs": [],
   "source": [
    "# 1-3. (2)에서 제시한 방법이 데이터 과적합이 된다는 가정하에 과적합을 해결할 수 있는 2가지 방안을 제시하고 각 방법의 장단점을 기술하시오."
   ]
  },
  {
   "cell_type": "code",
   "execution_count": null,
   "id": "ecff9648",
   "metadata": {},
   "outputs": [],
   "source": []
  },
  {
   "cell_type": "code",
   "execution_count": null,
   "id": "09c9744f",
   "metadata": {},
   "outputs": [],
   "source": [
    "# 2. 데이터 분석"
   ]
  },
  {
   "cell_type": "code",
   "execution_count": null,
   "id": "1db21743",
   "metadata": {},
   "outputs": [],
   "source": [
    "# 2-1. 데이터세트를 기준으로 random forest, neural network, lighgbm 3가지 방식으로 \n",
    "# 학교 결석 횟수 등급을 예측하는 모델을 만들고, f1 score로 모델을 평가하시오."
   ]
  },
  {
   "cell_type": "code",
   "execution_count": null,
   "id": "3cc0fbc1",
   "metadata": {},
   "outputs": [],
   "source": [
    "# 2-2. Hard Voting, Soft Voting의 장단점을 설명하고 2-1의 3가지 모델로 구현하시오.\n",
    "# 그리고 두 방식의 f1-score를 비교하시오."
   ]
  },
  {
   "cell_type": "code",
   "execution_count": null,
   "id": "b7e32a03",
   "metadata": {},
   "outputs": [],
   "source": [
    "# 2-3. 총 5개 모델(RF,NN,LGBM,Hard Voting, Soft Voting) 중 \n",
    "# 실시간 온라인 시스템에 가장 적합한 모델과 선정이유를 객관적으로 제시하시오."
   ]
  },
  {
   "cell_type": "code",
   "execution_count": null,
   "id": "c8d7e0a9",
   "metadata": {},
   "outputs": [],
   "source": []
  },
  {
   "cell_type": "code",
   "execution_count": null,
   "id": "41fce738",
   "metadata": {},
   "outputs": [],
   "source": [
    "# 3. 데이터 모델링"
   ]
  },
  {
   "cell_type": "code",
   "execution_count": null,
   "id": "c4e2fda7",
   "metadata": {},
   "outputs": [],
   "source": [
    "# 3-1. 적정 모델과 선정 및 모델링 과정에서 추가적으로 고려해볼 만한 사항을 설명하시오."
   ]
  },
  {
   "cell_type": "code",
   "execution_count": null,
   "id": "8978cacd",
   "metadata": {},
   "outputs": [],
   "source": [
    "# 3-2. 모델을 학교 시스템에 적용하여 활용하려 한다. 모델 적용 및 운영과정에서 고려해볼 만한 사항을 설명하시오."
   ]
  },
  {
   "cell_type": "code",
   "execution_count": null,
   "id": "9a5bac4a",
   "metadata": {},
   "outputs": [],
   "source": []
  },
  {
   "cell_type": "markdown",
   "id": "8172900c",
   "metadata": {},
   "source": [
    "##  2. 통계분석 (50점) "
   ]
  },
  {
   "cell_type": "code",
   "execution_count": null,
   "id": "9f921880",
   "metadata": {},
   "outputs": [],
   "source": [
    "# 1. 두 회사의 데이터를 분석하시오.\n",
    "import pandas as pd\n",
    "raw_df = pd.read_csv('./../data/28_problem4.csv')"
   ]
  },
  {
   "cell_type": "code",
   "execution_count": null,
   "id": "2385ea85",
   "metadata": {},
   "outputs": [],
   "source": [
    "# 1-1. Kaplan Meier 방법을 사용하여 생존분석을 수행하고, 회사부품별 25,35,45개월 후의 생존확률을 구하시오."
   ]
  },
  {
   "cell_type": "code",
   "execution_count": null,
   "id": "eb687be2",
   "metadata": {},
   "outputs": [],
   "source": [
    "# 1-2. 두 회사 간 생존시간 차이를 log-rank 방식으로 검정하시오. 가설설정, 통계량, 귀무가설 기각 여부를 판단하시오."
   ]
  },
  {
   "cell_type": "code",
   "execution_count": null,
   "id": "4bff1eca",
   "metadata": {},
   "outputs": [],
   "source": []
  },
  {
   "cell_type": "code",
   "execution_count": null,
   "id": "ea207616",
   "metadata": {},
   "outputs": [],
   "source": [
    "# 2. 28_problem5.csv 데이터는 구매한 사람들의 데이터이다.\n",
    "# 시식 여부가 구매의사에 영향을 주는지 가설을 설정하고 분석하시오.\n",
    "import pandas as pd\n",
    "raw_df = pd.read_csv('./../data/28_problem5.csv')"
   ]
  },
  {
   "cell_type": "code",
   "execution_count": null,
   "id": "31400fbb",
   "metadata": {},
   "outputs": [],
   "source": []
  },
  {
   "cell_type": "code",
   "execution_count": null,
   "id": "7eb13de3",
   "metadata": {},
   "outputs": [],
   "source": [
    "# 3. 2개의 고등학교 시험점수 데이터이다. 두 학교 시험점수의 분포 차이가 있는지 검정하시오.\n",
    "# (단 각 학생의 성적은 독립이라고 가정.)\n",
    "import pandas as pd\n",
    "raw_df = pd.read_csv('./../data/28_problem6.csv')"
   ]
  },
  {
   "cell_type": "code",
   "execution_count": null,
   "id": "db322acd",
   "metadata": {},
   "outputs": [],
   "source": []
  },
  {
   "cell_type": "code",
   "execution_count": null,
   "id": "9e8fcc54",
   "metadata": {},
   "outputs": [],
   "source": [
    "# 4. 몸무게를 제어한다고 생각하고, 나이와 콜레스테롤 상관계수 및 유의확률을 구하시오.\n",
    "import pandas as pd\n",
    "raw_df = pd.read_csv('./../data/28_problem7.csv')"
   ]
  },
  {
   "cell_type": "code",
   "execution_count": null,
   "id": "0f336b4a",
   "metadata": {},
   "outputs": [],
   "source": []
  }
 ],
 "metadata": {
  "kernelspec": {
   "display_name": "general",
   "language": "python",
   "name": "python3"
  },
  "language_info": {
   "codemirror_mode": {
    "name": "ipython",
    "version": 3
   },
   "file_extension": ".py",
   "mimetype": "text/x-python",
   "name": "python",
   "nbconvert_exporter": "python",
   "pygments_lexer": "ipython3",
   "version": "3.11.5"
  },
  "toc": {
   "base_numbering": 1,
   "nav_menu": {},
   "number_sections": false,
   "sideBar": true,
   "skip_h1_title": false,
   "title_cell": "Table of Contents",
   "title_sidebar": "Contents",
   "toc_cell": false,
   "toc_position": {
    "height": "calc(100% - 180px)",
    "left": "10px",
    "top": "150px",
    "width": "284.444px"
   },
   "toc_section_display": true,
   "toc_window_display": false
  }
 },
 "nbformat": 4,
 "nbformat_minor": 5
}
