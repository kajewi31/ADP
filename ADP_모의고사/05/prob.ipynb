{
 "cells": [
  {
   "cell_type": "markdown",
   "id": "294a1576",
   "metadata": {},
   "source": [
    "## 1. 머신 러닝 (50점)\n",
    "데이터 설명 : 신용카드 사기 탐지를 위한 예제 데이터이다."
   ]
  },
  {
   "cell_type": "code",
   "execution_count": null,
   "id": "3754a604",
   "metadata": {},
   "outputs": [],
   "source": [
    "# 1. Time : 트랜잭션 시간, 의미 없음  \n",
    "# 2. V1~V28 :사용자 ID 및 민감한 기능(v1-v28)을 보호하기 위해 변환된 정보 \n",
    "# 3. Amount : 거래금액 \n",
    "# 4. Class : 0은 정상, 1은 이상치(신용카드 사기) "
   ]
  },
  {
   "cell_type": "code",
   "execution_count": null,
   "id": "23b11fe3",
   "metadata": {},
   "outputs": [],
   "source": [
    "import pandas as pd\n",
    "raw_df= pd.read_csv(\"./../data/27_problem1.csv\")"
   ]
  },
  {
   "cell_type": "code",
   "execution_count": null,
   "id": "82040e4c",
   "metadata": {},
   "outputs": [],
   "source": [
    "# 1. 데이터 전처리"
   ]
  },
  {
   "cell_type": "code",
   "execution_count": null,
   "id": "bf2767fc",
   "metadata": {},
   "outputs": [],
   "source": [
    "# 1-1. 데이터의 특징을 파악하시오(EDA)"
   ]
  },
  {
   "cell_type": "code",
   "execution_count": null,
   "id": "34e03cc9",
   "metadata": {},
   "outputs": [],
   "source": [
    "# 1-2. 상관관계를 시각화하고 전처리가 필요함을 설명하시오."
   ]
  },
  {
   "cell_type": "code",
   "execution_count": null,
   "id": "031154e2",
   "metadata": {},
   "outputs": [],
   "source": []
  },
  {
   "cell_type": "code",
   "execution_count": null,
   "id": "8684cf02",
   "metadata": {},
   "outputs": [],
   "source": [
    "# 2. 차원축소"
   ]
  },
  {
   "cell_type": "code",
   "execution_count": null,
   "id": "b211cde7",
   "metadata": {},
   "outputs": [],
   "source": [
    "# 2-1. 차원 축소 방법 2가지 이상을 비교하고 한 가지를 선택하시오."
   ]
  },
  {
   "cell_type": "code",
   "execution_count": null,
   "id": "3038a81b",
   "metadata": {},
   "outputs": [],
   "source": [
    "# 2-2. 위에서 선택한 방법을 실제로 수행하고, 선택한 이유를 설명하시오."
   ]
  },
  {
   "cell_type": "code",
   "execution_count": null,
   "id": "31f5d103",
   "metadata": {},
   "outputs": [],
   "source": []
  },
  {
   "cell_type": "code",
   "execution_count": null,
   "id": "fcf2471c",
   "metadata": {},
   "outputs": [],
   "source": [
    "# 3. 오버 샘플링과 언더 샘플링"
   ]
  },
  {
   "cell_type": "code",
   "execution_count": null,
   "id": "6c27544c",
   "metadata": {},
   "outputs": [],
   "source": [
    "# 3-1. 오버 샘플링과 언더 샘플링의 장단점을 비교하고 선택하시오."
   ]
  },
  {
   "cell_type": "code",
   "execution_count": null,
   "id": "2876838e",
   "metadata": {},
   "outputs": [],
   "source": [
    "# 3-2. 분류분석 구현 및 위에서 선택한 샘플링 기법 중 2가지 이상의 알고리즘으로 모델을 비교하고 성능을 측정하시오."
   ]
  },
  {
   "cell_type": "code",
   "execution_count": null,
   "id": "1b586266",
   "metadata": {},
   "outputs": [],
   "source": [
    "# 3-3. 현재까지 전처리한 데이터를 통해 분류 모델 수행 후 결과를 분석하시오."
   ]
  },
  {
   "cell_type": "code",
   "execution_count": null,
   "id": "a0e997a8",
   "metadata": {},
   "outputs": [],
   "source": [
    "# 4. 이상탐지 모델"
   ]
  },
  {
   "cell_type": "code",
   "execution_count": null,
   "id": "9c332f68",
   "metadata": {},
   "outputs": [],
   "source": [
    "# 4.1 이상탐지 모델 2가지 이상 기술, 장단점을 설명하시오."
   ]
  },
  {
   "cell_type": "code",
   "execution_count": null,
   "id": "f725d132",
   "metadata": {},
   "outputs": [],
   "source": [
    "# 4.2 앞서 전처리한 데이터로 한 가지 이상의 탐지 모델을 구현하고 3. 에서 만든 모델과 비교하시오."
   ]
  },
  {
   "cell_type": "code",
   "execution_count": null,
   "id": "9ab2f414",
   "metadata": {},
   "outputs": [],
   "source": [
    "# 4.3 데이터 분석가 관점에서 3.에서 만든 모델과 4.에서 만든 모델을 설명하시오."
   ]
  },
  {
   "cell_type": "code",
   "execution_count": null,
   "id": "752d7705",
   "metadata": {},
   "outputs": [],
   "source": []
  },
  {
   "cell_type": "markdown",
   "id": "8172900c",
   "metadata": {},
   "source": [
    "##  2. 통계분석 (50점) "
   ]
  },
  {
   "cell_type": "code",
   "execution_count": null,
   "id": "ab36f69a",
   "metadata": {},
   "outputs": [],
   "source": [
    "# 1. * 2년 전 제품 생산량이 100,000개, 1년 전 제품 생산량이 150,000개,\n",
    "# 그 후 팩토리 기술의 상승으로 제품 생산량이 250,000개 되었을 때, 연평균 상승률의 대푯값을 구하시오. \n",
    "# (반올림하여 소수점 아래 둘째자리까지 표기하시오.)"
   ]
  },
  {
   "cell_type": "code",
   "execution_count": null,
   "id": "70549e96",
   "metadata": {},
   "outputs": [],
   "source": []
  },
  {
   "cell_type": "code",
   "execution_count": null,
   "id": "787deb3b",
   "metadata": {},
   "outputs": [],
   "source": [
    "# 2. 12건의 광고시간 측정. 평균 15.5초, 분산 3.2초 일때 90% 신뢰구간은?\n",
    "# * 단, 정규분포를 따른다고 가정한다. "
   ]
  },
  {
   "cell_type": "code",
   "execution_count": null,
   "id": "6ef1a818",
   "metadata": {},
   "outputs": [],
   "source": []
  },
  {
   "cell_type": "code",
   "execution_count": null,
   "id": "107ccc26",
   "metadata": {},
   "outputs": [],
   "source": [
    "# 3. 강의 상류와 하류의 생물 다양성 점수에 차이가 있는지 검정하시오.\n",
    "# (단, 같은 강에서 상류와 하류는 서로 독립적이지 않으며, 종속적인 관계에 있다.)\n",
    "# * a = 0.1\n",
    "import pandas as pd\n",
    "raw_df = pd.read_csv(\"./../data/27_problem7.csv\")"
   ]
  },
  {
   "cell_type": "code",
   "execution_count": null,
   "id": "628ddaf8",
   "metadata": {},
   "outputs": [],
   "source": [
    "# 3-1. 귀무가설과 대립가설을 세우시오"
   ]
  },
  {
   "cell_type": "code",
   "execution_count": null,
   "id": "2a1c30d2",
   "metadata": {},
   "outputs": [],
   "source": [
    "# 3-2. 검정 통계량과 유의 확률을 구하고, 연구가설 채택여부를 검정하시오."
   ]
  },
  {
   "cell_type": "code",
   "execution_count": null,
   "id": "2f737074",
   "metadata": {},
   "outputs": [],
   "source": []
  },
  {
   "cell_type": "code",
   "execution_count": null,
   "id": "2836cfc0",
   "metadata": {},
   "outputs": [],
   "source": [
    "# 4. user_counts를 종속변수로 하는 데이터이다\n",
    "import pandas as pd\n",
    "\n",
    "raw_df = pd.read_csv(\"./../data/27_problem8.csv\")"
   ]
  },
  {
   "cell_type": "code",
   "execution_count": null,
   "id": "8f5369b5",
   "metadata": {},
   "outputs": [],
   "source": [
    "# 4-1. 분위수 회귀분석 (Quantile Regression) 을 사용하여 회귀 계수를 구하시오.\n",
    "# (반올림하여 소수점 아래 둘째자리까지 표기하시오.)"
   ]
  },
  {
   "cell_type": "code",
   "execution_count": null,
   "id": "5236cfb3",
   "metadata": {},
   "outputs": [],
   "source": [
    "# 4-2. 1의 모델의 회귀계수를 활용하여 \n",
    "# temperature : 10.5 , wind : 8.2 ,precipitation : 3.5 일때 user_counts를 예측하시오\n",
    "# (반올림하여 소수점 아래 둘째자리까지 표기하시오.)"
   ]
  },
  {
   "cell_type": "code",
   "execution_count": null,
   "id": "9ad0193e",
   "metadata": {},
   "outputs": [],
   "source": []
  },
  {
   "cell_type": "code",
   "execution_count": null,
   "id": "225b50db",
   "metadata": {},
   "outputs": [],
   "source": [
    "# 5. 지하철 호선과 월별, 승객 수 간 상관관계가 있는지 확인(Type III Anova 사용)"
   ]
  },
  {
   "cell_type": "code",
   "execution_count": null,
   "id": "9a50c693",
   "metadata": {},
   "outputs": [],
   "source": [
    "# 5-1. 귀무가설과 대립가설 설정하시오."
   ]
  },
  {
   "cell_type": "code",
   "execution_count": null,
   "id": "dd8d1078",
   "metadata": {},
   "outputs": [],
   "source": [
    "# 5-2. Type III Anova를 사용하여 상관관계가 있는지 검정하시오."
   ]
  }
 ],
 "metadata": {
  "kernelspec": {
   "display_name": "Python 3 (ipykernel)",
   "language": "python",
   "name": "python3"
  },
  "language_info": {
   "codemirror_mode": {
    "name": "ipython",
    "version": 3
   },
   "file_extension": ".py",
   "mimetype": "text/x-python",
   "name": "python",
   "nbconvert_exporter": "python",
   "pygments_lexer": "ipython3",
   "version": "3.7.12"
  },
  "toc": {
   "base_numbering": 1,
   "nav_menu": {},
   "number_sections": false,
   "sideBar": true,
   "skip_h1_title": false,
   "title_cell": "Table of Contents",
   "title_sidebar": "Contents",
   "toc_cell": false,
   "toc_position": {
    "height": "calc(100% - 180px)",
    "left": "10px",
    "top": "150px",
    "width": "284.444px"
   },
   "toc_section_display": true,
   "toc_window_display": false
  }
 },
 "nbformat": 4,
 "nbformat_minor": 5
}
