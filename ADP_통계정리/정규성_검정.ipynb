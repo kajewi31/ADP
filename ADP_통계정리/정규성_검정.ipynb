{
 "cells": [
  {
   "cell_type": "code",
   "execution_count": 1,
   "metadata": {},
   "outputs": [],
   "source": [
    "from scipy import stats"
   ]
  },
  {
   "cell_type": "code",
   "execution_count": 2,
   "metadata": {},
   "outputs": [],
   "source": [
    "samples = [7.2, 6.8, 7.1, 6.5, 7.0, 6.9, 6.4, 6.7, 7.3, 6.6]"
   ]
  },
  {
   "cell_type": "code",
   "execution_count": 4,
   "metadata": {},
   "outputs": [
    {
     "name": "stdout",
     "output_type": "stream",
     "text": [
      "Shapiro-Wilk test statistic: 0.9701646110856056\n",
      "p-value: 0.8923673061902982\n",
      "귀무가설을 기각할 수 없다. 정규성 가정이 성립한다.\n"
     ]
    }
   ],
   "source": [
    "statsitic, p_value = stats.shapiro(samples)\n",
    "\n",
    "H0 = '정규성 가정이 성립한다.'\n",
    "H1 = '정규성 가정이 성립하지 않는다.'\n",
    "\n",
    "\n",
    "print(f\"Shapiro-Wilk test statistic: {statsitic}\")\n",
    "print(f\"p-value: {p_value}\")\n",
    "\n",
    "alpha = 0.05\n",
    "\n",
    "if p_value > alpha:\n",
    "    print(f\"귀무가설을 기각할 수 없다. {H0}\")\n",
    "else:\n",
    "    print(f\"귀무가설을 기각한다. {H1}\")\n",
    "    "
   ]
  },
  {
   "cell_type": "code",
   "execution_count": null,
   "metadata": {},
   "outputs": [],
   "source": []
  }
 ],
 "metadata": {
  "kernelspec": {
   "display_name": "general",
   "language": "python",
   "name": "python3"
  },
  "language_info": {
   "codemirror_mode": {
    "name": "ipython",
    "version": 3
   },
   "file_extension": ".py",
   "mimetype": "text/x-python",
   "name": "python",
   "nbconvert_exporter": "python",
   "pygments_lexer": "ipython3",
   "version": "3.11.5"
  }
 },
 "nbformat": 4,
 "nbformat_minor": 2
}
