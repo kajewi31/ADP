{
 "cells": [
  {
   "cell_type": "code",
   "execution_count": 2,
   "metadata": {},
   "outputs": [],
   "source": [
    "import numpy as np\n",
    "from scipy import stats"
   ]
  },
  {
   "cell_type": "markdown",
   "metadata": {},
   "source": [
    "### 🔹 1. **작아졌는지 검정 (좌측 단측 t-검정)**\n",
    "\n",
    "**문제:**\n",
    "\n",
    "어느 도시의 성인 평균 수면시간은 **7.5시간**으로 알려져 있다.  \n",
    "하지만 재택근무가 늘어난 이후로 **수면시간이 줄었는지** 조사하려 한다.\n",
    "\n",
    "10명을 조사한 결과 수면시간은 다음과 같았다:\n",
    "\n",
    "```\n",
    "[7.2, 6.8, 7.1, 6.5, 7.0, 6.9, 6.4, 6.7, 7.3, 6.6]\n",
    "```\n",
    "\n",
    "- 유의수준: 0.05  \n",
    "- 모집단 분산: **모름**\n",
    "\n",
    "→ 재택근무 이후 **수면시간이 줄었는지 검정하시오.**"
   ]
  },
  {
   "cell_type": "code",
   "execution_count": 3,
   "metadata": {},
   "outputs": [],
   "source": [
    "pop_mean = 7.5\n",
    "\n",
    "samples = [7.2, 6.8, 7.1, 6.5, 7.0, 6.9, 6.4, 6.7, 7.3, 6.6]\n",
    "\n",
    "sample_n = len(samples)\n",
    "sample_var = np.var(samples, ddof=1)\n",
    "sample_std = np.sqrt(sample_var)\n",
    "sample_mean = np.mean(samples)\n",
    "\n",
    "H0 = '재택근무 이후 수면시간이 줄지 않았다.'\n",
    "H1 = '재택근무 이후 수면시간이 줄었다.'"
   ]
  },
  {
   "cell_type": "code",
   "execution_count": 4,
   "metadata": {},
   "outputs": [],
   "source": [
    "t_statistics, p_value = stats.ttest_1samp(a=samples, popmean=pop_mean, alternative='less')"
   ]
  },
  {
   "cell_type": "code",
   "execution_count": 5,
   "metadata": {},
   "outputs": [
    {
     "name": "stdout",
     "output_type": "stream",
     "text": [
      "t_statistics : -6.789028582272221\n",
      "t_critical : -1.8331129326536337\n",
      "재택근무 이후 수면시간이 줄었다.\n"
     ]
    }
   ],
   "source": [
    "# 통계량으로 검정\n",
    "t_critical = stats.t.ppf(0.05, df=sample_n - 1)\n",
    "\n",
    "print(f't_statistics : {t_statistics}')\n",
    "print(f't_critical : {t_critical}')\n",
    "if t_statistics < t_critical:\n",
    "    print(H1)\n",
    "else:\n",
    "    print(H0)"
   ]
  },
  {
   "cell_type": "code",
   "execution_count": 6,
   "metadata": {},
   "outputs": [
    {
     "name": "stdout",
     "output_type": "stream",
     "text": [
      "p_value : 0.0\n",
      "재택근무 이후 수면시간이 줄었다.\n"
     ]
    }
   ],
   "source": [
    "# p_value로 검정\n",
    "\n",
    "print(f'p_value : {round(p_value, 4)}')\n",
    "if p_value < 0.05:\n",
    "    print(H1)\n",
    "else:\n",
    "    print(H0)"
   ]
  },
  {
   "cell_type": "code",
   "execution_count": 7,
   "metadata": {},
   "outputs": [
    {
     "name": "stdout",
     "output_type": "stream",
     "text": [
      "comfidence_interval_upper 7.0255072013301305\n",
      "pop_mean 7.5\n",
      "==========\n",
      "재택근무 이후 수면시간이 줄었다.\n"
     ]
    }
   ],
   "source": [
    "# 신뢰구간으로 검정\n",
    "margin_of_error = abs(t_critical) * (sample_std / np.sqrt(sample_n))\n",
    "ci_upper = sample_mean + margin_of_error\n",
    "ci_lower = float('-inf')\n",
    "\n",
    "print('comfidence_interval_upper', ci_upper)\n",
    "print('pop_mean', pop_mean)\n",
    "print('=' * 10)\n",
    "\n",
    "if ci_upper < pop_mean:\n",
    "    print(H1)\n",
    "else:\n",
    "    print(H0)"
   ]
  },
  {
   "cell_type": "code",
   "execution_count": 8,
   "metadata": {},
   "outputs": [
    {
     "data": {
      "text/plain": [
       "(6.633414941027832, 7.0665850589721675)"
      ]
     },
     "execution_count": 8,
     "metadata": {},
     "output_type": "execute_result"
    }
   ],
   "source": [
    "stats.t.interval(0.95, sample_n - 1, sample_mean, sample_std / np.sqrt(sample_n))"
   ]
  },
  {
   "cell_type": "markdown",
   "metadata": {},
   "source": [
    "### 🔹 2. **커졌는지 검정 (우측 단측 t-검정)**\n",
    "\n",
    "**문제:**\n",
    "\n",
    "한 어플은 사용자의 집중력을 향상시킨다고 주장한다.  \n",
    "기존 집중력 평균은 **70점**이었고, 15명 사용자에게 실험한 결과 다음 점수가 나왔다:\n",
    "\n",
    "```\n",
    "[72, 75, 69, 74, 73, 76, 71, 77, 70, 78, 75, 74, 73, 72, 76]\n",
    "```\n",
    "\n",
    "- 유의수준: 0.05  \n",
    "- 모집단 분산: **모름**\n",
    "\n",
    "→ 어플 사용 후 집중력이 **향상되었는지 검정하시오.**"
   ]
  },
  {
   "cell_type": "code",
   "execution_count": 9,
   "metadata": {},
   "outputs": [],
   "source": [
    "pop_mean = 70\n",
    "\n",
    "samples = [72, 75, 69, 74, 73, 76, 71, 77, 70, 78, 75, 74, 73, 72, 76]\n",
    "\n",
    "sample_n = len(samples)\n",
    "sample_var = np.var(samples, ddof=1)\n",
    "sample_std = np.sqrt(sample_var)\n",
    "sample_mean = np.mean(samples)\n",
    "\n",
    "H0 = '어플 사용 후 집중력이 향상되지 않았다.'\n",
    "H1 = '어플 사용 후 집중력이 향상되었다.'"
   ]
  },
  {
   "cell_type": "code",
   "execution_count": 10,
   "metadata": {},
   "outputs": [],
   "source": [
    "t_statistics, p_value = stats.ttest_1samp(a=samples, popmean=pop_mean, alternative='greater')"
   ]
  },
  {
   "cell_type": "code",
   "execution_count": 11,
   "metadata": {},
   "outputs": [
    {
     "name": "stdout",
     "output_type": "stream",
     "text": [
      "t_statistics : 5.500000000000005\n",
      "t_critical : 1.7613101357748562\n",
      "어플 사용 후 집중력이 향상되었다.\n"
     ]
    }
   ],
   "source": [
    "# 통계량으로 검정\n",
    "t_critical = stats.t.ppf(1 - 0.05, df=sample_n - 1)\n",
    "\n",
    "print(f't_statistics : {t_statistics}')\n",
    "print(f't_critical : {t_critical}')\n",
    "if t_critical < t_statistics:\n",
    "    print(H1)\n",
    "else:\n",
    "    print(H0)"
   ]
  },
  {
   "cell_type": "code",
   "execution_count": 12,
   "metadata": {},
   "outputs": [
    {
     "name": "stdout",
     "output_type": "stream",
     "text": [
      "p_value : 0.0\n",
      "어플 사용 후 집중력이 향상되었다.\n"
     ]
    }
   ],
   "source": [
    "# p_value로 검정\n",
    "\n",
    "print(f'p_value : {round(p_value, 4)}')\n",
    "if p_value < 0.05:\n",
    "    print(H1)\n",
    "else:\n",
    "    print(H0)"
   ]
  },
  {
   "cell_type": "code",
   "execution_count": 13,
   "metadata": {},
   "outputs": [
    {
     "name": "stdout",
     "output_type": "stream",
     "text": [
      "comfidence_interval_upper 72.49245990948343\n",
      "pop_mean 70\n",
      "==========\n",
      "어플 사용 후 집중력이 향상되었다.\n"
     ]
    }
   ],
   "source": [
    "# 신뢰구간으로 검정\n",
    "margin_of_error = t_critical * (sample_std / np.sqrt(sample_n))\n",
    "\n",
    "ci_upper = float('inf')\n",
    "ci_lower = sample_mean - margin_of_error\n",
    "\n",
    "print('comfidence_interval_upper', ci_lower)\n",
    "print('pop_mean', pop_mean)\n",
    "print('=' * 10)\n",
    "\n",
    "if pop_mean < ci_lower:\n",
    "    print(H1)\n",
    "else:\n",
    "    print(H0)"
   ]
  },
  {
   "cell_type": "code",
   "execution_count": 14,
   "metadata": {},
   "outputs": [
    {
     "data": {
      "text/plain": [
       "(72.23680887472206, 75.09652445861128)"
      ]
     },
     "execution_count": 14,
     "metadata": {},
     "output_type": "execute_result"
    }
   ],
   "source": [
    "stats.t.interval(0.95, sample_n - 1, sample_mean, sample_std / np.sqrt(sample_n))"
   ]
  },
  {
   "cell_type": "markdown",
   "metadata": {},
   "source": [
    "\n",
    "### 🔹 3. **같은지 검정 (양측 t-검정)**\n",
    "\n",
    "**문제:**\n",
    "\n",
    "어느 커피 브랜드는 자사 커피의 평균 카페인 함량이 **160mg**이라고 주장한다.  \n",
    "소비자 단체에서 12개 커피를 샘플링한 결과 다음과 같았다:\n",
    "\n",
    "```\n",
    "[159, 163, 161, 158, 162, 157, 159, 160, 164, 161, 158, 162]\n",
    "```\n",
    "\n",
    "- 유의수준: 0.05  \n",
    "- 모집단 분산: **모름**\n",
    "\n",
    "→ 이 커피의 **카페인 함량이 160mg과 다른지 검정하시오.**\n"
   ]
  },
  {
   "cell_type": "code",
   "execution_count": 15,
   "metadata": {},
   "outputs": [],
   "source": [
    "pop_mean = 160\n",
    "\n",
    "samples = [159, 163, 161, 158, 162, 157, 159, 160, 164, 161, 158, 162]\n",
    "\n",
    "sample_n = len(samples)\n",
    "sample_var = np.var(samples, ddof=1)\n",
    "sample_std = np.sqrt(sample_var)\n",
    "sample_mean = np.mean(samples)\n",
    "\n",
    "H0 = '카페인 함량이 160이다.'\n",
    "H1 = '카페인 함량이 160이 아니다.'"
   ]
  },
  {
   "cell_type": "code",
   "execution_count": 16,
   "metadata": {},
   "outputs": [],
   "source": [
    "t_statistics, p_value = stats.ttest_1samp(a=samples, popmean=pop_mean, alternative='two-sided')"
   ]
  },
  {
   "cell_type": "code",
   "execution_count": 17,
   "metadata": {},
   "outputs": [
    {
     "name": "stdout",
     "output_type": "stream",
     "text": [
      "t_statistics : 0.5277130021690234\n",
      "t_critical : 2.200985160082949\n",
      "카페인 함량이 160이다.\n"
     ]
    }
   ],
   "source": [
    "# 통계량으로 검정\n",
    "t_critical = stats.t.ppf(1 - (0.05 / 2), df=sample_n - 1)\n",
    "\n",
    "print(f't_statistics : {t_statistics}')\n",
    "print(f't_critical : {t_critical}')\n",
    "if t_critical < abs(t_statistics):\n",
    "    print(H1)\n",
    "else:\n",
    "    print(H0)"
   ]
  },
  {
   "cell_type": "code",
   "execution_count": 18,
   "metadata": {},
   "outputs": [
    {
     "name": "stdout",
     "output_type": "stream",
     "text": [
      "p_value : 0.6082\n",
      "카페인 함량이 160이다.\n"
     ]
    }
   ],
   "source": [
    "# p_value로 검정\n",
    "\n",
    "print(f'p_value : {round(p_value, 4)}')\n",
    "if p_value < 0.05:\n",
    "    print(H1)\n",
    "else:\n",
    "    print(H0)"
   ]
  },
  {
   "cell_type": "code",
   "execution_count": 19,
   "metadata": {},
   "outputs": [
    {
     "name": "stdout",
     "output_type": "stream",
     "text": [
      "comfidence_interval_upper 161.72359985512105\n",
      "comfidence_interval_lower 158.94306681154563\n",
      "pop_mean 160\n",
      "==========\n",
      "카페인 함량이 160이다.\n"
     ]
    }
   ],
   "source": [
    "# 신뢰구간 검정\n",
    "t_critical = stats.t.ppf(1 - (0.05/2), df=sample_n - 1)\n",
    "\n",
    "margin_of_error = t_critical * (sample_std / np.sqrt(sample_n))\n",
    "ci_upper = sample_mean + margin_of_error\n",
    "ci_lower = sample_mean - margin_of_error\n",
    "\n",
    "print('comfidence_interval_upper', ci_upper)\n",
    "print('comfidence_interval_lower', ci_lower)\n",
    "print('pop_mean', pop_mean)\n",
    "print('=' * 10)\n",
    "\n",
    "if pop_mean < ci_lower or ci_upper < pop_mean:\n",
    "    print(H1)\n",
    "else:\n",
    "    print(H0)"
   ]
  },
  {
   "cell_type": "code",
   "execution_count": 20,
   "metadata": {},
   "outputs": [
    {
     "data": {
      "text/plain": [
       "(158.69538955715092, 161.97127710951577)"
      ]
     },
     "execution_count": 20,
     "metadata": {},
     "output_type": "execute_result"
    }
   ],
   "source": [
    "stats.t.interval(0.975, sample_n - 1, sample_mean, sample_std / np.sqrt(sample_n))"
   ]
  },
  {
   "cell_type": "code",
   "execution_count": null,
   "metadata": {},
   "outputs": [],
   "source": []
  }
 ],
 "metadata": {
  "kernelspec": {
   "display_name": "general",
   "language": "python",
   "name": "python3"
  },
  "language_info": {
   "codemirror_mode": {
    "name": "ipython",
    "version": 3
   },
   "file_extension": ".py",
   "mimetype": "text/x-python",
   "name": "python",
   "nbconvert_exporter": "python",
   "pygments_lexer": "ipython3",
   "version": "3.11.5"
  }
 },
 "nbformat": 4,
 "nbformat_minor": 2
}
