{
 "cells": [
  {
   "cell_type": "code",
   "execution_count": 4,
   "metadata": {},
   "outputs": [],
   "source": [
    "from scipy import stats"
   ]
  },
  {
   "cell_type": "markdown",
   "metadata": {},
   "source": [
    "\n",
    "## 🔹 [Friedman 검정 실전 문제]\n",
    "\n",
    "### 📝 문제:\n",
    "\n",
    "한 실험에서는 **세 가지 집중력 강화 훈련 방법(A, B, C)**이 실제 효과가 있는지 확인하고자 했다.  \n",
    "**동일한 8명의 참가자**에게 세 가지 훈련을 모두 적용한 뒤,  \n",
    "각 훈련 후의 **집중력 점수**를 측정하였다.\n",
    "\n",
    "---\n",
    "\n",
    "### 📦 집중력 점수 데이터:\n",
    "\n",
    "| 참가자 | 방법 A | 방법 B | 방법 C |\n",
    "|--------|--------|--------|--------|\n",
    "| 1 | 70 | 74 | 72 |\n",
    "| 2 | 65 | 68 | 69 |\n",
    "| 3 | 72 | 75 | 73 |\n",
    "| 4 | 68 | 70 | 69 |\n",
    "| 5 | 71 | 74 | 73 |\n",
    "| 6 | 66 | 67 | 65 |\n",
    "| 7 | 69 | 73 | 71 |\n",
    "| 8 | 64 | 66 | 67 |\n"
   ]
  },
  {
   "cell_type": "code",
   "execution_count": 5,
   "metadata": {},
   "outputs": [],
   "source": [
    "A = [70, 65, 72, 68, 71, 66, 69, 64]\n",
    "B = [74, 68, 75, 70, 74, 67, 73, 66]\n",
    "C = [72, 69, 73, 69, 73, 65, 71, 67]"
   ]
  },
  {
   "cell_type": "code",
   "execution_count": 6,
   "metadata": {},
   "outputs": [],
   "source": [
    "H0 = '세 가지 집중력 강화 훈련 방법에 따른 성적 차이가 없다.'\n",
    "H1 = '세 가지 집중력 강화 훈련 방법에 따른 성적 차이가 있다.'"
   ]
  },
  {
   "cell_type": "code",
   "execution_count": 8,
   "metadata": {},
   "outputs": [
    {
     "name": "stdout",
     "output_type": "stream",
     "text": [
      "statistic : 10.75\n",
      "p_value : 0.004630918733533247\n",
      "세 가지 집중력 강화 훈련 방법에 따른 성적 차이가 있다.\n"
     ]
    }
   ],
   "source": [
    "statistic, p_value = stats.friedmanchisquare(A, B, C)\n",
    "print(f'statistic : {statistic}')\n",
    "print(f'p_value : {p_value}')\n",
    "if 0.05 < p_value:\n",
    "    print(H0)\n",
    "else:\n",
    "    print(H1)"
   ]
  },
  {
   "cell_type": "code",
   "execution_count": 9,
   "metadata": {},
   "outputs": [
    {
     "name": "stdout",
     "output_type": "stream",
     "text": [
      "          A        B         C\n",
      "A  1.000000  0.26571  0.861485\n",
      "B  0.265710  1.00000  1.000000\n",
      "C  0.861485  1.00000  1.000000\n"
     ]
    }
   ],
   "source": [
    "# 사후검정\n",
    "import pandas as pd\n",
    "import scikit_posthocs as sp\n",
    "\n",
    "df = pd.DataFrame({\n",
    "    'A': A,\n",
    "    'B': B,\n",
    "    'C': C\n",
    "})\n",
    "df_melted = df.melt(var_name='method', value_name='score')\n",
    "\n",
    "# 사후검정 - Dunn's test + Bonferroni 보정\n",
    "posthoc = sp.posthoc_dunn(df_melted, val_col='score', group_col='method', p_adjust='bonferroni')\n",
    "\n",
    "print(posthoc)"
   ]
  },
  {
   "cell_type": "code",
   "execution_count": null,
   "metadata": {},
   "outputs": [],
   "source": []
  }
 ],
 "metadata": {
  "kernelspec": {
   "display_name": "general",
   "language": "python",
   "name": "python3"
  },
  "language_info": {
   "codemirror_mode": {
    "name": "ipython",
    "version": 3
   },
   "file_extension": ".py",
   "mimetype": "text/x-python",
   "name": "python",
   "nbconvert_exporter": "python",
   "pygments_lexer": "ipython3",
   "version": "3.11.5"
  }
 },
 "nbformat": 4,
 "nbformat_minor": 2
}
