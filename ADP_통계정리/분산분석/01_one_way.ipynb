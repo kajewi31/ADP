{
 "cells": [
  {
   "cell_type": "code",
   "execution_count": 2,
   "metadata": {},
   "outputs": [],
   "source": [
    "import numpy as np\n",
    "import pandas as pd\n",
    "from scipy import stats\n",
    "\n",
    "import statsmodels.api as sm\n",
    "from statsmodels.formula.api import ols\n",
    "from statsmodels.stats.anova import anova_lm"
   ]
  },
  {
   "cell_type": "markdown",
   "metadata": {},
   "source": [
    "## 🔹 [One-Way ANOVA 실전 문제]\n",
    "\n",
    "### 📝 문제:\n",
    "\n",
    "한 교육기관에서는 **세 가지 학습 방법(A, B, C)**이  \n",
    "학생들의 **시험 성적에 차이를 주는지** 알아보고자 한다.\n",
    "\n",
    "각 그룹에서 무작위로 6명의 점수를 추출했으며, 결과는 다음과 같다:\n",
    "\n",
    "| 학습법 | 점수 |\n",
    "|--------|------|\n",
    "| A      | 85, 88, 90, 86, 87, 89 |\n",
    "| B      | 78, 75, 80, 76, 77, 79 |\n",
    "| C      | 92, 95, 91, 94, 93, 96 |"
   ]
  },
  {
   "cell_type": "code",
   "execution_count": 3,
   "metadata": {},
   "outputs": [],
   "source": [
    "A = [85, 88, 90, 86, 87, 89]\n",
    "B = [78, 75, 80, 76, 77, 79]\n",
    "C = [92, 95, 91, 94, 93, 96]\n",
    "\n",
    "data = {\n",
    "    'score': A + B + C,\n",
    "    'group': ['A'] * 6 + ['B'] * 6 + ['C'] * 6\n",
    "}\n",
    "\n",
    "df = pd.DataFrame(data)\n",
    "\n",
    "H0 = 'A,B,C간 차이가 없다.'\n",
    "H1 = 'A,B,C간 차이가 있다.'"
   ]
  },
  {
   "cell_type": "code",
   "execution_count": 5,
   "metadata": {},
   "outputs": [
    {
     "name": "stdout",
     "output_type": "stream",
     "text": [
      "정규성을 만족합니다.\n"
     ]
    }
   ],
   "source": [
    "# 정규성 검정\n",
    "group_a = df[df['group'] == 'A']\n",
    "group_b = df[df['group'] == 'B']\n",
    "group_c = df[df['group'] == 'C']\n",
    "\n",
    "statistic_a, p_value_a = stats.shapiro(group_a['score'])\n",
    "statistic_b, p_value_b = stats.shapiro(group_b['score'])\n",
    "statistic_c, p_value_c = stats.shapiro(group_c['score'])\n",
    "\n",
    "if p_value_a > 0.05 and p_value_b > 0.05 and p_value_c > 0.05:\n",
    "    print('정규성을 만족합니다.')\n",
    "else:\n",
    "    print('정규성을 만족하지 않습니다.')"
   ]
  },
  {
   "cell_type": "code",
   "execution_count": null,
   "metadata": {},
   "outputs": [
    {
     "name": "stdout",
     "output_type": "stream",
     "text": [
      "등분산성을 만족합니다.\n"
     ]
    }
   ],
   "source": [
    "# 등분산성 검정\n",
    "statistic, p_value = stats.levene(group_a['score'], group_b['score'], group_c['score'])\n",
    "if p_value > 0.05:\n",
    "    print('등분산성을 만족합니다.')\n",
    "else:\n",
    "    print('등분산성을 만족하지 않습니다.')    "
   ]
  },
  {
   "cell_type": "code",
   "execution_count": 10,
   "metadata": {},
   "outputs": [
    {
     "data": {
      "text/html": [
       "<div>\n",
       "<style scoped>\n",
       "    .dataframe tbody tr th:only-of-type {\n",
       "        vertical-align: middle;\n",
       "    }\n",
       "\n",
       "    .dataframe tbody tr th {\n",
       "        vertical-align: top;\n",
       "    }\n",
       "\n",
       "    .dataframe thead th {\n",
       "        text-align: right;\n",
       "    }\n",
       "</style>\n",
       "<table border=\"1\" class=\"dataframe\">\n",
       "  <thead>\n",
       "    <tr style=\"text-align: right;\">\n",
       "      <th></th>\n",
       "      <th>sum_sq</th>\n",
       "      <th>df</th>\n",
       "      <th>F</th>\n",
       "      <th>PR(&gt;F)</th>\n",
       "    </tr>\n",
       "  </thead>\n",
       "  <tbody>\n",
       "    <tr>\n",
       "      <th>group</th>\n",
       "      <td>784.0</td>\n",
       "      <td>2.0</td>\n",
       "      <td>112.0</td>\n",
       "      <td>9.609487e-10</td>\n",
       "    </tr>\n",
       "    <tr>\n",
       "      <th>Residual</th>\n",
       "      <td>52.5</td>\n",
       "      <td>15.0</td>\n",
       "      <td>NaN</td>\n",
       "      <td>NaN</td>\n",
       "    </tr>\n",
       "  </tbody>\n",
       "</table>\n",
       "</div>"
      ],
      "text/plain": [
       "          sum_sq    df      F        PR(>F)\n",
       "group      784.0   2.0  112.0  9.609487e-10\n",
       "Residual    52.5  15.0    NaN           NaN"
      ]
     },
     "execution_count": 10,
     "metadata": {},
     "output_type": "execute_result"
    }
   ],
   "source": [
    "model = ols('score ~ group', data=df).fit()\n",
    "anova_table = anova_lm(model, typ=2)\n",
    "anova_table"
   ]
  },
  {
   "cell_type": "code",
   "execution_count": 21,
   "metadata": {},
   "outputs": [
    {
     "name": "stdout",
     "output_type": "stream",
     "text": [
      "A,B,C간 차이가 있다.\n"
     ]
    }
   ],
   "source": [
    "if anova_table.loc['group', 'PR(>F)'] < 0.05:\n",
    "    print(H1)\n",
    "else:\n",
    "    print(H0)"
   ]
  },
  {
   "cell_type": "code",
   "execution_count": 22,
   "metadata": {},
   "outputs": [
    {
     "name": "stdout",
     "output_type": "stream",
     "text": [
      " Multiple Comparison of Means - Tukey HSD, FWER=0.05 \n",
      "=====================================================\n",
      "group1 group2 meandiff p-adj   lower    upper  reject\n",
      "-----------------------------------------------------\n",
      "     A      B    -10.0    0.0 -12.8056 -7.1944   True\n",
      "     A      C      6.0 0.0002   3.1944  8.8056   True\n",
      "     B      C     16.0    0.0  13.1944 18.8056   True\n",
      "-----------------------------------------------------\n"
     ]
    },
    {
     "data": {
      "image/png": "[encoded data removed]",
      "text/plain": [
       "<Figure size 1000x600 with 1 Axes>"
      ]
     },
     "metadata": {},
     "output_type": "display_data"
    }
   ],
   "source": [
    "# 사후검정\n",
    "\n",
    "from statsmodels.stats.multicomp import pairwise_tukeyhsd\n",
    "tukey = pairwise_tukeyhsd(endog=df['score'], groups=df['group'], alpha=0.05)\n",
    "print(tukey.summary())\n",
    "fig = tukey.plot_simultaneous()"
   ]
  },
  {
   "cell_type": "code",
   "execution_count": null,
   "metadata": {},
   "outputs": [],
   "source": []
  }
 ],
 "metadata": {
  "kernelspec": {
   "display_name": "general",
   "language": "python",
   "name": "python3"
  },
  "language_info": {
   "codemirror_mode": {
    "name": "ipython",
    "version": 3
   },
   "file_extension": ".py",
   "mimetype": "text/x-python",
   "name": "python",
   "nbconvert_exporter": "python",
   "pygments_lexer": "ipython3",
   "version": "3.11.5"
  }
 },
 "nbformat": 4,
 "nbformat_minor": 2
}
