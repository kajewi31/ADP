{
 "cells": [
  {
   "cell_type": "code",
   "execution_count": null,
   "metadata": {},
   "outputs": [
    {
     "name": "stdout",
     "output_type": "stream",
     "text": [
      "F 통계량: 4.2308\n",
      "p-value: 0.1913\n",
      "귀무가설 채택: 두 모집단 분산이 같다.\n"
     ]
    }
   ],
   "source": [
    "import numpy as np\n",
    "from scipy import stats\n",
    "\n",
    "# 예시 데이터 (정규성 가정)\n",
    "group1 = np.array([20, 21, 19, 22, 20])  # s1^2\n",
    "group2 = np.array([30, 29, 35, 31, 30])  # s2^2\n",
    "\n",
    "# 표본 분산\n",
    "var1 = np.var(group1, ddof=1)\n",
    "var2 = np.var(group2, ddof=1)\n",
    "\n",
    "# F 통계량\n",
    "f_stat = var1 / var2 if var1 > var2 else var2 / var1\n",
    "\n",
    "# 자유도\n",
    "df1 = len(group1) - 1\n",
    "df2 = len(group2) - 1\n",
    "\n",
    "# p-value (양측)\n",
    "p_value = 2 * min(\n",
    "    stats.f.cdf(f_stat, df1, df2),\n",
    "    1 - stats.f.cdf(f_stat, df1, df2)\n",
    ")\n",
    "\n",
    "print(f\"F 통계량: {f_stat:.4f}\")\n",
    "print(f\"p-value: {p_value:.4f}\")\n",
    "\n",
    "if p_value < 0.05:\n",
    "    print(\"귀무가설 기각: 두 모집단 분산이 다르다.\")\n",
    "else:\n",
    "    print(\"귀무가설 채택: 두 모집단 분산이 같다.\")"
   ]
  },
  {
   "cell_type": "code",
   "execution_count": 3,
   "metadata": {},
   "outputs": [
    {
     "name": "stdout",
     "output_type": "stream",
     "text": [
      "Levene 통계량: 0.9848, p-value: 0.3501\n",
      "귀무가설 채택: 두 모집단 분산이 같다.\n"
     ]
    }
   ],
   "source": [
    "from scipy.stats import levene\n",
    "\n",
    "stat, p = levene(group1, group2, center='mean')  # 또는 median\n",
    "print(f\"Levene 통계량: {stat:.4f}, p-value: {p:.4f}\")\n",
    "\n",
    "if p_value < 0.05:\n",
    "    print(\"귀무가설 기각: 두 모집단 분산이 다르다.\")\n",
    "else:\n",
    "    print(\"귀무가설 채택: 두 모집단 분산이 같다.\")"
   ]
  },
  {
   "cell_type": "code",
   "execution_count": null,
   "metadata": {},
   "outputs": [],
   "source": []
  }
 ],
 "metadata": {
  "kernelspec": {
   "display_name": "general",
   "language": "python",
   "name": "python3"
  },
  "language_info": {
   "codemirror_mode": {
    "name": "ipython",
    "version": 3
   },
   "file_extension": ".py",
   "mimetype": "text/x-python",
   "name": "python",
   "nbconvert_exporter": "python",
   "pygments_lexer": "ipython3",
   "version": "3.11.5"
  }
 },
 "nbformat": 4,
 "nbformat_minor": 2
}
