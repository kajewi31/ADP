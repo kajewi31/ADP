{
 "cells": [
  {
   "cell_type": "code",
   "execution_count": null,
   "metadata": {},
   "outputs": [],
   "source": [
    "import numpy as np\n",
    "from scipy import stats"
   ]
  },
  {
   "cell_type": "markdown",
   "metadata": {},
   "source": [
    "## 🔹 1. **작아졌는지 검정 (좌측 단측 Z검정)**\n",
    "\n",
    "**문제:**  \n",
    "한 제약회사는 기존 약의 평균 효과 지속 시간이 **12시간**이라 주장한다.  \n",
    "하지만 경쟁사는 실제보다 짧을 수 있다고 주장하며 50명을 대상으로 실험했다.\n",
    "\n",
    "- 모집단 표준편차: **σ = 2시간**\n",
    "- 표본 평균: **11.4시간**\n",
    "- 표본 크기: **n = 50**\n",
    "\n",
    "이 약의 효과 지속 시간이 **실제로 더 짧은지**  \n",
    "**유의수준 0.05에서 검정**하시오."
   ]
  },
  {
   "cell_type": "code",
   "execution_count": null,
   "metadata": {},
   "outputs": [],
   "source": [
    "pop_mean = 12\n",
    "pop_std = 2\n",
    "pop_var = np.square(pop_std)\n",
    "\n",
    "sample_n = 50\n",
    "sample_mean = 11.4\n",
    "\n",
    "H0 = '약의 평균 지속시간이 12시간보다 짧지 않다.'\n",
    "H1 = '약의 평균 지속시간이 12시간보다 짧다.'"
   ]
  },
  {
   "cell_type": "code",
   "execution_count": 6,
   "metadata": {},
   "outputs": [
    {
     "name": "stdout",
     "output_type": "stream",
     "text": [
      "z_statistics -2.1213203435596415\n",
      "z_critical -1.6448536269514729\n",
      "==========\n",
      "약의 평균 지속시간이 12시간보다 짧다.\n"
     ]
    }
   ],
   "source": [
    "# 통계량으로 검정\n",
    "z_statistics = (sample_mean - pop_mean) / np.sqrt((pop_var / sample_n))\n",
    "z_critical = stats.norm.ppf(0.05)\n",
    "\n",
    "print('z_statistics', z_statistics)\n",
    "print('z_critical', z_critical)\n",
    "print('=' * 10)\n",
    "if z_statistics < z_critical:\n",
    "    print(H1)\n",
    "else:\n",
    "    print(H0)"
   ]
  },
  {
   "cell_type": "code",
   "execution_count": 7,
   "metadata": {},
   "outputs": [
    {
     "name": "stdout",
     "output_type": "stream",
     "text": [
      "p_value 0.01694742676234467\n",
      "==========\n",
      "약의 평균 지속시간이 12시간보다 짧다.\n"
     ]
    }
   ],
   "source": [
    "# p_value로 검정\n",
    "z_statistics = (sample_mean - pop_mean) / np.sqrt((pop_var / sample_n))\n",
    "p_value = stats.norm.cdf(z_statistics)\n",
    "\n",
    "print('p_value', p_value)\n",
    "print('=' * 10)\n",
    "if p_value < 0.05:\n",
    "    print(H1)\n",
    "else:\n",
    "    print(H0)"
   ]
  },
  {
   "cell_type": "code",
   "execution_count": 8,
   "metadata": {},
   "outputs": [
    {
     "name": "stdout",
     "output_type": "stream",
     "text": [
      "comfidence_interval_upper 11.86523486147067\n",
      "pop_mean 12\n",
      "==========\n",
      "약의 평균 지속시간이 12시간보다 짧다.\n"
     ]
    }
   ],
   "source": [
    "# 신뢰구간으로 검정\n",
    "z_critical = stats.norm.ppf(1 - 0.05)\n",
    "\n",
    "margin_of_error = z_critical * (pop_std / np.sqrt(sample_n))\n",
    "ci_upper = sample_mean + margin_of_error\n",
    "ci_lower = float('-inf')\n",
    "\n",
    "print('comfidence_interval_upper', ci_upper)\n",
    "print('pop_mean', pop_mean)\n",
    "print('=' * 10)\n",
    "\n",
    "if ci_upper < pop_mean:\n",
    "    print(H1)\n",
    "else:\n",
    "    print(H0)"
   ]
  },
  {
   "cell_type": "markdown",
   "metadata": {},
   "source": [
    "## 🔹 2. **커졌는지 검정 (우측 단측 Z검정)**\n",
    "\n",
    "**문제:**  \n",
    "한 운동 프로그램은 성인의 평균 체력 점수를 **65점**까지 올려준다고 한다.  \n",
    "이를 검증하기 위해 40명을 대상으로 실험했더니 **평균 67점**이 나왔다.\n",
    "\n",
    "- 모집단 표준편차: **σ = 6점**\n",
    "- 표본 평균: **67점**\n",
    "- 표본 크기: **n = 40**\n",
    "\n",
    "이 프로그램이 **실제로 체력 점수를 향상시키는지**  \n",
    "**유의수준 0.05에서 검정**하시오."
   ]
  },
  {
   "cell_type": "code",
   "execution_count": 9,
   "metadata": {},
   "outputs": [],
   "source": [
    "pop_mean = 65\n",
    "pop_std = 6\n",
    "pop_var = np.square(pop_std)\n",
    "\n",
    "sample_n = 40\n",
    "sample_mean = 67\n",
    "\n",
    "H0 = '운동 프로그램이 체력점수를 65점 까지 올려주지 않는다.'\n",
    "H1 = '운동 프로그램이 체력점수를 65점 까지 올려준다.'"
   ]
  },
  {
   "cell_type": "code",
   "execution_count": 10,
   "metadata": {},
   "outputs": [
    {
     "name": "stdout",
     "output_type": "stream",
     "text": [
      "z_statistics 2.1081851067789197\n",
      "z_critical 1.644853626951472\n",
      "==========\n",
      "운동 프로그램이 체력점수를 65점 까지 올려준다.\n"
     ]
    }
   ],
   "source": [
    "# 통계량으로 검정\n",
    "z_statistics = (sample_mean - pop_mean) / np.sqrt((pop_var / sample_n))\n",
    "z_critical = stats.norm.ppf(1 - 0.05)\n",
    "\n",
    "print('z_statistics', z_statistics)\n",
    "print('z_critical', z_critical)\n",
    "print('=' * 10)\n",
    "if z_critical < z_statistics:\n",
    "    print(H1)\n",
    "else:\n",
    "    print(H0)"
   ]
  },
  {
   "cell_type": "code",
   "execution_count": 11,
   "metadata": {},
   "outputs": [
    {
     "name": "stdout",
     "output_type": "stream",
     "text": [
      "p_value 0.017507490509831247\n",
      "==========\n",
      "운동 프로그램이 체력점수를 65점 까지 올려준다.\n"
     ]
    }
   ],
   "source": [
    "# p_value로 검정\n",
    "z_statistics = (sample_mean - pop_mean) / np.sqrt((pop_var / sample_n))\n",
    "p_value = 1 - stats.norm.cdf(z_statistics)\n",
    "\n",
    "print('p_value', p_value)\n",
    "print('=' * 10)\n",
    "if p_value < 0.05:\n",
    "    print(H1)\n",
    "else:\n",
    "    print(H0)"
   ]
  },
  {
   "cell_type": "code",
   "execution_count": 12,
   "metadata": {},
   "outputs": [
    {
     "name": "stdout",
     "output_type": "stream",
     "text": [
      "comfidence_interval_lower 65.43955483637333\n",
      "pop_mean 65\n",
      "==========\n",
      "운동 프로그램이 체력점수를 65점 까지 올려준다.\n"
     ]
    }
   ],
   "source": [
    "# 신뢰구간으로 검정\n",
    "z_critical = stats.norm.ppf(1 - 0.05)\n",
    "\n",
    "margin_of_error = z_critical * (pop_std / np.sqrt(sample_n))\n",
    "ci_upper = float('inf')\n",
    "ci_lower = sample_mean - margin_of_error\n",
    "\n",
    "print('comfidence_interval_lower', ci_lower)\n",
    "print('pop_mean', pop_mean)\n",
    "print('=' * 10)\n",
    "\n",
    "if pop_mean < ci_lower:\n",
    "    print(H1)\n",
    "else:\n",
    "    print(H0)"
   ]
  },
  {
   "cell_type": "markdown",
   "metadata": {},
   "source": [
    "## 🔹 3. **같은지 검정 (양측 Z검정)**\n",
    "\n",
    "**문제:**  \n",
    "한 커피 브랜드는 자사 커피의 평균 카페인 함량이 **150mg**이라고 주장한다.  \n",
    "소비자단체가 조사한 결과, 36개 샘플의 평균이 **153mg**이었다.\n",
    "\n",
    "- 모집단 표준편차: **σ = 10mg**\n",
    "- 표본 평균: **153mg**\n",
    "- 표본 크기: **n = 36**\n",
    "\n",
    "이 커피의 카페인 함량이 **정말 150mg과 같은지**  \n",
    "**유의수준 0.05에서 검정**하시오.\n"
   ]
  },
  {
   "cell_type": "code",
   "execution_count": 13,
   "metadata": {},
   "outputs": [],
   "source": [
    "pop_mean = 150\n",
    "pop_std = 10\n",
    "pop_var = np.square(pop_std)\n",
    "\n",
    "sample_n = 36\n",
    "sample_mean = 153\n",
    "\n",
    "H0 = '카페인 합량이 150이다.'\n",
    "H1 = '카페인 합량이 150이 아니다.'"
   ]
  },
  {
   "cell_type": "code",
   "execution_count": 14,
   "metadata": {},
   "outputs": [
    {
     "name": "stdout",
     "output_type": "stream",
     "text": [
      "z_statistics 1.7999999999999998\n",
      "z_critical 1.959963984540054\n",
      "==========\n",
      "카페인 합량이 150이다.\n"
     ]
    }
   ],
   "source": [
    "# 통계량으로 검정\n",
    "z_statistics = abs((sample_mean - pop_mean) / np.sqrt((pop_var / sample_n)))\n",
    "z_critical = stats.norm.ppf(1 - 0.025)\n",
    "\n",
    "print('z_statistics', z_statistics)\n",
    "print('z_critical', z_critical)\n",
    "print('=' * 10)\n",
    "if z_critical < z_statistics:\n",
    "    print(H1)\n",
    "else:\n",
    "    print(H0)"
   ]
  },
  {
   "cell_type": "code",
   "execution_count": 15,
   "metadata": {},
   "outputs": [
    {
     "name": "stdout",
     "output_type": "stream",
     "text": [
      "p_value 0.07186063822585154\n",
      "==========\n",
      "카페인 합량이 150이다.\n"
     ]
    }
   ],
   "source": [
    "# p_value로 검정\n",
    "z_statistics = abs((sample_mean - pop_mean) / np.sqrt((pop_var / sample_n)))\n",
    "p_value = (1 - stats.norm.cdf(z_statistics)) * 2\n",
    "\n",
    "print('p_value', p_value)\n",
    "print('=' * 10)\n",
    "if p_value < 0.05:\n",
    "    print(H1)\n",
    "else:\n",
    "    print(H0)"
   ]
  },
  {
   "cell_type": "code",
   "execution_count": 16,
   "metadata": {},
   "outputs": [
    {
     "name": "stdout",
     "output_type": "stream",
     "text": [
      "comfidence_interval_upper 156.26660664090008\n",
      "comfidence_interval_lower 149.73339335909992\n",
      "pop_mean 150\n",
      "==========\n",
      "카페인 합량이 150이다.\n"
     ]
    }
   ],
   "source": [
    "# 신뢰구간으로 검정\n",
    "z_critical = stats.norm.ppf(1 - 0.025)\n",
    "\n",
    "margin_of_error = z_critical * (pop_std / np.sqrt(sample_n))\n",
    "ci_upper = sample_mean + margin_of_error\n",
    "ci_lower = sample_mean - margin_of_error\n",
    "\n",
    "print('comfidence_interval_upper', ci_upper)\n",
    "print('comfidence_interval_lower', ci_lower)\n",
    "print('pop_mean', pop_mean)\n",
    "print('=' * 10)\n",
    "\n",
    "if pop_mean < ci_lower or ci_upper < pop_mean:\n",
    "    print(H1)\n",
    "else:\n",
    "    print(H0)"
   ]
  },
  {
   "cell_type": "code",
   "execution_count": null,
   "metadata": {},
   "outputs": [],
   "source": []
  }
 ],
 "metadata": {
  "kernelspec": {
   "display_name": "general",
   "language": "python",
   "name": "python3"
  },
  "language_info": {
   "codemirror_mode": {
    "name": "ipython",
    "version": 3
   },
   "file_extension": ".py",
   "mimetype": "text/x-python",
   "name": "python",
   "nbconvert_exporter": "python",
   "pygments_lexer": "ipython3",
   "version": "3.11.5"
  }
 },
 "nbformat": 4,
 "nbformat_minor": 2
}
