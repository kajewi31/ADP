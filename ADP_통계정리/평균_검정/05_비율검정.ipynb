{
 "cells": [
  {
   "cell_type": "code",
   "execution_count": 1,
   "metadata": {},
   "outputs": [],
   "source": [
    "import numpy as np\n",
    "from scipy import stats"
   ]
  },
  {
   "cell_type": "markdown",
   "metadata": {},
   "source": [
    "## 🔹 [단측검정 실전 문제 – 두 비율 Z검정]\n",
    "\n",
    "### 📝 문제:\n",
    "\n",
    "한 마케팅팀은 **A 광고**가 **B 광고보다 클릭률이 높다**고 주장한다.  \n",
    "이를 검정하기 위해 A광고와 B광고를 1,000명씩 노출한 결과,  \n",
    "다음과 같은 클릭 수를 얻었다.\n",
    "\n",
    "| 광고 | 노출 수 | 클릭 수 |\n",
    "|------|----------|----------|\n",
    "| A광고 | 1,000 | 65 |\n",
    "| B광고 | 1,000 | 50 |\n",
    "\n",
    "→ 마케팅팀의 주장을 검정하시오.  \n",
    "(유의수준 0.05, **단측검정**: A광고가 더 높다는 방향)"
   ]
  },
  {
   "cell_type": "code",
   "execution_count": 2,
   "metadata": {},
   "outputs": [],
   "source": [
    "total_a = 1000\n",
    "success_a = 65\n",
    "\n",
    "total_b = 1000\n",
    "success_b = 50\n",
    "\n",
    "H0 = 'A광고가 B광고의 클릭률보다 높지 않다.'\n",
    "H1 = 'A광고가 B광고의 클릭률보다 높다.'"
   ]
  },
  {
   "cell_type": "code",
   "execution_count": 3,
   "metadata": {},
   "outputs": [],
   "source": [
    "prob_a = success_a / total_a\n",
    "prob_b = success_b / total_b\n",
    "\n",
    "prob = (success_a + success_b) / (total_a + total_b)"
   ]
  },
  {
   "cell_type": "code",
   "execution_count": 4,
   "metadata": {},
   "outputs": [
    {
     "name": "stdout",
     "output_type": "stream",
     "text": [
      "z_statistic : 1.440793230951582\n",
      "z_critical  : 1.644853626951472\n",
      "A광고가 B광고의 클릭률보다 높지 않다.\n"
     ]
    }
   ],
   "source": [
    "# 통계량 검정\n",
    "alpha = 0.05\n",
    "z_statistic = (prob_a - prob_b) / np.sqrt(prob * (1 - prob) * (1 / total_a + 1 / total_b))\n",
    "z_statistic\n",
    "\n",
    "z_critical = stats.norm.ppf(1 - alpha)\n",
    "\n",
    "print(f'z_statistic : {z_statistic}')\n",
    "print(f'z_critical  : {z_critical}')\n",
    "if z_statistic < z_critical:\n",
    "    print(H0)\n",
    "else:\n",
    "    print(H1)"
   ]
  },
  {
   "cell_type": "code",
   "execution_count": 5,
   "metadata": {},
   "outputs": [
    {
     "name": "stdout",
     "output_type": "stream",
     "text": [
      "p_value : 0.07482155318518635\n",
      "A광고가 B광고의 클릭률보다 높지 않다.\n"
     ]
    }
   ],
   "source": [
    "# p_value 검정\n",
    "alpha = 0.05\n",
    "z_statistic = (prob_a - prob_b) / np.sqrt(prob * (1 - prob) * (1 / total_a + 1 / total_b))\n",
    "p_value = (1 - stats.norm.cdf(z_statistic))\n",
    "\n",
    "print(f'p_value : {p_value}')\n",
    "if 0.05 < p_value:\n",
    "    print(H0)\n",
    "else:\n",
    "    print(H1)"
   ]
  },
  {
   "cell_type": "code",
   "execution_count": 6,
   "metadata": {},
   "outputs": [
    {
     "name": "stdout",
     "output_type": "stream",
     "text": [
      "두 비율 차이 신뢰구간: (-0.0021, inf)\n",
      "A광고가 B광고의 클릭률보다 높지 않다.\n"
     ]
    }
   ],
   "source": [
    "# 신뢰구간 검정\n",
    "\n",
    "diff = prob_a - prob_b\n",
    "# 표준 오차 (SE)\n",
    "se = np.sqrt((prob_a * (1 - prob_a)) / total_a + (prob_b * (1 - prob_b)) / total_b)\n",
    "\n",
    "# 임계값 (Z값, 양측 95% CI)\n",
    "z_critical = stats.norm.ppf(1 - 0.05)\n",
    "\n",
    "# 신뢰구간 계산\n",
    "ci_lower = diff - z_critical * se\n",
    "ci_upper = float('inf')\n",
    "\n",
    "print(f\"두 비율 차이 신뢰구간: ({ci_lower:.4f}, {ci_upper:.4f})\")\n",
    "\n",
    "# 해석\n",
    "if ci_lower < 0 < ci_upper:\n",
    "    print(H0)\n",
    "else:\n",
    "    print(H1)"
   ]
  },
  {
   "cell_type": "markdown",
   "metadata": {},
   "source": [
    "## 🔹 [양측검정 - 두 비율 Z검정 실전 문제]\n",
    "\n",
    "### 📝 문제:\n",
    "\n",
    "한 회사는 **남성과 여성 지원자의 합격률에 차이가 있는지** 알고 싶다.\n",
    "\n",
    "최근 채용에서 다음과 같은 결과가 나왔다:\n",
    "\n",
    "| 성별 | 지원자 수 | 합격자 수 |\n",
    "|------|------------|------------|\n",
    "| 남성 | 120명      | 48명       |\n",
    "| 여성 | 100명      | 30명       |"
   ]
  },
  {
   "cell_type": "code",
   "execution_count": 7,
   "metadata": {},
   "outputs": [],
   "source": [
    "total_a = 120\n",
    "success_a = 48\n",
    "\n",
    "total_b = 100\n",
    "success_b = 30\n",
    "\n",
    "H0 = '남성과 여성의 합격 비율이 같다.'\n",
    "H1 = '남성과 여성의 합격 비율이 같지 않다.'"
   ]
  },
  {
   "cell_type": "code",
   "execution_count": 8,
   "metadata": {},
   "outputs": [],
   "source": [
    "prob_a = success_a / total_a\n",
    "prob_b = success_b / total_b\n",
    "prob = (success_a + success_b) / (total_a + total_b)"
   ]
  },
  {
   "cell_type": "code",
   "execution_count": 9,
   "metadata": {},
   "outputs": [
    {
     "name": "stdout",
     "output_type": "stream",
     "text": [
      "z_statistic : 1.543869152809509\n",
      "z_critical  : 1.959963984540054\n",
      "남성과 여성의 합격 비율이 같다.\n"
     ]
    }
   ],
   "source": [
    "# 통계량 검정\n",
    "alpha = 0.05\n",
    "z_statistic = abs((prob_a - prob_b) / np.sqrt(prob * (1 - prob) * (1 / total_a + 1 / total_b)))\n",
    "\n",
    "z_critical = stats.norm.ppf(1 - alpha / 2)\n",
    "\n",
    "print(f'z_statistic : {z_statistic}')\n",
    "print(f'z_critical  : {z_critical}')\n",
    "if z_statistic < z_critical:\n",
    "    print(H0)\n",
    "else:\n",
    "    print(H1)"
   ]
  },
  {
   "cell_type": "code",
   "execution_count": 10,
   "metadata": {},
   "outputs": [
    {
     "name": "stdout",
     "output_type": "stream",
     "text": [
      "p_value : 0.12262003436902535\n",
      "남성과 여성의 합격 비율이 같다.\n"
     ]
    }
   ],
   "source": [
    "# p_value 검정\n",
    "alpha = 0.05\n",
    "z_statistic = abs((prob_a - prob_b) / np.sqrt(prob * (1 - prob) * (1 / total_a + 1 / total_b)))\n",
    "p_value = 2 * (1 - stats.norm.cdf(abs(z_statistic)))\n",
    "\n",
    "print(f'p_value : {p_value}')\n",
    "if 0.05 < p_value:\n",
    "    print(H0)\n",
    "else:\n",
    "    print(H1)"
   ]
  },
  {
   "cell_type": "code",
   "execution_count": 11,
   "metadata": {},
   "outputs": [
    {
     "name": "stdout",
     "output_type": "stream",
     "text": [
      "두 비율 차이 신뢰구간: (-0.0255, 0.2255)\n",
      "남성과 여성의 합격 비율이 같다.\n"
     ]
    }
   ],
   "source": [
    "# 신뢰구간 검정\n",
    "\n",
    "diff = prob_a - prob_b\n",
    "# 표준 오차 (SE)\n",
    "se = np.sqrt((prob_a * (1 - prob_a)) / total_a + (prob_b * (1 - prob_b)) / total_b)\n",
    "\n",
    "# 임계값 (Z값, 양측 95% CI)\n",
    "z_critical = stats.norm.ppf(1 - 0.05 / 2)\n",
    "\n",
    "# 신뢰구간 계산\n",
    "ci_lower = diff - z_critical * se\n",
    "ci_upper = diff + z_critical * se\n",
    "\n",
    "print(f\"두 비율 차이 신뢰구간: ({ci_lower:.4f}, {ci_upper:.4f})\")\n",
    "\n",
    "# 해석\n",
    "if ci_lower < 0 < ci_upper:\n",
    "    print(H0)\n",
    "else:\n",
    "    print(H1)"
   ]
  },
  {
   "cell_type": "code",
   "execution_count": null,
   "metadata": {},
   "outputs": [],
   "source": []
  }
 ],
 "metadata": {
  "kernelspec": {
   "display_name": "general",
   "language": "python",
   "name": "python3"
  },
  "language_info": {
   "codemirror_mode": {
    "name": "ipython",
    "version": 3
   },
   "file_extension": ".py",
   "mimetype": "text/x-python",
   "name": "python",
   "nbconvert_exporter": "python",
   "pygments_lexer": "ipython3",
   "version": "3.11.5"
  }
 },
 "nbformat": 4,
 "nbformat_minor": 2
}
