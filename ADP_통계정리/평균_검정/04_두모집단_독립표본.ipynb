{
 "cells": [
  {
   "cell_type": "code",
   "execution_count": 1,
   "metadata": {},
   "outputs": [],
   "source": [
    "import numpy as np\n",
    "from scipy import stats"
   ]
  },
  {
   "cell_type": "markdown",
   "metadata": {},
   "source": [
    "### 🔹 [두 모집단 평균 차이 검정: 정규성 X]\n",
    "**문제:**\n",
    "\n",
    "한 카페는 **BGM(배경음악)** 유무가 손님의 **체류시간**에 영향을 주는지 알고 싶다.  \n",
    "데이터를 수집했더니 아래와 같았고, **정규성은 만족하지 않는다고 한다.**\n",
    "\n",
    "| 그룹       | 체류시간(분)                                       |\n",
    "|------------|-----------------------------------------------------|\n",
    "| BGM 있음   | 42, 43, 45, 45, 46, 46, 47, 48, 48, 49, 50, 52, 55 |\n",
    "| BGM 없음   | 31, 32, 32, 33, 33, 34, 35, 36, 37, 37, 38, 40, 60 |\n",
    "\n",
    "→ 두 그룹의 체류시간에 **유의미한 차이가 있는가?** (유의수준 0.05)"
   ]
  },
  {
   "cell_type": "code",
   "execution_count": 4,
   "metadata": {},
   "outputs": [],
   "source": [
    "group_a = [42, 43, 45, 45, 46, 46, 47, 48, 48, 49, 50, 52, 55]\n",
    "group_b = [31, 32, 32, 33, 33, 34, 35, 36, 37, 37, 38, 40, 60]"
   ]
  },
  {
   "cell_type": "code",
   "execution_count": 5,
   "metadata": {},
   "outputs": [
    {
     "name": "stdout",
     "output_type": "stream",
     "text": [
      "A p_value : 0.8746099455541976\n",
      "B p_value : 0.00018405580657091574\n",
      "정규성을 만족하지 않는다.\n"
     ]
    }
   ],
   "source": [
    "# 01 정규성 검정\n",
    "a_statsitic, a_p_value = stats.shapiro(group_a)\n",
    "b_statsitic, b_p_value = stats.shapiro(group_b)\n",
    "_H0 = '정규성을 만족한다.'\n",
    "_H1 = '정규성을 만족하지 않는다.'\n",
    "\n",
    "\n",
    "print(f'A p_value : {a_p_value}')\n",
    "print(f'B p_value : {b_p_value}')\n",
    "if 0.05 < a_p_value and 0.05 < b_p_value:\n",
    "    print(_H0)\n",
    "else:\n",
    "    print(_H1)"
   ]
  },
  {
   "cell_type": "code",
   "execution_count": 6,
   "metadata": {},
   "outputs": [
    {
     "name": "stdout",
     "output_type": "stream",
     "text": [
      "U 통계량: 156.0\n",
      "p-value: 0.0002676354274025252\n",
      "두 집단의 중앙값은 다르다 (차이 있다)\n"
     ]
    }
   ],
   "source": [
    "# 정규성 가정을 하지 않아서, 데이터 분포가 왜곡돼도 사용할 수 있게 중앙값을 본다고 한다.\n",
    "# 정확히는 중앙값이 아닌 순위 기반 계산\n",
    "H0 = \"두 집단의 중앙값은 같다 (차이 없다)\"\n",
    "H1 = \"두 집단의 중앙값은 다르다 (차이 있다)\"\n",
    "\n",
    "# Mann-Whitney U 검정\n",
    "statistic, p_value = stats.mannwhitneyu(group_a, group_b, alternative='two-sided')\n",
    "\n",
    "\n",
    "print(f'U 통계량: {statistic}')\n",
    "print(f'p-value: {p_value}')\n",
    "if p_value < 0.05:\n",
    "    print(H1)\n",
    "else:\n",
    "    print(H0)"
   ]
  },
  {
   "cell_type": "markdown",
   "metadata": {},
   "source": [
    "### 🔹 [두 모집단 평균 차이 검정: 정규성 O, 등분산성 X]\n",
    "\n",
    "한 기업은 **직원 교육 프로그램의 종류에 따라 문제 해결 능력**이 달라지는지를 알고 싶다.  \n",
    "직원들을 무작위로 나누어 A 프로그램과 B 프로그램을 이수하게 하고,  \n",
    "이후 **문제 해결 테스트 점수(100점 만점)**를 기록하였다.\n",
    "\n",
    "아래는 두 집단의 점수이다:\n",
    "\n",
    "| 교육 프로그램 | 점수 |\n",
    "|----------------|------|\n",
    "| A 프로그램 | 85, 86, 87, 87, 88, 89, 90, 90 |\n",
    "| B 프로그램 | 60, 70, 75, 80, 85, 90, 95, 100 |\n",
    "\n",
    "- 정규성 검정 결과: **두 집단 모두 정규분포를 따름**\n",
    "- 등분산성 검정 결과: **두 집단의 분산이 다름 (등분산X)**  \n",
    "- 유의수준: 0.05"
   ]
  },
  {
   "cell_type": "code",
   "execution_count": 7,
   "metadata": {},
   "outputs": [],
   "source": [
    "group_a = [85, 86, 87, 87, 88, 89, 90, 90]\n",
    "group_b = [60, 70, 75, 80, 85, 90, 95, 100]\n",
    "\n",
    "H0 = '두 프로그램 간 문제 해결 능력차이가 없다.'\n",
    "H1 = '두 프로그램 간 문제 해결 능력차이가 있다.'"
   ]
  },
  {
   "cell_type": "code",
   "execution_count": 8,
   "metadata": {},
   "outputs": [
    {
     "name": "stdout",
     "output_type": "stream",
     "text": [
      "A p_value : 0.6001739116043654\n",
      "B p_value : 0.9782133905594868\n",
      "정규성을 만족한다.\n"
     ]
    }
   ],
   "source": [
    "# 01 정규성 검정\n",
    "\n",
    "a_statsitic, a_p_value = stats.shapiro(group_a)\n",
    "b_statsitic, b_p_value = stats.shapiro(group_b)\n",
    "_H0 = '정규성을 만족한다.'\n",
    "_H1 = '정규성을 만족하지 않는다.'\n",
    "\n",
    "\n",
    "print(f'A p_value : {a_p_value}')\n",
    "print(f'B p_value : {b_p_value}')\n",
    "if 0.05 < a_p_value and 0.05 < b_p_value:\n",
    "    print(_H0)\n",
    "else:\n",
    "    print(_H1)"
   ]
  },
  {
   "cell_type": "code",
   "execution_count": 9,
   "metadata": {},
   "outputs": [
    {
     "name": "stdout",
     "output_type": "stream",
     "text": [
      "p_value : 0.0027035475005920606\n",
      "등분산성을 만족하지 않는다.\n"
     ]
    }
   ],
   "source": [
    "# 02 등분산성 검정\n",
    "\n",
    "statsitic, p_value = stats.levene(group_a, group_b)\n",
    "_H0 = '등분산성을 만족한다.'\n",
    "_H1 = '등분산성을 만족하지 않는다.'\n",
    "\n",
    "print(f'p_value : {p_value}')\n",
    "if 0.05 < p_value:\n",
    "    print(_H0)\n",
    "else:\n",
    "    print(_H1)"
   ]
  },
  {
   "cell_type": "code",
   "execution_count": 10,
   "metadata": {},
   "outputs": [
    {
     "name": "stdout",
     "output_type": "stream",
     "text": [
      "p_value : 0.2558121926532246\n",
      "두 프로그램 간 문제 해결 능력차이가 없다.\n"
     ]
    }
   ],
   "source": [
    "# 03 Welch's t-test\n",
    "# t-test 에서 equal_var = False\n",
    "statsitic, p_value = stats.ttest_ind(group_a, group_b, equal_var=False)\n",
    "\n",
    "print(f'p_value : {p_value}')\n",
    "if 0.05 < p_value:\n",
    "    print(H0)\n",
    "else:\n",
    "    print(H1)"
   ]
  },
  {
   "cell_type": "code",
   "execution_count": 11,
   "metadata": {},
   "outputs": [
    {
     "name": "stdout",
     "output_type": "stream",
     "text": [
      "Welch's t-test 신뢰구간: (-5.3051, 17.0551)\n",
      "→ 귀무가설 채택 (평균 차이 없음)\n"
     ]
    }
   ],
   "source": [
    "# 신뢰구간 검정\n",
    "# ## 평균과 분산\n",
    "mean_a, mean_b = np.mean(group_a), np.mean(group_b)\n",
    "var_a, var_b = np.var(group_a, ddof=1), np.var(group_b, ddof=1)\n",
    "n_a, n_b = len(group_a), len(group_b)\n",
    "\n",
    "# ## 표준오차\n",
    "se = np.sqrt(var_a / n_a + var_b / n_b)\n",
    "\n",
    "# ## 자유도 (Welch 방식)\n",
    "dof = (var_a / n_a + var_b / n_b)**2 / ((var_a**2) / ((n_a**2) * (n_a - 1)) + (var_b**2) / ((n_b**2) * (n_b - 1)))\n",
    "\n",
    "# ## 임계값\n",
    "alpha = 0.05\n",
    "t_critical = stats.t.ppf(1 - alpha / 2, df=dof)\n",
    "\n",
    "# ## 신뢰구간\n",
    "mean_diff = mean_a - mean_b\n",
    "ci_lower = mean_diff - t_critical * se\n",
    "ci_upper = mean_diff + t_critical * se\n",
    "\n",
    "print(f\"Welch's t-test 신뢰구간: ({ci_lower:.4f}, {ci_upper:.4f})\")\n",
    "\n",
    "if ci_lower < 0 < ci_upper:\n",
    "    print(\"→ 귀무가설 채택 (평균 차이 없음)\")\n",
    "else:\n",
    "    print(\"→ 대립가설 채택 (평균 차이 있음)\")"
   ]
  },
  {
   "cell_type": "markdown",
   "metadata": {},
   "source": [
    "### 🔹 [두 모집단 평균 차이 검정: 정규성 O, 등분산성 O]\n",
    "\n",
    "**문제:**\n",
    "\n",
    "한 스타트업은 **재택근무**와 **출근근무** 방식이  \n",
    "**직원들의 집중력**에 영향을 미치는지를 알고 싶다.  \n",
    "\n",
    "직원들을 두 집단으로 나눠 **업무 집중력 점수**를 측정하였다 (100점 만점).\n",
    "\n",
    "| 그룹 | 점수 |\n",
    "|------|------|\n",
    "| 재택근무 | 82, 85, 88, 90, 86, 84, 87 |\n",
    "| 출근근무 | 78, 80, 79, 75, 77, 76, 78 |\n",
    "\n",
    "- 유의수준: 0.05  \n",
    "- 두 집단은 서로 **독립된 집단**  \n",
    "- → **재택근무와 출근근무 간 집중력 평균에 유의미한 차이가 있는가?**"
   ]
  },
  {
   "cell_type": "code",
   "execution_count": 12,
   "metadata": {},
   "outputs": [],
   "source": [
    "group_a = [82, 85, 88, 90, 86, 84, 87]\n",
    "group_b = [78, 80, 79, 75, 77, 76, 78]\n",
    "\n",
    "H0 = '재택근무와 출근근무 간 집중력 평균에 유의미한 차이가 없다.'\n",
    "H1 = '재택근무와 출근근무 간 집중력 평균에 유의미한 차이가 있다.'"
   ]
  },
  {
   "cell_type": "code",
   "execution_count": 13,
   "metadata": {},
   "outputs": [
    {
     "name": "stdout",
     "output_type": "stream",
     "text": [
      "A p_value : 0.9999993334145784\n",
      "B p_value : 0.957665102423992\n",
      "정규성을 만족한다.\n"
     ]
    }
   ],
   "source": [
    "# 01 정규성 검정\n",
    "\n",
    "a_statsitic, a_p_value = stats.shapiro(group_a)\n",
    "b_statsitic, b_p_value = stats.shapiro(group_b)\n",
    "_H0 = '정규성을 만족한다.'\n",
    "_H1 = '정규성을 만족하지 않는다.'\n",
    "\n",
    "\n",
    "print(f'A p_value : {a_p_value}')\n",
    "print(f'B p_value : {b_p_value}')\n",
    "if 0.05 < a_p_value and 0.05 < b_p_value:\n",
    "    print(_H0)\n",
    "else:\n",
    "    print(_H1)"
   ]
  },
  {
   "cell_type": "code",
   "execution_count": 14,
   "metadata": {},
   "outputs": [
    {
     "name": "stdout",
     "output_type": "stream",
     "text": [
      "p_value : 0.3370490579535843\n",
      "등분산성을 만족한다.\n"
     ]
    }
   ],
   "source": [
    "# 02 등분산성 검정\n",
    "\n",
    "statsitic, p_value = stats.levene(group_a, group_b)\n",
    "_H0 = '등분산성을 만족한다.'\n",
    "_H1 = '등분산성을 만족하지 않는다.'\n",
    "\n",
    "print(f'p_value : {p_value}')\n",
    "if 0.05 < p_value:\n",
    "    print(_H0)\n",
    "else:\n",
    "    print(_H1)"
   ]
  },
  {
   "cell_type": "code",
   "execution_count": 15,
   "metadata": {},
   "outputs": [
    {
     "data": {
      "text/plain": [
       "(7.068699114903216, 1.3031725301697406e-05)"
      ]
     },
     "execution_count": 15,
     "metadata": {},
     "output_type": "execute_result"
    }
   ],
   "source": [
    "# 03 t-검정\n",
    "statistic, p_value = stats.ttest_ind(group_a, group_b, alternative='two-sided')\n",
    "statistic, p_value"
   ]
  },
  {
   "cell_type": "code",
   "execution_count": 16,
   "metadata": {},
   "outputs": [
    {
     "name": "stdout",
     "output_type": "stream",
     "text": [
      "statistic   : 7.068699114903216\n",
      "critical   : 2.1788128296634177\n",
      "재택근무와 출근근무 간 집중력 평균에 유의미한 차이가 있다.\n"
     ]
    }
   ],
   "source": [
    "# 통계량으로 해석\n",
    "alpha = 0.05\n",
    "dof = len(group_a) + len(group_b) - 2\n",
    "critical = stats.t.ppf(1 - alpha / 2, df=dof)\n",
    "\n",
    "print(f'statistic   : {statistic}')\n",
    "print(f'critical   : {critical}')\n",
    "if abs(statistic) < critical:\n",
    "    print(H0)\n",
    "else:\n",
    "    print(H1)"
   ]
  },
  {
   "cell_type": "code",
   "execution_count": 17,
   "metadata": {},
   "outputs": [
    {
     "name": "stdout",
     "output_type": "stream",
     "text": [
      "p_value   : 1.3031725301759778e-05\n",
      "재택근무와 출근근무 간 집중력 평균에 유의미한 차이가 있다.\n"
     ]
    }
   ],
   "source": [
    "# p_value로 해석\n",
    "alpha = 0.05\n",
    "dof = len(group_a) + len(group_b) - 2\n",
    "\n",
    "p_value = 2 * (1 - stats.t.cdf(abs(statistic), df=dof))\n",
    "p_value\n",
    "\n",
    "print(f'p_value   : {p_value}')\n",
    "if 0.05 < p_value:\n",
    "    print(H0)\n",
    "else:\n",
    "    print(H1)"
   ]
  },
  {
   "cell_type": "code",
   "execution_count": 18,
   "metadata": {},
   "outputs": [
    {
     "name": "stdout",
     "output_type": "stream",
     "text": [
      "신뢰구간 5.8305998264717145 ~ 11.026543030671146\n",
      "재택근무와 출근근무 간 집중력 평균에 유의미한 차이가 있다.\n"
     ]
    }
   ],
   "source": [
    "# 신뢰구간 검정\n",
    "mean_a = np.mean(group_a)\n",
    "var_a = np.var(group_a, ddof=1)\n",
    "n_a = len(group_a)\n",
    "\n",
    "mean_b = np.mean(group_b)\n",
    "var_b = np.var(group_b, ddof=1)\n",
    "n_b = len(group_b)\n",
    "\n",
    "# 자유도\n",
    "dof = n_a + n_b - 2\n",
    "\n",
    "# 표준오차\n",
    "standard_error = np.sqrt((var_a / n_a) + (var_b / n_b))\n",
    "\n",
    "# 신뢰도\n",
    "alpha = 0.05\n",
    "t_critical = stats.t.ppf(1 - alpha / 2, df=dof)\n",
    "\n",
    "# 신뢰구간\n",
    "mean_diff = mean_a - mean_b\n",
    "ci_lower = mean_diff - (t_critical * standard_error)\n",
    "ci_upper = mean_diff + (t_critical * standard_error)\n",
    "\n",
    "print(f\"신뢰구간 {ci_lower} ~ {ci_upper}\")\n",
    "if ci_lower < 0 < ci_upper:\n",
    "    print(H0)\n",
    "else:\n",
    "    print(H1)"
   ]
  },
  {
   "cell_type": "code",
   "execution_count": null,
   "metadata": {},
   "outputs": [],
   "source": []
  }
 ],
 "metadata": {
  "kernelspec": {
   "display_name": "general",
   "language": "python",
   "name": "python3"
  },
  "language_info": {
   "codemirror_mode": {
    "name": "ipython",
    "version": 3
   },
   "file_extension": ".py",
   "mimetype": "text/x-python",
   "name": "python",
   "nbconvert_exporter": "python",
   "pygments_lexer": "ipython3",
   "version": "3.11.5"
  }
 },
 "nbformat": 4,
 "nbformat_minor": 2
}
