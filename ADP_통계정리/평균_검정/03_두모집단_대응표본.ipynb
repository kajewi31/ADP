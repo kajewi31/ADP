{
 "cells": [
  {
   "cell_type": "code",
   "execution_count": 1,
   "metadata": {},
   "outputs": [],
   "source": [
    "import numpy as np\n",
    "import pandas as pd\n",
    "\n",
    "from scipy import stats"
   ]
  },
  {
   "cell_type": "markdown",
   "metadata": {},
   "source": [
    "### 🔹 1. 대응표본 정규성 만족\n",
    "\n",
    "한 교육 연구소는 **AI 학습 프로그램**이 학생들의 **논리적 사고력 향상**에 효과가 있는지 알고 싶어 한다.  \n",
    "20명의 학생을 대상으로 프로그램 **실시 전과 후**에 동일한 사고력 테스트를 실시했다.  \n",
    "\n",
    "아래는 임의로 추출된 10명의 점수 일부이다:\n",
    "\n",
    "| 학생 | 사전 테스트 | 사후 테스트 |\n",
    "|------|--------------|--------------|\n",
    "| 1    | 72           | 75           |\n",
    "| 2    | 68           | 74           |\n",
    "| 3    | 70           | 70           |\n",
    "| 4    | 65           | 68           |\n",
    "| 5    | 73           | 78           |\n",
    "| 6    | 69           | 71           |\n",
    "| 7    | 74           | 76           |\n",
    "| 8    | 67           | 70           |\n",
    "| 9    | 71           | 74           |\n",
    "| 10   | 66           | 69           |\n"
   ]
  },
  {
   "cell_type": "code",
   "execution_count": 2,
   "metadata": {},
   "outputs": [
    {
     "data": {
      "text/html": [
       "<div>\n",
       "<style scoped>\n",
       "    .dataframe tbody tr th:only-of-type {\n",
       "        vertical-align: middle;\n",
       "    }\n",
       "\n",
       "    .dataframe tbody tr th {\n",
       "        vertical-align: top;\n",
       "    }\n",
       "\n",
       "    .dataframe thead th {\n",
       "        text-align: right;\n",
       "    }\n",
       "</style>\n",
       "<table border=\"1\" class=\"dataframe\">\n",
       "  <thead>\n",
       "    <tr style=\"text-align: right;\">\n",
       "      <th></th>\n",
       "      <th>학생</th>\n",
       "      <th>사전테스트</th>\n",
       "      <th>사후테스트</th>\n",
       "    </tr>\n",
       "  </thead>\n",
       "  <tbody>\n",
       "    <tr>\n",
       "      <th>0</th>\n",
       "      <td>1</td>\n",
       "      <td>72</td>\n",
       "      <td>75</td>\n",
       "    </tr>\n",
       "    <tr>\n",
       "      <th>1</th>\n",
       "      <td>2</td>\n",
       "      <td>68</td>\n",
       "      <td>74</td>\n",
       "    </tr>\n",
       "    <tr>\n",
       "      <th>2</th>\n",
       "      <td>3</td>\n",
       "      <td>70</td>\n",
       "      <td>70</td>\n",
       "    </tr>\n",
       "    <tr>\n",
       "      <th>3</th>\n",
       "      <td>4</td>\n",
       "      <td>65</td>\n",
       "      <td>68</td>\n",
       "    </tr>\n",
       "    <tr>\n",
       "      <th>4</th>\n",
       "      <td>5</td>\n",
       "      <td>73</td>\n",
       "      <td>78</td>\n",
       "    </tr>\n",
       "    <tr>\n",
       "      <th>5</th>\n",
       "      <td>6</td>\n",
       "      <td>69</td>\n",
       "      <td>71</td>\n",
       "    </tr>\n",
       "    <tr>\n",
       "      <th>6</th>\n",
       "      <td>7</td>\n",
       "      <td>74</td>\n",
       "      <td>76</td>\n",
       "    </tr>\n",
       "    <tr>\n",
       "      <th>7</th>\n",
       "      <td>8</td>\n",
       "      <td>67</td>\n",
       "      <td>70</td>\n",
       "    </tr>\n",
       "    <tr>\n",
       "      <th>8</th>\n",
       "      <td>9</td>\n",
       "      <td>71</td>\n",
       "      <td>74</td>\n",
       "    </tr>\n",
       "    <tr>\n",
       "      <th>9</th>\n",
       "      <td>10</td>\n",
       "      <td>66</td>\n",
       "      <td>69</td>\n",
       "    </tr>\n",
       "  </tbody>\n",
       "</table>\n",
       "</div>"
      ],
      "text/plain": [
       "   학생  사전테스트  사후테스트\n",
       "0   1     72     75\n",
       "1   2     68     74\n",
       "2   3     70     70\n",
       "3   4     65     68\n",
       "4   5     73     78\n",
       "5   6     69     71\n",
       "6   7     74     76\n",
       "7   8     67     70\n",
       "8   9     71     74\n",
       "9  10     66     69"
      ]
     },
     "execution_count": 2,
     "metadata": {},
     "output_type": "execute_result"
    }
   ],
   "source": [
    "H0 = '사고력 향상에 유의미한 영향이 없다.'\n",
    "H1 = '사고력 향상에 유의미한 영향이 있다.'\n",
    "\n",
    "df = pd.DataFrame(\n",
    "    [[1, 72, 75,],\n",
    "     [2, 68, 74,],\n",
    "     [3, 70, 70,],\n",
    "     [4, 65, 68,],\n",
    "     [5, 73, 78,],\n",
    "     [6, 69, 71,],\n",
    "     [7, 74, 76,],\n",
    "     [8, 67, 70,],\n",
    "     [9, 71, 74,],\n",
    "     [10, 66, 69,]\n",
    "     ],\n",
    "    columns=['학생', '사전테스트', '사후테스트']\n",
    ")\n",
    "\n",
    "df"
   ]
  },
  {
   "cell_type": "code",
   "execution_count": 3,
   "metadata": {},
   "outputs": [
    {
     "name": "stdout",
     "output_type": "stream",
     "text": [
      "p_value :0.21059874267461046\n",
      "정규성을 만족한다.\n"
     ]
    }
   ],
   "source": [
    "# 정규성 검정\n",
    "_H0 = '정규성을 만족한다.'\n",
    "_H1 = '정규성을 만족하지 않는다.'\n",
    "\n",
    "df['diff'] = df['사후테스트'] - df['사전테스트']\n",
    "statistic, p_value = stats.shapiro(df['diff'])\n",
    "print(f'p_value :{p_value}')\n",
    "if 0.05 < p_value:\n",
    "    print(_H0)\n",
    "else:\n",
    "    print(_H1)"
   ]
  },
  {
   "cell_type": "code",
   "execution_count": null,
   "metadata": {},
   "outputs": [
    {
     "name": "stdout",
     "output_type": "stream",
     "text": [
      "p_value : 0.00012820699140199507\n",
      "사고력 향상에 유의미한 영향이 있다.\n"
     ]
    }
   ],
   "source": [
    "# alternative='less' : (a-b)가 0보다 작은가.\n",
    "statistic, p_value = stats.ttest_rel(df['사전테스트'], df['사후테스트'], alternative='less')\n",
    "\n",
    "print(f'p_value : {p_value}')\n",
    "if 0.05 < p_value:\n",
    "    print(H0)\n",
    "else:\n",
    "    print(H1)"
   ]
  },
  {
   "cell_type": "markdown",
   "metadata": {},
   "source": [
    "### 🔹 1. 대응표본 정규성 불만족\n",
    "\n",
    "한 피트니스 센터는 **8주간 운동 프로그램**이  \n",
    "회원들의 체지방률에 효과가 있는지를 확인하고자 했다.  \n",
    "10명의 회원에 대해 운동 **전후 체지방률**을 측정했다.\n",
    "\n",
    "| 회원 | 운동 전 | 운동 후 |\n",
    "|------|--------|---------|\n",
    "| 1 | 25 | 23 |\n",
    "| 2 | 28 | 25 |\n",
    "| 3 | 27 | 26 |\n",
    "| 4 | 30 | 27 |\n",
    "| 5 | 26 | 24 |\n",
    "| 6 | 29 | 28 |\n",
    "| 7 | 24 | 22 |\n",
    "| 8 | 31 | 29 |\n",
    "| 9 | 28 | 27 |\n",
    "|10 | 27 | 25 |\n",
    "\n",
    "→ 운동 전후 체지방률에 **유의미한 차이가 있는가? (유의수준 0.05)**"
   ]
  },
  {
   "cell_type": "code",
   "execution_count": 8,
   "metadata": {},
   "outputs": [
    {
     "data": {
      "text/html": [
       "<div>\n",
       "<style scoped>\n",
       "    .dataframe tbody tr th:only-of-type {\n",
       "        vertical-align: middle;\n",
       "    }\n",
       "\n",
       "    .dataframe tbody tr th {\n",
       "        vertical-align: top;\n",
       "    }\n",
       "\n",
       "    .dataframe thead th {\n",
       "        text-align: right;\n",
       "    }\n",
       "</style>\n",
       "<table border=\"1\" class=\"dataframe\">\n",
       "  <thead>\n",
       "    <tr style=\"text-align: right;\">\n",
       "      <th></th>\n",
       "      <th>회원</th>\n",
       "      <th>운동전</th>\n",
       "      <th>운동후</th>\n",
       "    </tr>\n",
       "  </thead>\n",
       "  <tbody>\n",
       "    <tr>\n",
       "      <th>0</th>\n",
       "      <td>1</td>\n",
       "      <td>25</td>\n",
       "      <td>23</td>\n",
       "    </tr>\n",
       "    <tr>\n",
       "      <th>1</th>\n",
       "      <td>2</td>\n",
       "      <td>28</td>\n",
       "      <td>25</td>\n",
       "    </tr>\n",
       "    <tr>\n",
       "      <th>2</th>\n",
       "      <td>3</td>\n",
       "      <td>27</td>\n",
       "      <td>26</td>\n",
       "    </tr>\n",
       "    <tr>\n",
       "      <th>3</th>\n",
       "      <td>4</td>\n",
       "      <td>30</td>\n",
       "      <td>27</td>\n",
       "    </tr>\n",
       "    <tr>\n",
       "      <th>4</th>\n",
       "      <td>5</td>\n",
       "      <td>26</td>\n",
       "      <td>24</td>\n",
       "    </tr>\n",
       "    <tr>\n",
       "      <th>5</th>\n",
       "      <td>6</td>\n",
       "      <td>29</td>\n",
       "      <td>28</td>\n",
       "    </tr>\n",
       "    <tr>\n",
       "      <th>6</th>\n",
       "      <td>7</td>\n",
       "      <td>24</td>\n",
       "      <td>22</td>\n",
       "    </tr>\n",
       "    <tr>\n",
       "      <th>7</th>\n",
       "      <td>8</td>\n",
       "      <td>31</td>\n",
       "      <td>29</td>\n",
       "    </tr>\n",
       "    <tr>\n",
       "      <th>8</th>\n",
       "      <td>9</td>\n",
       "      <td>28</td>\n",
       "      <td>27</td>\n",
       "    </tr>\n",
       "    <tr>\n",
       "      <th>9</th>\n",
       "      <td>10</td>\n",
       "      <td>27</td>\n",
       "      <td>25</td>\n",
       "    </tr>\n",
       "  </tbody>\n",
       "</table>\n",
       "</div>"
      ],
      "text/plain": [
       "   회원  운동전  운동후\n",
       "0   1   25   23\n",
       "1   2   28   25\n",
       "2   3   27   26\n",
       "3   4   30   27\n",
       "4   5   26   24\n",
       "5   6   29   28\n",
       "6   7   24   22\n",
       "7   8   31   29\n",
       "8   9   28   27\n",
       "9  10   27   25"
      ]
     },
     "execution_count": 8,
     "metadata": {},
     "output_type": "execute_result"
    }
   ],
   "source": [
    "H0 = '운동 전후 체지방률에 유의미한 차이가 없다.'\n",
    "H1 = '운동 전후 체지방률에 유의미한 차이가 있다.'\n",
    "\n",
    "df = pd.DataFrame(\n",
    "    [[1, 25, 23],\n",
    "     [2, 28, 25],\n",
    "     [3, 27, 26],\n",
    "     [4, 30, 27],\n",
    "     [5, 26, 24],\n",
    "     [6, 29, 28],\n",
    "     [7, 24, 22],\n",
    "     [8, 31, 29],\n",
    "     [9, 28, 27],\n",
    "     [10, 27, 25]],\n",
    "    columns=['회원', '운동전', '운동후'])\n",
    "df"
   ]
  },
  {
   "cell_type": "code",
   "execution_count": 10,
   "metadata": {},
   "outputs": [
    {
     "name": "stdout",
     "output_type": "stream",
     "text": [
      "p_value :0.03586421822449294\n",
      "정규성을 만족하지 않는다.\n"
     ]
    }
   ],
   "source": [
    "# 정규성 검정\n",
    "_H0 = '정규성을 만족한다.'\n",
    "_H1 = '정규성을 만족하지 않는다.'\n",
    "\n",
    "df['diff'] = df['운동후'] - df['운동전']\n",
    "statistic, p_value = stats.shapiro(df['diff'])\n",
    "\n",
    "print(f'p_value :{p_value}')\n",
    "if 0.05 < p_value:\n",
    "    print(_H0)\n",
    "else:\n",
    "    print(_H1)"
   ]
  },
  {
   "cell_type": "code",
   "execution_count": 11,
   "metadata": {},
   "outputs": [
    {
     "name": "stdout",
     "output_type": "stream",
     "text": [
      "p_value : 0.001953125\n",
      "운동 전후 체지방률에 유의미한 차이가 있다.\n"
     ]
    }
   ],
   "source": [
    "statistic, p_value = stats.wilcoxon(df['운동전'], df['운동후'], alternative='two-sided')\n",
    "\n",
    "print(f'p_value : {p_value}')\n",
    "if 0.05 < p_value:\n",
    "    print(H0)\n",
    "else:\n",
    "    print(H1)"
   ]
  }
 ],
 "metadata": {
  "kernelspec": {
   "display_name": "general",
   "language": "python",
   "name": "python3"
  },
  "language_info": {
   "codemirror_mode": {
    "name": "ipython",
    "version": 3
   },
   "file_extension": ".py",
   "mimetype": "text/x-python",
   "name": "python",
   "nbconvert_exporter": "python",
   "pygments_lexer": "ipython3",
   "version": "3.11.5"
  }
 },
 "nbformat": 4,
 "nbformat_minor": 2
}
