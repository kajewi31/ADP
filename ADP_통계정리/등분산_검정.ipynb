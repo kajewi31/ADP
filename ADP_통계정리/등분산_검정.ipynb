{
 "cells": [
  {
   "cell_type": "code",
   "execution_count": 1,
   "metadata": {},
   "outputs": [],
   "source": [
    "from scipy import stats"
   ]
  },
  {
   "cell_type": "code",
   "execution_count": 2,
   "metadata": {},
   "outputs": [],
   "source": [
    "group_a = [42, 43, 45, 45, 46, 46, 47, 48, 48, 49, 50, 52, 55]\n",
    "group_b = [31, 32, 32, 33, 33, 34, 35, 36, 37, 37, 38, 40, 60]"
   ]
  },
  {
   "cell_type": "code",
   "execution_count": 3,
   "metadata": {},
   "outputs": [
    {
     "name": "stdout",
     "output_type": "stream",
     "text": [
      "귀무가설 채택: 등분산성을 가정할 수 있다. (p-value: 0.4703)\n"
     ]
    }
   ],
   "source": [
    "statistic, p_value = stats.levene(group_a, group_b)\n",
    "\n",
    "H0 = '등분산성을 가정할 수 있다.'\n",
    "H1 = '등분산성을 가정할 수 없다.'\n",
    "\n",
    "if p_value < 0.05:\n",
    "    print(f'귀무가설 기각: {H1} (p-value: {p_value:.4f})')\n",
    "else:\n",
    "    print(f'귀무가설 채택: {H0} (p-value: {p_value:.4f})')"
   ]
  }
 ],
 "metadata": {
  "kernelspec": {
   "display_name": "general",
   "language": "python",
   "name": "python3"
  },
  "language_info": {
   "codemirror_mode": {
    "name": "ipython",
    "version": 3
   },
   "file_extension": ".py",
   "mimetype": "text/x-python",
   "name": "python",
   "nbconvert_exporter": "python",
   "pygments_lexer": "ipython3",
   "version": "3.11.5"
  }
 },
 "nbformat": 4,
 "nbformat_minor": 2
}
