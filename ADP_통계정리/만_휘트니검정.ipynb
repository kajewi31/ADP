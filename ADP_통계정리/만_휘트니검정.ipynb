{
 "cells": [
  {
   "cell_type": "code",
   "execution_count": 7,
   "metadata": {},
   "outputs": [],
   "source": [
    "from scipy import stats"
   ]
  },
  {
   "cell_type": "markdown",
   "metadata": {},
   "source": [
    "## 🔹 [Mann-Whitney U 검정 실전 문제]\n",
    "\n",
    "### 📝 문제:\n",
    "\n",
    "한 연구팀은 **두 종류의 식이요법(A, B)**이 체중 감량에 미치는 효과를 비교하고자 했다.  \n",
    "각 식이요법을 적용한 10명의 체중 감량량(kg)을 아래와 같이 기록하였다.  \n",
    "체중 감량량은 정규성을 따르지 않는다고 판단되었다.\n",
    "\n",
    "### 📦 그룹 A (식이요법 A):\n",
    "```\n",
    "4.2, 3.8, 5.1, 3.5, 4.0, 3.9, 4.1, 4.4, 3.7, 4.3\n",
    "```\n",
    "\n",
    "### 📦 그룹 B (식이요법 B):\n",
    "```\n",
    "2.9, 3.1, 3.0, 2.8, 3.4, 3.2, 3.3, 3.5, 3.1, 2.7\n",
    "```"
   ]
  },
  {
   "cell_type": "code",
   "execution_count": 8,
   "metadata": {},
   "outputs": [],
   "source": [
    "a = [4.2, 3.8, 5.1, 3.5, 4.0, 3.9, 4.1, 4.4, 3.7, 4.3]\n",
    "b = [2.9, 3.1, 3.0, 2.8, 3.4, 3.2, 3.3, 3.5, 3.1, 2.7]"
   ]
  },
  {
   "cell_type": "code",
   "execution_count": 9,
   "metadata": {},
   "outputs": [],
   "source": [
    "H0 = '두 종류의 식이요법이 체중 감량에 미치는 효과가 같다.'\n",
    "H1 = '두 종류의 식이요법이 체중 감량에 미치는 효과가 다르다.'"
   ]
  },
  {
   "cell_type": "code",
   "execution_count": 11,
   "metadata": {},
   "outputs": [
    {
     "name": "stdout",
     "output_type": "stream",
     "text": [
      "p_value : 0.00020986144830231822\n",
      "두 종류의 식이요법이 체중 감량에 미치는 효과가 다르다.\n"
     ]
    }
   ],
   "source": [
    "statistic, p_value = stats.mannwhitneyu(a, b, alternative='two-sided')\n",
    "print(f'p_value : {p_value}')\n",
    "if 0.05 < p_value:\n",
    "    print(H0)\n",
    "else:\n",
    "    print(H1)"
   ]
  },
  {
   "cell_type": "code",
   "execution_count": null,
   "metadata": {},
   "outputs": [],
   "source": []
  }
 ],
 "metadata": {
  "kernelspec": {
   "display_name": "general",
   "language": "python",
   "name": "python3"
  },
  "language_info": {
   "codemirror_mode": {
    "name": "ipython",
    "version": 3
   },
   "file_extension": ".py",
   "mimetype": "text/x-python",
   "name": "python",
   "nbconvert_exporter": "python",
   "pygments_lexer": "ipython3",
   "version": "3.11.5"
  }
 },
 "nbformat": 4,
 "nbformat_minor": 2
}
