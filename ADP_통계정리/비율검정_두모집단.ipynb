{
 "cells": [
  {
   "cell_type": "code",
   "execution_count": 1,
   "metadata": {},
   "outputs": [],
   "source": [
    "import numpy as np\n",
    "from scipy import stats"
   ]
  },
  {
   "cell_type": "markdown",
   "metadata": {},
   "source": [
    "### ✅ 문제 예시: 두 모집단 비율검정\n",
    "\n",
    "A회사와 B회사에서 생산한 과자의 불량률을 비교하고자 한다.\n",
    "\n",
    "- A회사 과자 300개 중 21개 불량\n",
    "- B회사 과자 250개 중 30개 불량\n",
    "\n",
    "두 회사의 불량률이 **통계적으로 차이가 있는지** 유의수준 5%에서 검정하시오."
   ]
  },
  {
   "cell_type": "code",
   "execution_count": 2,
   "metadata": {},
   "outputs": [
    {
     "name": "stdout",
     "output_type": "stream",
     "text": [
      "z-score: -2.0130\n",
      "p-value: 0.0441\n",
      "불량률에 유의미한 차이가 있습니다.\n"
     ]
    }
   ],
   "source": [
    "a_n = 300\n",
    "a_x = 21\n",
    "a_p = a_x / a_n\n",
    "\n",
    "b_n = 250\n",
    "b_x = 30\n",
    "b_p = b_x / b_n\n",
    "\n",
    "p = (a_x + b_x) / (a_n + b_n)\n",
    "\n",
    "se = np.sqrt(p * (1 - p) * (1 / a_n + 1 / b_n))\n",
    "z = (a_p - b_p) / se\n",
    "\n",
    "p_value = 2 * (1 - stats.norm.cdf(np.abs(z)))\n",
    "\n",
    "print(f'z-score: {z:.4f}')\n",
    "print(f\"p-value: {p_value:.4f}\")\n",
    "\n",
    "alpha = 0.05\n",
    "if p_value < alpha:\n",
    "    print(\"불량률에 유의미한 차이가 있습니다.\")\n",
    "else:\n",
    "    print(\"불량률에 유의미한 차이가 없습니다.\")"
   ]
  },
  {
   "cell_type": "code",
   "execution_count": null,
   "metadata": {},
   "outputs": [],
   "source": []
  }
 ],
 "metadata": {
  "kernelspec": {
   "display_name": "general",
   "language": "python",
   "name": "python3"
  },
  "language_info": {
   "codemirror_mode": {
    "name": "ipython",
    "version": 3
   },
   "file_extension": ".py",
   "mimetype": "text/x-python",
   "name": "python",
   "nbconvert_exporter": "python",
   "pygments_lexer": "ipython3",
   "version": "3.11.5"
  }
 },
 "nbformat": 4,
 "nbformat_minor": 2
}
