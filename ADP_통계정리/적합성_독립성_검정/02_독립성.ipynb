{
 "cells": [
  {
   "cell_type": "code",
   "execution_count": 46,
   "metadata": {},
   "outputs": [],
   "source": [
    "import numpy as np\n",
    "import pandas as pd\n",
    "from scipy import stats"
   ]
  },
  {
   "cell_type": "markdown",
   "metadata": {},
   "source": [
    "## 🔹 [피셔의 정확 검정 실전 문제]\n",
    "\n",
    "### 📝 문제:\n",
    "\n",
    "한 병원에서 **신약 투여 여부와 부작용 발생 사이의 관계**를 조사하였다.  \n",
    "다음은 신약을 투여한 그룹과 투여하지 않은 그룹 각각에서 부작용이 발생한 횟수이다:\n",
    "\n",
    "| 그룹 | 부작용 발생 | 부작용 없음 | 합계 |\n",
    "|------|-------------|--------------|------|\n",
    "| 신약 투여 | 1           | 9            | 10   |\n",
    "| 투여 안 함 | 8           | 2            | 10   |\n",
    "\n",
    "→ **신약 투여와 부작용 발생은 관련이 있는가?** (유의수준 0.05)"
   ]
  },
  {
   "cell_type": "code",
   "execution_count": 47,
   "metadata": {},
   "outputs": [],
   "source": [
    "df = pd.DataFrame(\n",
    "    [\n",
    "        [1, 9],\n",
    "        [8, 2]\n",
    "    ],\n",
    "    columns=['부작용발생', '부작용없음'],\n",
    "    index=['투여함', '투여안함']\n",
    ")\n",
    "df\n",
    "\n",
    "H0 = '신약 투여와 부작용 발생은 관련이 없다 (독립적이다)'\n",
    "H1 = '신약 투여와 부작용 발생은 관련이 있다 (독립적이지 않다)'"
   ]
  },
  {
   "cell_type": "code",
   "execution_count": 48,
   "metadata": {},
   "outputs": [
    {
     "name": "stdout",
     "output_type": "stream",
     "text": [
      "p-value: 0.0055\n",
      "→ 신약 투여와 부작용 발생은 관련이 있다 (독립적이지 않다)\n"
     ]
    }
   ],
   "source": [
    "oddsratio, p_value = stats.fisher_exact(df, alternative='two-sided')\n",
    "print(f\"p-value: {p_value:.4f}\")\n",
    "if p_value < 0.05:\n",
    "    print(f\"→ {H1}\")\n",
    "else:\n",
    "    print(f\"→ {H0}\")"
   ]
  },
  {
   "cell_type": "markdown",
   "metadata": {},
   "source": [
    "\n",
    "## 🔹 [두 모집단 분산 검정 실전 문제 — 데이터 제시형]\n",
    "\n",
    "### 📝 문제:\n",
    "\n",
    "한 실험실에서는 **두 가지 센서(A, B)**의 측정값의 **일관성(분산)**을 비교하고자 한다.  \n",
    "각 센서로 동일한 환경에서 10회씩 측정한 결과는 다음과 같다:\n",
    "\n",
    "### 📦 센서 A 측정값:\n",
    "```\n",
    "9.8, 10.1, 10.3, 9.9, 10.0, 10.2, 9.7, 10.4, 10.1, 9.8\n",
    "```\n",
    "\n",
    "### 📦 센서 B 측정값:\n",
    "```\n",
    "9.5, 10.5, 9.2, 10.8, 9.6, 10.3, 9.1, 10.9, 9.4, 10.6\n",
    "```"
   ]
  },
  {
   "cell_type": "code",
   "execution_count": 49,
   "metadata": {},
   "outputs": [],
   "source": [
    "a = [9.8, 10.1, 10.3, 9.9, 10.0, 10.2, 9.7, 10.4, 10.1, 9.8]\n",
    "b = [9.5, 10.5, 9.2, 10.8, 9.6, 10.3, 9.1, 10.9, 9.4, 10.6]"
   ]
  },
  {
   "cell_type": "code",
   "execution_count": 50,
   "metadata": {},
   "outputs": [
    {
     "name": "stdout",
     "output_type": "stream",
     "text": [
      "p-value: 0.0030\n",
      "→ 두 집단의 분산 차이가 있다\n"
     ]
    }
   ],
   "source": [
    "H0 = '두 집단의 분산 차이가 없다'\n",
    "H1 = '두 집단의 분산 차이가 있다'\n",
    "\n",
    "\n",
    "# 분산 계산\n",
    "var_a = np.var(a, ddof=1)\n",
    "var_b = np.var(b, ddof=1)\n",
    "\n",
    "# F 통계량 계산 + 자유도 정리\n",
    "if var_a >= var_b:\n",
    "    f_statistic = var_a / var_b\n",
    "    df1 = len(a) - 1  # 분자\n",
    "    df2 = len(b) - 1  # 분모\n",
    "else:\n",
    "    f_statistic = var_b / var_a\n",
    "    df1 = len(b) - 1\n",
    "    df2 = len(a) - 1\n",
    "    \n",
    "# 양측 검정용 p-value\n",
    "p_value = 2 * min(\n",
    "    stats.f.cdf(f_statistic, df1, df2),\n",
    "    1 - stats.f.cdf(f_statistic, df1, df2)\n",
    ")\n",
    "\n",
    "print(f\"p-value: {p_value:.4f}\")\n",
    "if p_value < 0.05:\n",
    "    print(f\"→ {H1}\")\n",
    "else:\n",
    "    print(f\"→ {H0}\")"
   ]
  },
  {
   "cell_type": "code",
   "execution_count": 51,
   "metadata": {},
   "outputs": [
    {
     "name": "stdout",
     "output_type": "stream",
     "text": [
      "p-value: 0.9985\n",
      "→ 두 집단의 분산 A가 B와 같거나 작다\n"
     ]
    }
   ],
   "source": [
    "# 분산 계산\n",
    "var_a = np.var(a, ddof=1)\n",
    "var_b = np.var(b, ddof=1)\n",
    "\n",
    "f_statistic = var_a / var_b\n",
    "df1 = len(a) - 1  # 분자\n",
    "df2 = len(b) - 1  # 분모\n",
    "\n",
    "H0 = '두 집단의 분산 A가 B와 같거나 작다'\n",
    "H1 = '두 집단의 분산 A가 B보다 크다'\n",
    "\n",
    "df1 = len(a) - 1\n",
    "df2 = len(b) - 1\n",
    "p_value = 1 - stats.f.cdf(f_statistic, df1, df2)\n",
    "\n",
    "print(f\"p-value: {p_value:.4f}\")\n",
    "if p_value < 0.05:\n",
    "    print(f\"→ {H1}\")\n",
    "else:\n",
    "    print(f\"→ {H0}\")"
   ]
  },
  {
   "cell_type": "code",
   "execution_count": 52,
   "metadata": {},
   "outputs": [
    {
     "name": "stdout",
     "output_type": "stream",
     "text": [
      "p-value: 0.0015\n",
      "→ 두 집단의 분산 A가 B보다 작다\n"
     ]
    }
   ],
   "source": [
    "# 분산 계산\n",
    "var_a = np.var(a, ddof=1)\n",
    "var_b = np.var(b, ddof=1)\n",
    "\n",
    "f_statistic = var_a / var_b\n",
    "df1 = len(a) - 1  # 분자\n",
    "df2 = len(b) - 1  # 분모\n",
    "\n",
    "H0 = '두 집단의 분산 A가 B와 크거나 같다'\n",
    "H1 = '두 집단의 분산 A가 B보다 작다'\n",
    "p_value = stats.f.cdf(f_statistic, df1, df2)\n",
    "\n",
    "print(f\"p-value: {p_value:.4f}\")\n",
    "if p_value < 0.05:\n",
    "    print(f\"→ {H1}\")\n",
    "else:\n",
    "    print(f\"→ {H0}\")"
   ]
  },
  {
   "cell_type": "code",
   "execution_count": null,
   "metadata": {},
   "outputs": [],
   "source": []
  }
 ],
 "metadata": {
  "kernelspec": {
   "display_name": "general",
   "language": "python",
   "name": "python3"
  },
  "language_info": {
   "codemirror_mode": {
    "name": "ipython",
    "version": 3
   },
   "file_extension": ".py",
   "mimetype": "text/x-python",
   "name": "python",
   "nbconvert_exporter": "python",
   "pygments_lexer": "ipython3",
   "version": "3.11.5"
  }
 },
 "nbformat": 4,
 "nbformat_minor": 2
}
