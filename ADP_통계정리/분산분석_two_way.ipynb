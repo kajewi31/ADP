{
 "cells": [
  {
   "cell_type": "code",
   "execution_count": 1,
   "metadata": {},
   "outputs": [],
   "source": [
    "import numpy as np\n",
    "import pandas as pd\n",
    "from scipy import stats\n",
    "\n",
    "from statsmodels.formula.api import ols\n",
    "from statsmodels.stats.anova import anova_lm"
   ]
  },
  {
   "cell_type": "markdown",
   "metadata": {},
   "source": [
    "## 🔹 [Two-Way ANOVA 실전 문제]\n",
    "\n",
    "### 📝 문제:\n",
    "\n",
    "한 교육기관은 **학습 방법(A/B)**과 **성별(남/여)**이  \n",
    "학생들의 **시험 성적에 미치는 영향**을 분석하고자 한다.\n",
    "\n",
    "총 24명의 학생을 학습 방법 × 성별로 나누어  \n",
    "시험 성적을 다음과 같이 측정하였다:\n",
    "\n",
    "| 성별 | 학습법 | 점수 |\n",
    "|------|--------|------|\n",
    "| 남성 | A      | 85, 88, 86, 87 |\n",
    "| 남성 | B      | 78, 75, 77, 79 |\n",
    "| 여성 | A      | 90, 92, 91, 89 |\n",
    "| 여성 | B      | 82, 83, 84, 81 |"
   ]
  },
  {
   "cell_type": "code",
   "execution_count": 3,
   "metadata": {},
   "outputs": [
    {
     "data": {
      "text/html": [
       "<div>\n",
       "<style scoped>\n",
       "    .dataframe tbody tr th:only-of-type {\n",
       "        vertical-align: middle;\n",
       "    }\n",
       "\n",
       "    .dataframe tbody tr th {\n",
       "        vertical-align: top;\n",
       "    }\n",
       "\n",
       "    .dataframe thead th {\n",
       "        text-align: right;\n",
       "    }\n",
       "</style>\n",
       "<table border=\"1\" class=\"dataframe\">\n",
       "  <thead>\n",
       "    <tr style=\"text-align: right;\">\n",
       "      <th></th>\n",
       "      <th>score</th>\n",
       "      <th>gender</th>\n",
       "      <th>method</th>\n",
       "    </tr>\n",
       "  </thead>\n",
       "  <tbody>\n",
       "    <tr>\n",
       "      <th>0</th>\n",
       "      <td>85</td>\n",
       "      <td>male</td>\n",
       "      <td>A</td>\n",
       "    </tr>\n",
       "    <tr>\n",
       "      <th>1</th>\n",
       "      <td>88</td>\n",
       "      <td>male</td>\n",
       "      <td>A</td>\n",
       "    </tr>\n",
       "    <tr>\n",
       "      <th>2</th>\n",
       "      <td>86</td>\n",
       "      <td>male</td>\n",
       "      <td>A</td>\n",
       "    </tr>\n",
       "    <tr>\n",
       "      <th>3</th>\n",
       "      <td>87</td>\n",
       "      <td>male</td>\n",
       "      <td>A</td>\n",
       "    </tr>\n",
       "    <tr>\n",
       "      <th>4</th>\n",
       "      <td>78</td>\n",
       "      <td>male</td>\n",
       "      <td>B</td>\n",
       "    </tr>\n",
       "    <tr>\n",
       "      <th>5</th>\n",
       "      <td>75</td>\n",
       "      <td>male</td>\n",
       "      <td>B</td>\n",
       "    </tr>\n",
       "    <tr>\n",
       "      <th>6</th>\n",
       "      <td>77</td>\n",
       "      <td>male</td>\n",
       "      <td>B</td>\n",
       "    </tr>\n",
       "    <tr>\n",
       "      <th>7</th>\n",
       "      <td>79</td>\n",
       "      <td>male</td>\n",
       "      <td>B</td>\n",
       "    </tr>\n",
       "    <tr>\n",
       "      <th>8</th>\n",
       "      <td>90</td>\n",
       "      <td>female</td>\n",
       "      <td>A</td>\n",
       "    </tr>\n",
       "    <tr>\n",
       "      <th>9</th>\n",
       "      <td>92</td>\n",
       "      <td>female</td>\n",
       "      <td>A</td>\n",
       "    </tr>\n",
       "    <tr>\n",
       "      <th>10</th>\n",
       "      <td>91</td>\n",
       "      <td>female</td>\n",
       "      <td>A</td>\n",
       "    </tr>\n",
       "    <tr>\n",
       "      <th>11</th>\n",
       "      <td>89</td>\n",
       "      <td>female</td>\n",
       "      <td>A</td>\n",
       "    </tr>\n",
       "    <tr>\n",
       "      <th>12</th>\n",
       "      <td>82</td>\n",
       "      <td>female</td>\n",
       "      <td>B</td>\n",
       "    </tr>\n",
       "    <tr>\n",
       "      <th>13</th>\n",
       "      <td>83</td>\n",
       "      <td>female</td>\n",
       "      <td>B</td>\n",
       "    </tr>\n",
       "    <tr>\n",
       "      <th>14</th>\n",
       "      <td>84</td>\n",
       "      <td>female</td>\n",
       "      <td>B</td>\n",
       "    </tr>\n",
       "    <tr>\n",
       "      <th>15</th>\n",
       "      <td>81</td>\n",
       "      <td>female</td>\n",
       "      <td>B</td>\n",
       "    </tr>\n",
       "  </tbody>\n",
       "</table>\n",
       "</div>"
      ],
      "text/plain": [
       "    score  gender method\n",
       "0      85    male      A\n",
       "1      88    male      A\n",
       "2      86    male      A\n",
       "3      87    male      A\n",
       "4      78    male      B\n",
       "5      75    male      B\n",
       "6      77    male      B\n",
       "7      79    male      B\n",
       "8      90  female      A\n",
       "9      92  female      A\n",
       "10     91  female      A\n",
       "11     89  female      A\n",
       "12     82  female      B\n",
       "13     83  female      B\n",
       "14     84  female      B\n",
       "15     81  female      B"
      ]
     },
     "execution_count": 3,
     "metadata": {},
     "output_type": "execute_result"
    }
   ],
   "source": [
    "male_A = [85, 88, 86, 87]\n",
    "male_B = [78, 75, 77, 79]\n",
    "female_A = [90, 92, 91, 89]\n",
    "female_B = [82, 83, 84, 81]\n",
    "\n",
    "data = {\n",
    "    'score': male_A + male_B + female_A + female_B,\n",
    "    'gender': ['male'] * 4 + ['male'] * 4 + ['female'] * 4 + ['female'] * 4,\n",
    "    'method': ['A'] * 4 + ['B'] * 4 + ['A'] * 4 + ['B'] * 4\n",
    "}\n",
    "\n",
    "df = pd.DataFrame(data)\n",
    "df"
   ]
  },
  {
   "cell_type": "code",
   "execution_count": 4,
   "metadata": {},
   "outputs": [],
   "source": [
    "H_A = {\n",
    "    'H0': '성별과 성적이 관계가 없다.',\n",
    "    'H1': '성별과 성적이 관계가 있다.'\n",
    "}\n",
    "H_B = {\n",
    "    'H0': '학습법과 성적이 관계가 없다.',\n",
    "    'H1': '학습법과 성적이 관계가 있다.'\n",
    "}\n",
    "H_C = {\n",
    "    'H0': '성별과 학습법이 관계가 없다.',\n",
    "    'H1': '성별과 학습법이 관계가 있다.'\n",
    "}"
   ]
  },
  {
   "cell_type": "code",
   "execution_count": 5,
   "metadata": {},
   "outputs": [],
   "source": [
    "formula = 'score ~ C(gender)*C(method)'\n",
    "model = ols(formula=formula, data=df).fit()"
   ]
  },
  {
   "cell_type": "code",
   "execution_count": 6,
   "metadata": {},
   "outputs": [
    {
     "name": "stdout",
     "output_type": "stream",
     "text": [
      "\n",
      "🔹 정규성 검정 (Shapiro-Wilk)\n",
      "p-value: 0.2538\n",
      "→ 정규성 만족\n"
     ]
    }
   ],
   "source": [
    "# ✅ 1. 정규성 검정 (잔차 기준)\n",
    "print(\"\\n🔹 정규성 검정 (Shapiro-Wilk)\")\n",
    "residuals = model.resid\n",
    "stat, p = stats.shapiro(residuals)\n",
    "print(f\"p-value: {p:.4f}\")\n",
    "if p > 0.05:\n",
    "    print(\"→ 정규성 만족\")\n",
    "else:\n",
    "    print(\"→ 정규성 위반\")"
   ]
  },
  {
   "cell_type": "code",
   "execution_count": 7,
   "metadata": {},
   "outputs": [
    {
     "name": "stdout",
     "output_type": "stream",
     "text": [
      "\n",
      "🔹 등분산성 검정 (Levene)\n",
      "p-value: 0.9401\n",
      "→ 등분산성 만족\n"
     ]
    }
   ],
   "source": [
    "# ✅ 2. 등분산성 검정 (Levene)\n",
    "print(\"\\n🔹 등분산성 검정 (Levene)\")\n",
    "\n",
    "g1 = df[(df['gender'] == 'male') & (df['method'] == 'A')]['score']\n",
    "g2 = df[(df['gender'] == 'male') & (df['method'] == 'B')]['score']\n",
    "g3 = df[(df['gender'] == 'female') & (df['method'] == 'A')]['score']\n",
    "g4 = df[(df['gender'] == 'female') & (df['method'] == 'B')]['score']\n",
    "\n",
    "stat, p = stats.levene(g1, g2, g3, g4)\n",
    "print(f\"p-value: {p:.4f}\")\n",
    "if p > 0.05:\n",
    "    print(\"→ 등분산성 만족\")\n",
    "else:\n",
    "    print(\"→ 등분산성 위반\")"
   ]
  },
  {
   "cell_type": "code",
   "execution_count": 8,
   "metadata": {},
   "outputs": [
    {
     "data": {
      "text/html": [
       "<div>\n",
       "<style scoped>\n",
       "    .dataframe tbody tr th:only-of-type {\n",
       "        vertical-align: middle;\n",
       "    }\n",
       "\n",
       "    .dataframe tbody tr th {\n",
       "        vertical-align: top;\n",
       "    }\n",
       "\n",
       "    .dataframe thead th {\n",
       "        text-align: right;\n",
       "    }\n",
       "</style>\n",
       "<table border=\"1\" class=\"dataframe\">\n",
       "  <thead>\n",
       "    <tr style=\"text-align: right;\">\n",
       "      <th></th>\n",
       "      <th>sum_sq</th>\n",
       "      <th>df</th>\n",
       "      <th>F</th>\n",
       "      <th>PR(&gt;F)</th>\n",
       "    </tr>\n",
       "  </thead>\n",
       "  <tbody>\n",
       "    <tr>\n",
       "      <th>C(gender)</th>\n",
       "      <td>85.5625</td>\n",
       "      <td>1.0</td>\n",
       "      <td>43.231579</td>\n",
       "      <td>2.631453e-05</td>\n",
       "    </tr>\n",
       "    <tr>\n",
       "      <th>C(method)</th>\n",
       "      <td>297.5625</td>\n",
       "      <td>1.0</td>\n",
       "      <td>150.347368</td>\n",
       "      <td>3.801510e-08</td>\n",
       "    </tr>\n",
       "    <tr>\n",
       "      <th>C(gender):C(method)</th>\n",
       "      <td>1.5625</td>\n",
       "      <td>1.0</td>\n",
       "      <td>0.789474</td>\n",
       "      <td>3.917220e-01</td>\n",
       "    </tr>\n",
       "    <tr>\n",
       "      <th>Residual</th>\n",
       "      <td>23.7500</td>\n",
       "      <td>12.0</td>\n",
       "      <td>NaN</td>\n",
       "      <td>NaN</td>\n",
       "    </tr>\n",
       "  </tbody>\n",
       "</table>\n",
       "</div>"
      ],
      "text/plain": [
       "                       sum_sq    df           F        PR(>F)\n",
       "C(gender)             85.5625   1.0   43.231579  2.631453e-05\n",
       "C(method)            297.5625   1.0  150.347368  3.801510e-08\n",
       "C(gender):C(method)    1.5625   1.0    0.789474  3.917220e-01\n",
       "Residual              23.7500  12.0         NaN           NaN"
      ]
     },
     "execution_count": 8,
     "metadata": {},
     "output_type": "execute_result"
    }
   ],
   "source": [
    "anova_result = anova_lm(model, typ=2)\n",
    "anova_result"
   ]
  },
  {
   "cell_type": "code",
   "execution_count": 9,
   "metadata": {},
   "outputs": [
    {
     "name": "stdout",
     "output_type": "stream",
     "text": [
      "성별과 성적이 관계가 있다.\n",
      "학습법과 성적이 관계가 있다.\n",
      "성별과 학습법이 관계가 없다.\n"
     ]
    }
   ],
   "source": [
    "if anova_result.loc['C(gender)', 'PR(>F)'] < 0.05:\n",
    "    print(H_A['H1'])\n",
    "else:\n",
    "    print(H_A['H0'])\n",
    "\n",
    "if anova_result.loc['C(method)', 'PR(>F)'] < 0.05:\n",
    "    print(H_B['H1'])\n",
    "else:\n",
    "    print(H_B['H0'])\n",
    "\n",
    "if anova_result.loc['C(gender):C(method)', 'PR(>F)'] < 0.05:\n",
    "    print(H_C['H1'])\n",
    "else:\n",
    "    print(H_C['H0'])"
   ]
  },
  {
   "cell_type": "code",
   "execution_count": 10,
   "metadata": {},
   "outputs": [
    {
     "name": "stdout",
     "output_type": "stream",
     "text": [
      "   Multiple Comparison of Means - Tukey HSD, FWER=0.05   \n",
      "=========================================================\n",
      " group1   group2  meandiff p-adj  lower    upper   reject\n",
      "---------------------------------------------------------\n",
      "female_A female_B     -8.0   0.0 -10.9534  -5.0466   True\n",
      "female_A   male_A     -4.0 0.008  -6.9534  -1.0466   True\n",
      "female_A   male_B   -13.25   0.0 -16.2034 -10.2966   True\n",
      "female_B   male_A      4.0 0.008   1.0466   6.9534   True\n",
      "female_B   male_B    -5.25 0.001  -8.2034  -2.2966   True\n",
      "  male_A   male_B    -9.25   0.0 -12.2034  -6.2966   True\n",
      "---------------------------------------------------------\n"
     ]
    },
    {
     "data": {
      "image/png": "[encoded data removed]",
      "text/plain": [
       "<Figure size 1000x600 with 1 Axes>"
      ]
     },
     "metadata": {},
     "output_type": "display_data"
    }
   ],
   "source": [
    "# 사후검정\n",
    "\n",
    "from statsmodels.stats.multicomp import pairwise_tukeyhsd\n",
    "df['group'] = df['gender'] + '_' + df['method']\n",
    "\n",
    "tukey = pairwise_tukeyhsd(endog=df['score'], groups=df['group'], alpha=0.05)\n",
    "print(tukey.summary())\n",
    "fig = tukey.plot_simultaneous()"
   ]
  },
  {
   "cell_type": "code",
   "execution_count": 13,
   "metadata": {},
   "outputs": [
    {
     "data": {
      "image/png": "[encoded data removed]",
      "text/plain": [
       "<Figure size 600x600 with 1 Axes>"
      ]
     },
     "metadata": {},
     "output_type": "display_data"
    }
   ],
   "source": [
    "# 사후검정\n",
    "from statsmodels.graphics.factorplots import interaction_plot\n",
    "import matplotlib.pyplot as plt\n",
    "fig, ax = plt.subplots(figsize=(6, 6))\n",
    "fig = interaction_plot(df['gender'], df['method'], df['score'], ax=ax)"
   ]
  },
  {
   "cell_type": "code",
   "execution_count": null,
   "metadata": {},
   "outputs": [],
   "source": []
  }
 ],
 "metadata": {
  "kernelspec": {
   "display_name": "general",
   "language": "python",
   "name": "python3"
  },
  "language_info": {
   "codemirror_mode": {
    "name": "ipython",
    "version": 3
   },
   "file_extension": ".py",
   "mimetype": "text/x-python",
   "name": "python",
   "nbconvert_exporter": "python",
   "pygments_lexer": "ipython3",
   "version": "3.11.5"
  }
 },
 "nbformat": 4,
 "nbformat_minor": 2
}
