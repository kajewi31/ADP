{
 "cells": [
  {
   "cell_type": "code",
   "execution_count": 11,
   "metadata": {},
   "outputs": [],
   "source": [
    "import numpy as np\n",
    "from scipy import stats"
   ]
  },
  {
   "cell_type": "code",
   "execution_count": 12,
   "metadata": {},
   "outputs": [],
   "source": [
    "# 단일집단 분산 검정\n",
    "# 어떤 공장에서 생산한 부품의 내구성을 조사하기 위해 무작위로 10개의 부품을 뽑아 측정한 결과, 분산은 36이었다.\n",
    "# 이 공장의 부품 내구성의 모분산이 25라고 주장할 수 있는지 유의수준 5%에서 검정하라."
   ]
  },
  {
   "cell_type": "code",
   "execution_count": 13,
   "metadata": {},
   "outputs": [
    {
     "name": "stdout",
     "output_type": "stream",
     "text": [
      "검정통계량: 12.96\n",
      "임계값: [2.70, 19.02]\n",
      "p-value: 0.3288\n",
      "귀무가설 채택: 모분산이 25이다.\n"
     ]
    }
   ],
   "source": [
    "n = 10\n",
    "sample_var = 36\n",
    "pop_var = 25\n",
    "alpha = 0.05\n",
    "\n",
    "# 귀무가설: 모분산이 25이다.\n",
    "# 대립가설: 모분산이 25가 아니다.\n",
    "\n",
    "# 검정통계량\n",
    "statistic = (n - 1) * sample_var / pop_var\n",
    "\n",
    "# 양측 임계값\n",
    "lower_critical = stats.chi2.ppf(alpha / 2, n - 1)\n",
    "upper_critical = stats.chi2.ppf(1 - alpha / 2, n - 1)\n",
    "\n",
    "# p-value\n",
    "p_value = 2 * min(\n",
    "    stats.chi2.cdf(statistic, n - 1),\n",
    "    1 - stats.chi2.cdf(statistic, n - 1)\n",
    ")\n",
    "\n",
    "print('검정통계량: {:.2f}'.format(statistic))\n",
    "print('임계값: [{:.2f}, {:.2f}]'.format(lower_critical, upper_critical))\n",
    "print('p-value: {:.4f}'.format(p_value))\n",
    "\n",
    "if statistic < lower_critical or statistic > upper_critical:\n",
    "    print('귀무가설 기각: 모분산이 25가 아니다.')\n",
    "else:\n",
    "    print('귀무가설 채택: 모분산이 25이다.')"
   ]
  },
  {
   "cell_type": "code",
   "execution_count": 8,
   "metadata": {},
   "outputs": [
    {
     "name": "stdout",
     "output_type": "stream",
     "text": [
      "검정통계량: 12.96\n",
      "임계값: 16.92\n",
      "p-value: 0.1644\n",
      "귀무가설: 모분산이 25이다.\n"
     ]
    }
   ],
   "source": [
    "# 귀무가설: 모분산이 25보다 작거나 같다.\n",
    "# 대립가설: 모분산이 25보다 크다.\n",
    "\n",
    "# 검정통계량\n",
    "statistic = (n - 1) * sample_var / pop_var\n",
    "\n",
    "# 임계값\n",
    "critical_value = stats.chi2.ppf(1 - alpha, n - 1)\n",
    "\n",
    "# p-value\n",
    "p_value = 1 - stats.chi2.cdf(statistic, n - 1)\n",
    "\n",
    "print('검정통계량: {:.2f}'.format(statistic))\n",
    "print('임계값: {:.2f}'.format(critical_value))\n",
    "print('p-value: {:.4f}'.format(p_value))\n",
    "\n",
    "if statistic > critical_value:\n",
    "    print('대립가설: 모분산이 25보다 크다.')\n",
    "else:\n",
    "    print('귀무가설: 모분산이 25이다.')"
   ]
  },
  {
   "cell_type": "code",
   "execution_count": 9,
   "metadata": {},
   "outputs": [
    {
     "name": "stdout",
     "output_type": "stream",
     "text": [
      "검정통계량: 12.96\n",
      "임계값: 3.33\n",
      "p-value: 0.8356\n",
      "대립가설: 모분산이 25보다 작다.\n"
     ]
    }
   ],
   "source": [
    "# 귀무가설: 모분산이 25보다 크거나 같다.\n",
    "# 대립가설: 모분산이 25보다 작다.\n",
    "\n",
    "# 검정통계량\n",
    "statistic = (n - 1) * sample_var / pop_var\n",
    "\n",
    "# 임계값\n",
    "critical_value = stats.chi2.ppf(alpha, n - 1)\n",
    "\n",
    "# p-value\n",
    "p_value = stats.chi2.cdf(statistic, n - 1)\n",
    "\n",
    "print('검정통계량: {:.2f}'.format(statistic))\n",
    "print('임계값: {:.2f}'.format(critical_value))\n",
    "print('p-value: {:.4f}'.format(p_value))\n",
    "\n",
    "if statistic > critical_value:\n",
    "    print('대립가설: 모분산이 25보다 작다.')\n",
    "else:\n",
    "    print('귀무가설: 모분산이 25이다.')"
   ]
  },
  {
   "cell_type": "code",
   "execution_count": null,
   "metadata": {},
   "outputs": [],
   "source": []
  }
 ],
 "metadata": {
  "kernelspec": {
   "display_name": "general",
   "language": "python",
   "name": "python3"
  },
  "language_info": {
   "codemirror_mode": {
    "name": "ipython",
    "version": 3
   },
   "file_extension": ".py",
   "mimetype": "text/x-python",
   "name": "python",
   "nbconvert_exporter": "python",
   "pygments_lexer": "ipython3",
   "version": "3.11.5"
  }
 },
 "nbformat": 4,
 "nbformat_minor": 2
}
