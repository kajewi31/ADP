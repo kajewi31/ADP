{
 "cells": [
  {
   "cell_type": "markdown",
   "metadata": {},
   "source": [
    "## ✅ [포아송 분포]  \n",
    "**Q1.** 한 시간에 평균 3.5건의 고객 문의가 들어오는 콜센터가 있다.  \n",
    "1-1. 다음 시간에 문의가 2건 들어올 확률은?  \n",
    "1-2. 다음 시간에 **4건 이상** 문의가 들어올 확률은?"
   ]
  },
  {
   "cell_type": "code",
   "execution_count": null,
   "metadata": {},
   "outputs": [
    {
     "name": "stdout",
     "output_type": "stream",
     "text": [
      "Q1-1. P(X = 2): 0.1850\n",
      "Q1-2. P(X ≥ 4): 0.4634\n"
     ]
    }
   ],
   "source": [
    "from scipy import stats\n",
    "\n",
    "# 평균 발생률 λ\n",
    "lambda_ = 3.5\n",
    "\n",
    "# Q1-1: P(X = 2)\n",
    "prob_2 = stats.poisson.pmf(2, mu=lambda_)\n",
    "print(f\"Q1-1. P(X = 2): {prob_2:.4f}\")  # 약 0.1850\n",
    "\n",
    "# Q1-2: P(X ≥ 4) = 1 - P(X ≤ 3)\n",
    "prob_4_or_more = 1 - stats.poisson.cdf(3, mu=lambda_)\n",
    "print(f\"Q1-2. P(X ≥ 4): {prob_4_or_more:.4f}\")  # 약 0.4631"
   ]
  },
  {
   "cell_type": "markdown",
   "metadata": {},
   "source": [
    "## ✅ [이항 분포]  \n",
    "**Q2.** 불량률이 5%인 공정에서 제품 10개를 랜덤으로 뽑았다.  \n",
    "2-1. 불량이 **정확히 1개**일 확률은?  \n",
    "2-2. 불량이 **1개 이하**일 확률은?  \n",
    "2-3. 불량이 **2개 이상**일 확률은?"
   ]
  },
  {
   "cell_type": "code",
   "execution_count": 4,
   "metadata": {},
   "outputs": [
    {
     "name": "stdout",
     "output_type": "stream",
     "text": [
      "Q2-1. P(X = 1): 0.3151\n",
      "Q2-2. P(X <= 1): 0.9139\n",
      "Q2-3. P(X >= 2): 0.0861\n"
     ]
    }
   ],
   "source": [
    "from scipy import stats\n",
    "\n",
    "# 파라미터\n",
    "n = 10\n",
    "p = 0.05\n",
    "\n",
    "# Q2-1: P(X = 1)\n",
    "prob_1 = stats.binom.pmf(1, n, p)\n",
    "print(f\"Q2-1. P(X = 1): {prob_1:.4f}\")\n",
    "\n",
    "# Q2-2: P(X <= 1)\n",
    "prob_le_1 = stats.binom.cdf(1, n, p)\n",
    "print(f\"Q2-2. P(X <= 1): {prob_le_1:.4f}\")\n",
    "\n",
    "# Q2-3: P(X >= 2)\n",
    "prob_ge_2 = 1 - stats.binom.cdf(1, n, p)\n",
    "print(f\"Q2-3. P(X >= 2): {prob_ge_2:.4f}\")"
   ]
  },
  {
   "cell_type": "markdown",
   "metadata": {},
   "source": [
    "## ✅ [정규 분포]  \n",
    "**Q3.** 어떤 제품의 무게는 평균 200g, 표준편차 10g인 정규분포를 따른다.  \n",
    "3-1. 무게가 **210g 이하**일 확률은?  \n",
    "3-2. 무게가 **190g 이상 210g 이하**일 확률은?  \n",
    "3-3. 무게가 **220g 이상**일 확률은?"
   ]
  },
  {
   "cell_type": "code",
   "execution_count": null,
   "metadata": {},
   "outputs": [
    {
     "name": "stdout",
     "output_type": "stream",
     "text": [
      "Q3-1: 0.8413\n",
      "Q3-2: 0.6827\n",
      "Q3-3: 0.0228\n"
     ]
    }
   ],
   "source": [
    "from scipy.stats import norm\n",
    "\n",
    "# \n",
    "mu = 200\n",
    "sigma = 10\n",
    "\n",
    "# Q3-1: P(X <= 210)\n",
    "prob_210_or_less = norm.cdf(210, loc=mu, scale=sigma)\n",
    "print(f\"Q3-1. P(X <= 210): {prob_210_or_less:.4f}\")\n",
    "\n",
    "# Q3-2: P(190 <= X <= 210)\n",
    "prob_between_190_210 = norm.cdf(210, mu, sigma) - norm.cdf(190, mu, sigma)\n",
    "print(f\"Q3-2. P(190 <= X <= 210): {prob_between_190_210:.4f}\")\n",
    "\n",
    "# Q3-3: P(X >= 220)\n",
    "prob_220_or_more = 1 - norm.cdf(220, mu, sigma)\n",
    "print(f\"Q3-3. P(X >= 220): {prob_220_or_more:.4f}\")\n"
   ]
  },
  {
   "cell_type": "markdown",
   "metadata": {},
   "source": [
    "## ✅ [표준 정규분포 활용]  \n",
    "**Q4.** Z ~ N(0,1)일 때,  \n",
    "4-1. P(Z ≤ 1.28)의 값은?  \n",
    "4-2. P(Z ≥ -0.67)의 값은?"
   ]
  },
  {
   "cell_type": "code",
   "execution_count": null,
   "metadata": {},
   "outputs": [
    {
     "data": {
      "text/plain": [
       "0.7485711049046899"
      ]
     },
     "execution_count": 10,
     "metadata": {},
     "output_type": "execute_result"
    }
   ],
   "source": [
    "from scipy.stats import norm\n",
    "\n",
    "# Q4-1: P(Z <= 1.28)\n",
    "prob_le_1_28 = norm.cdf(1.28)\n",
    "print(f\"Q4-1. P(Z <= 1.28): {prob_le_1_28:.4f}\")\n",
    "\n",
    "# Q4-2: P(Z >= -0.67)\n",
    "prob_ge_minus_0_67 = 1 - norm.cdf(-0.67)\n",
    "print(f\"Q4-2. P(Z >= -0.67): {prob_ge_minus_0_67:.4f}\")\n"
   ]
  },
  {
   "cell_type": "markdown",
   "metadata": {},
   "source": [
    "## ✅ [지수 분포]  \n",
    "**Q5.** 어떤 기계의 고장 시간은 평균 100시간을 따르는 지수분포이다.  \n",
    "5-1. 기계가 **100시간 이상** 고장 없이 작동할 확률은?  \n",
    "5-2. 기계가 **50시간 이하**만에 고장날 확률은?"
   ]
  },
  {
   "cell_type": "code",
   "execution_count": 11,
   "metadata": {},
   "outputs": [
    {
     "name": "stdout",
     "output_type": "stream",
     "text": [
      "Q5-1. P(T >= 100): 0.3679\n",
      "Q5-2. P(T <= 50): 0.3935\n"
     ]
    }
   ],
   "source": [
    "from scipy.stats import expon\n",
    "\n",
    "# 평균 (scale 파라미터)\n",
    "scale = 100  # → lambda = 1/scale = 0.01\n",
    "\n",
    "# Q5-1: P(T >= 100)\n",
    "prob_100_or_more = expon.sf(100, scale=scale)  # sf = 1 - cdf\n",
    "print(f\"Q5-1. P(T >= 100): {prob_100_or_more:.4f}\")\n",
    "\n",
    "# Q5-2: P(T <= 50)\n",
    "prob_50_or_less = expon.cdf(50, scale=scale)\n",
    "print(f\"Q5-2. P(T <= 50): {prob_50_or_less:.4f}\")"
   ]
  },
  {
   "cell_type": "markdown",
   "metadata": {},
   "source": [
    "## ✅ [균등 분포]  \n",
    "**Q6.** 10분~30분 사이에 랜덤으로 오는 버스를 기다린다.  \n",
    "6-1. 15분 이상 기다릴 확률은?  \n",
    "6-2. 20분에서 25분 사이에 도착할 확률은?"
   ]
  },
  {
   "cell_type": "code",
   "execution_count": 12,
   "metadata": {},
   "outputs": [
    {
     "name": "stdout",
     "output_type": "stream",
     "text": [
      "Q6-1. P(X >= 15): 0.7500\n",
      "Q6-2. P(20 <= X <= 25): 0.2500\n"
     ]
    }
   ],
   "source": [
    "from scipy.stats import uniform\n",
    "\n",
    "# 정의역 a=10, b=30 → scale = b - a = 20\n",
    "a = 10\n",
    "b = 30\n",
    "scale = b - a\n",
    "\n",
    "# Q6-1: P(X >= 15) = 1 - CDF(15)\n",
    "prob_15_or_more = 1 - uniform.cdf(15, loc=a, scale=scale)\n",
    "print(f\"Q6-1. P(X >= 15): {prob_15_or_more:.4f}\")\n",
    "\n",
    "# Q6-2: P(20 <= X <= 25) = CDF(25) - CDF(20)\n",
    "prob_20_to_25 = uniform.cdf(25, loc=a, scale=scale) - uniform.cdf(20, loc=a, scale=scale)\n",
    "print(f\"Q6-2. P(20 <= X <= 25): {prob_20_to_25:.4f}\")\n"
   ]
  },
  {
   "cell_type": "markdown",
   "metadata": {},
   "source": [
    "## ✅ [보너스 - 실전 혼합형]  \n",
    "**Q7.** A 기계의 하루 고장 횟수는 포아송 분포(λ=1.8)를 따른다.  \n",
    "B 기계는 하루에 평균 2.1번 고장난다.  \n",
    "7-1. A 기계가 하루에 고장나지 않을 확률은?  \n",
    "7-2. B 기계가 **2번 이상** 고장날 확률은?"
   ]
  },
  {
   "cell_type": "code",
   "execution_count": null,
   "metadata": {},
   "outputs": [
    {
     "name": "stdout",
     "output_type": "stream",
     "text": [
      "Q7-1. A 기계가 하루 고장 0회: 0.1653\n",
      "Q7-2. B 기계가 2회 이상 고장: 0.6204\n"
     ]
    }
   ],
   "source": [
    "from scipy.stats import poisson\n",
    "\n",
    "# A 기계: λ = 1.8\n",
    "prob_A_zero = poisson.pmf(0, mu=1.8)\n",
    "print(f\"Q7-1. A 기계가 하루 고장 0회: {prob_A_zero:.4f}\")\n",
    "\n",
    "# B 기계: λ = 2.1\n",
    "# P(Y >= 2) = 1 - [P(0) + P(1)]\n",
    "prob_B_0 = poisson.pmf(0, mu=2.1)\n",
    "prob_B_1 = poisson.pmf(1, mu=2.1)\n",
    "prob_B_ge_2 = 1 - (prob_B_0 + prob_B_1)\n",
    "print(f\"Q7-2. B 기계가 2회 이상 고장: {prob_B_ge_2:.4f}\")"
   ]
  },
  {
   "cell_type": "markdown",
   "metadata": {},
   "source": []
  }
 ],
 "metadata": {
  "kernelspec": {
   "display_name": "general",
   "language": "python",
   "name": "python3"
  },
  "language_info": {
   "codemirror_mode": {
    "name": "ipython",
    "version": 3
   },
   "file_extension": ".py",
   "mimetype": "text/x-python",
   "name": "python",
   "nbconvert_exporter": "python",
   "pygments_lexer": "ipython3",
   "version": "3.11.5"
  }
 },
 "nbformat": 4,
 "nbformat_minor": 2
}
