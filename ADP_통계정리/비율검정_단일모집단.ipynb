{
 "cells": [
  {
   "cell_type": "code",
   "execution_count": 9,
   "metadata": {},
   "outputs": [],
   "source": [
    "import numpy as np\n",
    "from scipy import stats"
   ]
  },
  {
   "cell_type": "markdown",
   "metadata": {},
   "source": [
    "### ✅ **문제: 단일 모집단 비율검정**\n",
    "\n",
    "한 제과회사는 자사 과자의 봉지에 들어 있는 과자의 **불량률이 5%** 이하라고 주장하고 있다.  \n",
    "이를 검정하기 위해 **랜덤하게 200개의 과자 봉지를 조사한 결과**,  \n",
    "**총 16개**의 봉지에서 불량 과자가 발견되었다.\n",
    "\n",
    "이 회사의 주장에 대해 유의수준 **5%**에서 검정하시오.\n"
   ]
  },
  {
   "cell_type": "code",
   "execution_count": 10,
   "metadata": {},
   "outputs": [],
   "source": [
    "H0 = '불량룰이 5% 이하이다.'\n",
    "H1 = '불량률이 5% 초과이다.'\n",
    "alpha = 0.05"
   ]
  },
  {
   "cell_type": "code",
   "execution_count": 11,
   "metadata": {},
   "outputs": [
    {
     "name": "stdout",
     "output_type": "stream",
     "text": [
      "z-통계량: 1.9466570535691503\n",
      "p-값: 0.02578793181043848\n",
      "불량률이 5% 초과이다.\n"
     ]
    }
   ],
   "source": [
    "sample_n = 200\n",
    "sample_x = 16\n",
    "sample_p = sample_x / sample_n\n",
    "\n",
    "pop_p = 0.05\n",
    "se = np.sqrt(pop_p * (1 - pop_p) / sample_n)\n",
    "z = (sample_p - pop_p) / se\n",
    "\n",
    "p_value = 1 - stats.norm.cdf(z)\n",
    "\n",
    "print('z-통계량:', z)\n",
    "print('p-값:', p_value)\n",
    "\n",
    "if p_value < alpha:\n",
    "    print(H1)\n",
    "else:\n",
    "    print(H0)"
   ]
  },
  {
   "cell_type": "code",
   "execution_count": 16,
   "metadata": {},
   "outputs": [],
   "source": [
    "# 양측검정\n",
    "\n",
    "H0 = '불량룰이 5% 이다.'\n",
    "H1 = '불량률이 5% 아니다.'\n",
    "alpha = 0.05"
   ]
  },
  {
   "cell_type": "code",
   "execution_count": 17,
   "metadata": {},
   "outputs": [
    {
     "name": "stdout",
     "output_type": "stream",
     "text": [
      "z-통계량: 1.9466570535691503\n",
      "p-값: 0.05157586362087696\n",
      "불량룰이 5% 이다.\n"
     ]
    }
   ],
   "source": [
    "sample_n = 200\n",
    "sample_x = 16\n",
    "sample_p = sample_x / sample_n\n",
    "\n",
    "pop_p = 0.05\n",
    "se = np.sqrt(pop_p * (1 - pop_p) / sample_n)\n",
    "z = (sample_p - pop_p) / se\n",
    "\n",
    "# 양측검정 → 절대값 기준으로 양쪽 면적 2배\n",
    "p_value = 2 * (1 - stats.norm.cdf(abs(z)))\n",
    "\n",
    "print('z-통계량:', z)\n",
    "print('p-값:', p_value)\n",
    "\n",
    "if p_value < alpha:\n",
    "    print(H1)\n",
    "else:\n",
    "    print(H0)\n"
   ]
  },
  {
   "cell_type": "code",
   "execution_count": null,
   "metadata": {},
   "outputs": [],
   "source": []
  }
 ],
 "metadata": {
  "kernelspec": {
   "display_name": "general",
   "language": "python",
   "name": "python3"
  },
  "language_info": {
   "codemirror_mode": {
    "name": "ipython",
    "version": 3
   },
   "file_extension": ".py",
   "mimetype": "text/x-python",
   "name": "python",
   "nbconvert_exporter": "python",
   "pygments_lexer": "ipython3",
   "version": "3.11.5"
  }
 },
 "nbformat": 4,
 "nbformat_minor": 2
}
