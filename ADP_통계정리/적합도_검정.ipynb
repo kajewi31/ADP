{
 "cells": [
  {
   "cell_type": "code",
   "execution_count": 1,
   "metadata": {},
   "outputs": [],
   "source": [
    "import numpy as np\n",
    "from scipy import stats"
   ]
  },
  {
   "cell_type": "markdown",
   "metadata": {},
   "source": [
    "### 🔹 1. **적합도 검정 (카이제곱)**\n",
    "\n",
    "**문제:**\n",
    "\n",
    "한 마트에서는 요일별 방문자 수가 **모두 동일**하다고 주장한다.  \n",
    "이를 검증하기 위해 일주일 동안 방문자 수를 조사한 결과는 다음과 같다:\n",
    "\n",
    "| 요일 | 월 | 화 | 수 | 목 | 금 | 토 | 일 |\n",
    "|------|----|----|----|----|----|----|----|\n",
    "| 방문자 수 | 120 | 110 | 130 | 115 | 125 | 140 | 160 |\n",
    "\n",
    "- 유의수준: 0.05  \n",
    "- 각 요일의 **기대 비율은 동일**하다고 가정\n",
    "\n",
    "→ 마트의 주장은 **통계적으로 타당한가?**"
   ]
  },
  {
   "cell_type": "code",
   "execution_count": 2,
   "metadata": {},
   "outputs": [],
   "source": [
    "data = [120, 110, 130, 115, 125, 140, 160]\n",
    "\n",
    "n = len(data)\n",
    "ev_val = np.mean(data)\n",
    "\n",
    "H0 = '요일별 방문자 수가 동일하다.'\n",
    "H1 = '요일별 방문자 수가 동일하지 않다.'"
   ]
  },
  {
   "cell_type": "code",
   "execution_count": 3,
   "metadata": {},
   "outputs": [
    {
     "name": "stdout",
     "output_type": "stream",
     "text": [
      "chi_statistic   : 13.5\n",
      "chi_critical    : 12.591587243743977\n",
      "요일별 방문자 수가 동일하지 않다.\n"
     ]
    }
   ],
   "source": [
    "# 통계값으로 검정\n",
    "chi_statistic = sum(((np.array(data) - ev_val)**2) / ev_val)\n",
    "chi_critical = stats.chi2.ppf(q=1 - 0.05, df=n - 1)\n",
    "\n",
    "print(f'chi_statistic   : {chi_statistic}')\n",
    "print(f'chi_critical    : {chi_critical}')\n",
    "if chi_critical < chi_statistic:\n",
    "    print(H1)\n",
    "else:\n",
    "    print(H0)"
   ]
  },
  {
   "cell_type": "code",
   "execution_count": 4,
   "metadata": {},
   "outputs": [
    {
     "name": "stdout",
     "output_type": "stream",
     "text": [
      "p_value : 0.0357484184222806\n",
      "요일별 방문자 수가 동일하지 않다.\n"
     ]
    }
   ],
   "source": [
    "# p_value로 검정\n",
    "chi_statistic = sum(((np.array(data) - ev_val)**2) / ev_val)\n",
    "\n",
    "p_value = 1 - stats.chi2.cdf(chi_statistic, df=n - 1)\n",
    "\n",
    "print(f\"p_value : {p_value}\")\n",
    "if p_value < 0.05:\n",
    "    print(H1)\n",
    "else:\n",
    "    print(H0)"
   ]
  },
  {
   "cell_type": "code",
   "execution_count": 5,
   "metadata": {},
   "outputs": [
    {
     "data": {
      "text/plain": [
       "(13.5, 0.035748418422280555)"
      ]
     },
     "execution_count": 5,
     "metadata": {},
     "output_type": "execute_result"
    }
   ],
   "source": [
    "statistic, p_value = stats.chisquare(data)\n",
    "statistic, p_value"
   ]
  },
  {
   "cell_type": "markdown",
   "metadata": {},
   "source": [
    "### 🔹 1. **적합도 검정 (비균등 기대분포)**\n",
    "\n",
    "**문제:**\n",
    "\n",
    "한 방송사는 **연령대별 시청률 비율**을 다음과 같이 예상하고 있다:\n",
    "\n",
    "| 연령대 | 10대 | 20대 | 30대 | 40대 | 50대 이상 |\n",
    "|--------|------|------|------|------|------------|\n",
    "| 기대 비율(%) | 10% | 25% | 30% | 20% | 15% |\n",
    "\n",
    "최근 한 드라마의 시청자 **총 200명**을 조사한 결과는 다음과 같았다:\n",
    "\n",
    "| 연령대 | 10대 | 20대 | 30대 | 40대 | 50대 이상 |\n",
    "|--------|------|------|------|------|------------|\n",
    "| 관측도수(O) | 18 | 52 | 61 | 41 | 28 |\n",
    "\n",
    "- 유의수준: 0.05\n",
    "\n",
    "→ 실제 시청률 분포는 방송사의 예상과 **일치한다고 볼 수 있는가?**\n"
   ]
  },
  {
   "cell_type": "code",
   "execution_count": 7,
   "metadata": {},
   "outputs": [],
   "source": [
    "ev_probs = np.array([10, 25, 30, 20, 15])\n",
    "\n",
    "os_vals = np.array([18, 52, 61, 41, 28])\n",
    "ev_vals = (ev_probs / np.sum(ev_probs)) * np.sum(os_vals)\n",
    "\n",
    "n = len(os_vals)"
   ]
  },
  {
   "cell_type": "code",
   "execution_count": 8,
   "metadata": {},
   "outputs": [],
   "source": [
    "H0 = '연령대별 시청률 비율이 예상과 같다.'\n",
    "H1 = '연령대별 시청률 비율이 예상과 같지 않다.'"
   ]
  },
  {
   "cell_type": "code",
   "execution_count": 9,
   "metadata": {},
   "outputs": [
    {
     "name": "stdout",
     "output_type": "stream",
     "text": [
      "chi_statistic   : 0.45500000000000007\n",
      "chi_critical    : 9.487729036781154\n",
      "연령대별 시청률 비율이 예상과 같다.\n"
     ]
    }
   ],
   "source": [
    "# 통계량으로 검정\n",
    "\n",
    "chi_statistic = sum((os_vals - ev_vals)**2 / ev_vals)\n",
    "chi_critical = stats.chi2.ppf(1 - 0.05, df=len(os_vals) - 1)\n",
    "\n",
    "print(f'chi_statistic   : {chi_statistic}')\n",
    "print(f'chi_critical    : {chi_critical}')\n",
    "if chi_critical < chi_statistic:\n",
    "    print(H1)\n",
    "else:\n",
    "    print(H0)"
   ]
  },
  {
   "cell_type": "code",
   "execution_count": 10,
   "metadata": {},
   "outputs": [
    {
     "name": "stdout",
     "output_type": "stream",
     "text": [
      "p_value    : 0.9777312723881714\n",
      "연령대별 시청률 비율이 예상과 같다.\n"
     ]
    }
   ],
   "source": [
    "# p_value로 검정\n",
    "chi_statistic = sum((os_vals - ev_vals)**2 / ev_vals)\n",
    "p_value = 1 - stats.chi2.cdf(chi_statistic, df=len(os_vals) - 1)\n",
    "\n",
    "\n",
    "print(f'p_value    : {p_value}')\n",
    "if p_value < 0.05:\n",
    "    print(H1)\n",
    "else:\n",
    "    print(H0)"
   ]
  },
  {
   "cell_type": "code",
   "execution_count": null,
   "metadata": {},
   "outputs": [
    {
     "data": {
      "text/plain": [
       "(0.45500000000000007, 0.9777312723881714)"
      ]
     },
     "execution_count": 11,
     "metadata": {},
     "output_type": "execute_result"
    }
   ],
   "source": [
    "statistic, p_value = stats.chisquare(f_obs=os_vals, f_exp=ev_vals)\n",
    "statistic, p_value"
   ]
  },
  {
   "cell_type": "code",
   "execution_count": null,
   "metadata": {},
   "outputs": [],
   "source": []
  }
 ],
 "metadata": {
  "kernelspec": {
   "display_name": "general",
   "language": "python",
   "name": "python3"
  },
  "language_info": {
   "codemirror_mode": {
    "name": "ipython",
    "version": 3
   },
   "file_extension": ".py",
   "mimetype": "text/x-python",
   "name": "python",
   "nbconvert_exporter": "python",
   "pygments_lexer": "ipython3",
   "version": "3.11.5"
  }
 },
 "nbformat": 4,
 "nbformat_minor": 2
}
