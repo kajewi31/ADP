{
 "cells": [
  {
   "cell_type": "code",
   "execution_count": 1,
   "metadata": {},
   "outputs": [],
   "source": [
    "from scipy import stats"
   ]
  },
  {
   "cell_type": "markdown",
   "metadata": {},
   "source": [
    "## 🔹 [Wilcoxon 부호 순위 검정 실전 문제]\n",
    "\n",
    "### 📝 문제:\n",
    "\n",
    "한 체력 센터에서는 **운동 프로그램이 체력에 미치는 효과**를 알아보기 위해  \n",
    "참가자 10명의 **운동 전/후 심폐지구력 점수**를 측정하였다.  \n",
    "점수 차이는 정규성을 만족하지 않는 것으로 나타났다.\n",
    "\n",
    "### 📦 운동 전 점수:\n",
    "```\n",
    "52, 47, 55, 49, 50, 48, 46, 51, 53, 49\n",
    "```\n",
    "\n",
    "### 📦 운동 후 점수:\n",
    "```\n",
    "58, 50, 57, 53, 54, 51, 47, 55, 56, 52\n",
    "```"
   ]
  },
  {
   "cell_type": "code",
   "execution_count": 2,
   "metadata": {},
   "outputs": [],
   "source": [
    "before = [52, 47, 55, 49, 50, 48, 46, 51, 53, 49]\n",
    "after  = [58, 50, 57, 53, 54, 51, 47, 55, 56, 52]"
   ]
  },
  {
   "cell_type": "code",
   "execution_count": 3,
   "metadata": {},
   "outputs": [],
   "source": [
    "H0 = '운동 전/후 심폐지구력 차이가 없다.'\n",
    "H1 = '운동 전/후 심폐지구력 차이가 있다.'"
   ]
  },
  {
   "cell_type": "code",
   "execution_count": 4,
   "metadata": {},
   "outputs": [
    {
     "name": "stdout",
     "output_type": "stream",
     "text": [
      "p_value : 0.001953125\n",
      "운동 전/후 심폐지구력 차이가 있다.\n"
     ]
    }
   ],
   "source": [
    "statistic, p_value = stats.wilcoxon(before, after, alternative='two-sided')\n",
    "print(f'p_value : {p_value}')\n",
    "if 0.05 < p_value:\n",
    "    print(H0)\n",
    "else:\n",
    "    print(H1)"
   ]
  },
  {
   "cell_type": "code",
   "execution_count": null,
   "metadata": {},
   "outputs": [],
   "source": []
  }
 ],
 "metadata": {
  "kernelspec": {
   "display_name": "general",
   "language": "python",
   "name": "python3"
  },
  "language_info": {
   "codemirror_mode": {
    "name": "ipython",
    "version": 3
   },
   "file_extension": ".py",
   "mimetype": "text/x-python",
   "name": "python",
   "nbconvert_exporter": "python",
   "pygments_lexer": "ipython3",
   "version": "3.11.5"
  }
 },
 "nbformat": 4,
 "nbformat_minor": 2
}
