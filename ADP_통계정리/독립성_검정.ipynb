{
 "cells": [
  {
   "cell_type": "code",
   "execution_count": 1,
   "metadata": {},
   "outputs": [],
   "source": [
    "import numpy as np\n",
    "import pandas as pd\n",
    "from scipy import stats"
   ]
  },
  {
   "cell_type": "markdown",
   "metadata": {},
   "source": [
    "## 🔹 [피셔의 정확 검정 실전 문제]\n",
    "\n",
    "### 📝 문제:\n",
    "\n",
    "한 병원에서 **신약 투여 여부와 부작용 발생 사이의 관계**를 조사하였다.  \n",
    "다음은 신약을 투여한 그룹과 투여하지 않은 그룹 각각에서 부작용이 발생한 횟수이다:\n",
    "\n",
    "| 그룹 | 부작용 발생 | 부작용 없음 | 합계 |\n",
    "|------|-------------|--------------|------|\n",
    "| 신약 투여 | 1           | 9            | 10   |\n",
    "| 투여 안 함 | 8           | 2            | 10   |\n",
    "\n",
    "→ **신약 투여와 부작용 발생은 관련이 있는가?** (유의수준 0.05)"
   ]
  },
  {
   "cell_type": "code",
   "execution_count": 2,
   "metadata": {},
   "outputs": [
    {
     "data": {
      "text/html": [
       "<div>\n",
       "<style scoped>\n",
       "    .dataframe tbody tr th:only-of-type {\n",
       "        vertical-align: middle;\n",
       "    }\n",
       "\n",
       "    .dataframe tbody tr th {\n",
       "        vertical-align: top;\n",
       "    }\n",
       "\n",
       "    .dataframe thead th {\n",
       "        text-align: right;\n",
       "    }\n",
       "</style>\n",
       "<table border=\"1\" class=\"dataframe\">\n",
       "  <thead>\n",
       "    <tr style=\"text-align: right;\">\n",
       "      <th></th>\n",
       "      <th>부작용발생</th>\n",
       "      <th>부작용없음</th>\n",
       "    </tr>\n",
       "  </thead>\n",
       "  <tbody>\n",
       "    <tr>\n",
       "      <th>투여함</th>\n",
       "      <td>1</td>\n",
       "      <td>9</td>\n",
       "    </tr>\n",
       "    <tr>\n",
       "      <th>투여안함</th>\n",
       "      <td>8</td>\n",
       "      <td>2</td>\n",
       "    </tr>\n",
       "  </tbody>\n",
       "</table>\n",
       "</div>"
      ],
      "text/plain": [
       "      부작용발생  부작용없음\n",
       "투여함       1      9\n",
       "투여안함      8      2"
      ]
     },
     "execution_count": 2,
     "metadata": {},
     "output_type": "execute_result"
    }
   ],
   "source": [
    "df = pd.DataFrame(\n",
    "    [\n",
    "        [1, 9],\n",
    "        [8, 2]\n",
    "    ],\n",
    "    columns=['부작용발생', '부작용없음'],\n",
    "    index=['투여함', '투여안함']\n",
    ")\n",
    "df"
   ]
  },
  {
   "cell_type": "code",
   "execution_count": null,
   "metadata": {},
   "outputs": [],
   "source": [
    "H0 = '신약 투여와 부작용 발생은 관련이 없다 (독립적이다)'\n",
    "H1 = '신약 투여와 부작용 발생은 관련이 있다 (독립적이지 않다)'"
   ]
  },
  {
   "cell_type": "code",
   "execution_count": 4,
   "metadata": {},
   "outputs": [
    {
     "name": "stdout",
     "output_type": "stream",
     "text": [
      "p-value: 0.0055\n",
      "→ 신약 투여와 부작용 발생은 관련이 있다 (독립적이지 않다)\n"
     ]
    }
   ],
   "source": [
    "oddsratio, p_value = stats.fisher_exact(df, alternative='two-sided')\n",
    "print(f\"p-value: {p_value:.4f}\")\n",
    "if p_value < 0.05:\n",
    "    print(f\"→ {H1}\")\n",
    "else:\n",
    "    print(f\"→ {H0}\")"
   ]
  },
  {
   "cell_type": "markdown",
   "metadata": {},
   "source": [
    "## 🔹 [카이제곱 독립성 검정 실전 문제]\n",
    "\n",
    "### 📝 문제:\n",
    "\n",
    "한 리서치 회사는 **성별에 따라 음료 선호도에 차이가 있는지**를 조사했다.  \n",
    "총 200명을 대상으로 다음과 같은 결과가 나왔다:\n",
    "\n",
    "| 성별 | 커피 | 탄산음료 | 주스 | 계 |\n",
    "|------|------|-----------|------|----|\n",
    "| 남성 | 40   | 30        | 20   | 90 |\n",
    "| 여성 | 25   | 45        | 40   |110 |\n",
    "| 계   | 65   | 75        | 60   |200 |"
   ]
  },
  {
   "cell_type": "code",
   "execution_count": 5,
   "metadata": {},
   "outputs": [
    {
     "data": {
      "text/html": [
       "<div>\n",
       "<style scoped>\n",
       "    .dataframe tbody tr th:only-of-type {\n",
       "        vertical-align: middle;\n",
       "    }\n",
       "\n",
       "    .dataframe tbody tr th {\n",
       "        vertical-align: top;\n",
       "    }\n",
       "\n",
       "    .dataframe thead th {\n",
       "        text-align: right;\n",
       "    }\n",
       "</style>\n",
       "<table border=\"1\" class=\"dataframe\">\n",
       "  <thead>\n",
       "    <tr style=\"text-align: right;\">\n",
       "      <th></th>\n",
       "      <th>커피</th>\n",
       "      <th>탄산음료</th>\n",
       "      <th>주스</th>\n",
       "    </tr>\n",
       "  </thead>\n",
       "  <tbody>\n",
       "    <tr>\n",
       "      <th>남성</th>\n",
       "      <td>40</td>\n",
       "      <td>30</td>\n",
       "      <td>20</td>\n",
       "    </tr>\n",
       "    <tr>\n",
       "      <th>여성</th>\n",
       "      <td>25</td>\n",
       "      <td>45</td>\n",
       "      <td>40</td>\n",
       "    </tr>\n",
       "  </tbody>\n",
       "</table>\n",
       "</div>"
      ],
      "text/plain": [
       "    커피  탄산음료  주스\n",
       "남성  40    30  20\n",
       "여성  25    45  40"
      ]
     },
     "execution_count": 5,
     "metadata": {},
     "output_type": "execute_result"
    }
   ],
   "source": [
    "columns = ['커피', '탄산음료', '주스']\n",
    "index = ['남성', '여성']\n",
    "data = [\n",
    "    [40, 30, 20],\n",
    "    [25, 45, 40],\n",
    "]\n",
    "df = pd.DataFrame(\n",
    "    data=data, columns=columns, index=index,\n",
    ")\n",
    "df"
   ]
  },
  {
   "cell_type": "code",
   "execution_count": 6,
   "metadata": {},
   "outputs": [],
   "source": [
    "H0 = '성별과 음료 선호간 유의미한 차이가 없다.'\n",
    "H1 = '성별과 음료 선호간 유의미한 차이가 있다.'"
   ]
  },
  {
   "cell_type": "code",
   "execution_count": 7,
   "metadata": {},
   "outputs": [],
   "source": [
    "chi_statistic, p_value, dof, expected = stats.chi2_contingency(df)"
   ]
  },
  {
   "cell_type": "code",
   "execution_count": 8,
   "metadata": {},
   "outputs": [
    {
     "name": "stdout",
     "output_type": "stream",
     "text": [
      "chi_statistic   : 11.240611240611242\n",
      "chi_critical    : 5.99146454710798\n",
      "성별과 음료 선호간 유의미한 차이가 있다.\n"
     ]
    }
   ],
   "source": [
    "# 통계값 검정\n",
    "chi_critical = stats.chi2.ppf(1 - 0.05, df=dof)\n",
    "\n",
    "print(f'chi_statistic   : {chi_statistic}')\n",
    "print(f'chi_critical    : {chi_critical}')\n",
    "\n",
    "if chi_statistic < chi_critical:\n",
    "    print(H0)\n",
    "else:\n",
    "    print(H1)"
   ]
  },
  {
   "cell_type": "code",
   "execution_count": 9,
   "metadata": {},
   "outputs": [
    {
     "name": "stdout",
     "output_type": "stream",
     "text": [
      "p_value   : 0.0036235335143025974\n",
      "성별과 음료 선호간 유의미한 차이가 있다.\n"
     ]
    }
   ],
   "source": [
    "# p_value 검정\n",
    "chi_critical = stats.chi2.ppf(1 - 0.05, df=dof)\n",
    "\n",
    "print(f'p_value   : {p_value}')\n",
    "\n",
    "if 0.05 < p_value:\n",
    "    print(H0)\n",
    "else:\n",
    "    print(H1)"
   ]
  },
  {
   "cell_type": "code",
   "execution_count": 10,
   "metadata": {},
   "outputs": [
    {
     "name": "stdout",
     "output_type": "stream",
     "text": [
      "Observed Table\n"
     ]
    },
    {
     "data": {
      "text/html": [
       "<div>\n",
       "<style scoped>\n",
       "    .dataframe tbody tr th:only-of-type {\n",
       "        vertical-align: middle;\n",
       "    }\n",
       "\n",
       "    .dataframe tbody tr th {\n",
       "        vertical-align: top;\n",
       "    }\n",
       "\n",
       "    .dataframe thead th {\n",
       "        text-align: right;\n",
       "    }\n",
       "</style>\n",
       "<table border=\"1\" class=\"dataframe\">\n",
       "  <thead>\n",
       "    <tr style=\"text-align: right;\">\n",
       "      <th></th>\n",
       "      <th>커피</th>\n",
       "      <th>탄산음료</th>\n",
       "      <th>주스</th>\n",
       "    </tr>\n",
       "  </thead>\n",
       "  <tbody>\n",
       "    <tr>\n",
       "      <th>남성</th>\n",
       "      <td>40</td>\n",
       "      <td>30</td>\n",
       "      <td>20</td>\n",
       "    </tr>\n",
       "    <tr>\n",
       "      <th>여성</th>\n",
       "      <td>25</td>\n",
       "      <td>45</td>\n",
       "      <td>40</td>\n",
       "    </tr>\n",
       "  </tbody>\n",
       "</table>\n",
       "</div>"
      ],
      "text/plain": [
       "    커피  탄산음료  주스\n",
       "남성  40    30  20\n",
       "여성  25    45  40"
      ]
     },
     "metadata": {},
     "output_type": "display_data"
    },
    {
     "name": "stdout",
     "output_type": "stream",
     "text": [
      "EV Table\n"
     ]
    },
    {
     "data": {
      "text/html": [
       "<div>\n",
       "<style scoped>\n",
       "    .dataframe tbody tr th:only-of-type {\n",
       "        vertical-align: middle;\n",
       "    }\n",
       "\n",
       "    .dataframe tbody tr th {\n",
       "        vertical-align: top;\n",
       "    }\n",
       "\n",
       "    .dataframe thead th {\n",
       "        text-align: right;\n",
       "    }\n",
       "</style>\n",
       "<table border=\"1\" class=\"dataframe\">\n",
       "  <thead>\n",
       "    <tr style=\"text-align: right;\">\n",
       "      <th></th>\n",
       "      <th>커피</th>\n",
       "      <th>탄산음료</th>\n",
       "      <th>주스</th>\n",
       "    </tr>\n",
       "  </thead>\n",
       "  <tbody>\n",
       "    <tr>\n",
       "      <th>남성</th>\n",
       "      <td>29.25</td>\n",
       "      <td>33.75</td>\n",
       "      <td>27.0</td>\n",
       "    </tr>\n",
       "    <tr>\n",
       "      <th>여성</th>\n",
       "      <td>35.75</td>\n",
       "      <td>41.25</td>\n",
       "      <td>33.0</td>\n",
       "    </tr>\n",
       "  </tbody>\n",
       "</table>\n",
       "</div>"
      ],
      "text/plain": [
       "       커피   탄산음료    주스\n",
       "남성  29.25  33.75  27.0\n",
       "여성  35.75  41.25  33.0"
      ]
     },
     "metadata": {},
     "output_type": "display_data"
    }
   ],
   "source": [
    "# Ev_table\n",
    "print('Observed Table')\n",
    "display(df)\n",
    "print('EV Table')\n",
    "display(pd.DataFrame(expected, columns=df.columns, index=df.index))"
   ]
  },
  {
   "cell_type": "code",
   "execution_count": 11,
   "metadata": {},
   "outputs": [
    {
     "name": "stdout",
     "output_type": "stream",
     "text": [
      "Standardized Residuals\n"
     ]
    },
    {
     "data": {
      "text/html": [
       "<div>\n",
       "<style scoped>\n",
       "    .dataframe tbody tr th:only-of-type {\n",
       "        vertical-align: middle;\n",
       "    }\n",
       "\n",
       "    .dataframe tbody tr th {\n",
       "        vertical-align: top;\n",
       "    }\n",
       "\n",
       "    .dataframe thead th {\n",
       "        text-align: right;\n",
       "    }\n",
       "</style>\n",
       "<table border=\"1\" class=\"dataframe\">\n",
       "  <thead>\n",
       "    <tr style=\"text-align: right;\">\n",
       "      <th></th>\n",
       "      <th>커피</th>\n",
       "      <th>탄산음료</th>\n",
       "      <th>주스</th>\n",
       "    </tr>\n",
       "  </thead>\n",
       "  <tbody>\n",
       "    <tr>\n",
       "      <th>남성</th>\n",
       "      <td>1.987676</td>\n",
       "      <td>-0.645497</td>\n",
       "      <td>-1.347151</td>\n",
       "    </tr>\n",
       "    <tr>\n",
       "      <th>여성</th>\n",
       "      <td>-1.797920</td>\n",
       "      <td>0.583874</td>\n",
       "      <td>1.218544</td>\n",
       "    </tr>\n",
       "  </tbody>\n",
       "</table>\n",
       "</div>"
      ],
      "text/plain": [
       "          커피      탄산음료        주스\n",
       "남성  1.987676 -0.645497 -1.347151\n",
       "여성 -1.797920  0.583874  1.218544"
      ]
     },
     "metadata": {},
     "output_type": "display_data"
    }
   ],
   "source": [
    "# 표준화 잔차\n",
    "residuals = (df - expected) / np.sqrt(expected)\n",
    "print(\"Standardized Residuals\")\n",
    "display(pd.DataFrame(residuals, columns=df.columns, index=df.index))"
   ]
  },
  {
   "cell_type": "code",
   "execution_count": null,
   "metadata": {},
   "outputs": [],
   "source": []
  }
 ],
 "metadata": {
  "kernelspec": {
   "display_name": "general",
   "language": "python",
   "name": "python3"
  },
  "language_info": {
   "codemirror_mode": {
    "name": "ipython",
    "version": 3
   },
   "file_extension": ".py",
   "mimetype": "text/x-python",
   "name": "python",
   "nbconvert_exporter": "python",
   "pygments_lexer": "ipython3",
   "version": "3.11.5"
  }
 },
 "nbformat": 4,
 "nbformat_minor": 2
}
