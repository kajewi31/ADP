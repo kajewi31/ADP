{
 "cells": [
  {
   "cell_type": "code",
   "execution_count": 1,
   "metadata": {},
   "outputs": [],
   "source": [
    "from scipy import stats"
   ]
  },
  {
   "cell_type": "markdown",
   "metadata": {},
   "source": [
    "\n",
    "## 🔹 [Kruskal-Wallis 검정 실전 문제]\n",
    "\n",
    "### 📝 문제:\n",
    "\n",
    "한 교육기관에서는 **세 가지 학습 방식(A, B, C)**이 학생들의 성적에 어떤 영향을 주는지 실험을 진행했다.  \n",
    "각 학습 방식을 적용한 후 학생들의 시험 점수를 측정했고,  \n",
    "정규성과 등분산성은 만족하지 않았다.\n",
    "\n",
    "아래는 각 그룹의 점수 데이터이다:\n",
    "\n",
    "---\n",
    "\n",
    "### 📦 그룹 A (온라인 강의):\n",
    "```\n",
    "82, 85, 88, 90, 84, 86\n",
    "```\n",
    "\n",
    "### 📦 그룹 B (혼합형 수업):\n",
    "```\n",
    "78, 81, 79, 77, 80, 82\n",
    "```\n",
    "\n",
    "### 📦 그룹 C (오프라인 강의):\n",
    "```\n",
    "70, 74, 72, 68, 75, 73\n",
    "```"
   ]
  },
  {
   "cell_type": "code",
   "execution_count": 2,
   "metadata": {},
   "outputs": [],
   "source": [
    "a = [82, 85, 88, 90, 84, 86]\n",
    "b = [78, 81, 79, 77, 80, 82]\n",
    "c = [70, 74, 72, 68, 75, 73]"
   ]
  },
  {
   "cell_type": "code",
   "execution_count": 3,
   "metadata": {},
   "outputs": [],
   "source": [
    "H0 = '학습방식에 따른 성적 차이가 없다.'\n",
    "H1 = '학습방식에 따른 성적 차이가 있다.'"
   ]
  },
  {
   "cell_type": "code",
   "execution_count": 4,
   "metadata": {},
   "outputs": [
    {
     "name": "stdout",
     "output_type": "stream",
     "text": [
      "p_value : 0.000562641186420097\n",
      "학습방식에 따른 성적 차이가 있다.\n"
     ]
    }
   ],
   "source": [
    "statistic, p_value = stats.kruskal(a, b, c)\n",
    "print(f'p_value : {p_value}')\n",
    "if 0.05 < p_value:\n",
    "    print(H0)\n",
    "else:\n",
    "    print(H1)"
   ]
  }
 ],
 "metadata": {
  "kernelspec": {
   "display_name": "general",
   "language": "python",
   "name": "python3"
  },
  "language_info": {
   "codemirror_mode": {
    "name": "ipython",
    "version": 3
   },
   "file_extension": ".py",
   "mimetype": "text/x-python",
   "name": "python",
   "nbconvert_exporter": "python",
   "pygments_lexer": "ipython3",
   "version": "3.11.5"
  }
 },
 "nbformat": 4,
 "nbformat_minor": 2
}
